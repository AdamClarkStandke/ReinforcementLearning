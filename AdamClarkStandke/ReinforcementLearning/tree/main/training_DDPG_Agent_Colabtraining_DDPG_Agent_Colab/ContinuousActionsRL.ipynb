{
  "cells": [
    {
      "cell_type": "markdown",
      "metadata": {
        "id": "view-in-github",
        "colab_type": "text"
      },
      "source": [
        "<a href=\"https://colab.research.google.com/github/AdamClarkStandke/ReinforcementLearning/blob/main/AdamClarkStandke/ReinforcementLearning/tree/main/training_DDPG_Agent_Colabtraining_DDPG_Agent_Colab/ContinuousActionsRL.ipynb\" target=\"_parent\"><img src=\"https://colab.research.google.com/assets/colab-badge.svg\" alt=\"Open In Colab\"/></a>"
      ]
    },
    {
      "cell_type": "code",
      "execution_count": null,
      "metadata": {
        "id": "Y7KJh9_1d-1V"
      },
      "outputs": [],
      "source": [
        "!pip install -q pybullet\n",
        "!pip install -q ptan\n",
        "!pip install -q tensorboardX"
      ]
    },
    {
      "cell_type": "code",
      "source": [
        "!wget https://raw.githubusercontent.com/AdamClarkStandke/ReinforcementLearning/main/training_DDPG_Agent_Colab/train_ddpg.py"
      ],
      "metadata": {
        "id": "wuHVfSlYXhMp"
      },
      "execution_count": null,
      "outputs": []
    },
    {
      "cell_type": "code",
      "source": [
        "!wget https://raw.githubusercontent.com/AdamClarkStandke/ReinforcementLearning/main/training_DDPG_Agent_Colab/ddpg.py"
      ],
      "metadata": {
        "id": "Dc4W8HQUX8VV"
      },
      "execution_count": null,
      "outputs": []
    },
    {
      "cell_type": "code",
      "source": [
        "!wget https://raw.githubusercontent.com/AdamClarkStandke/ReinforcementLearning/main/training_DDPG_Agent_Colab/microtaur.py"
      ],
      "metadata": {
        "id": "D279ZsVWYJ2H"
      },
      "execution_count": null,
      "outputs": []
    },
    {
      "cell_type": "code",
      "source": [
        "!wget https://raw.githubusercontent.com/AdamClarkStandke/ReinforcementLearning/main/training_DDPG_Agent_Colab/v0.xml"
      ],
      "metadata": {
        "id": "jceu-j-2YKXa"
      },
      "execution_count": null,
      "outputs": []
    },
    {
      "cell_type": "code",
      "source": [
        "# modified robot bases xml class from pybullet\n",
        "!wget https://raw.githubusercontent.com/AdamClarkStandke/ReinforcementLearning/main/training_DDPG_Agent_Colab/robot_bases.py"
      ],
      "metadata": {
        "id": "UkundRLGnUxR"
      },
      "execution_count": null,
      "outputs": []
    },
    {
      "cell_type": "code",
      "source": [
        "!rm /usr/local/lib/python3.8/dist-packages/pybullet_envs/robot_bases.py\n",
        "!mv /content/robot_bases.py  /usr/local/lib/python3.8/dist-packages/pybullet_envs/"
      ],
      "metadata": {
        "id": "w-79F2z-mhdf"
      },
      "execution_count": null,
      "outputs": []
    },
    {
      "cell_type": "code",
      "execution_count": null,
      "metadata": {
        "id": "_umYxt2s7Zc7"
      },
      "outputs": [],
      "source": [
        "!python3 train_ddpg.py -n v0_model --cuda --reward MoveForward --zero-yaw"
      ]
    }
  ],
  "metadata": {
    "accelerator": "GPU",
    "colab": {
      "provenance": [],
      "mount_file_id": "10d26SsoZpDjHYncbhsaRbFTP3Zy0dEVe",
      "authorship_tag": "ABX9TyNvQqDqvSsH22S+CHclY2/S",
      "include_colab_link": true
    },
    "gpuClass": "standard",
    "kernelspec": {
      "display_name": "Python 3",
      "name": "python3"
    },
    "language_info": {
      "name": "python"
    }
  },
  "nbformat": 4,
  "nbformat_minor": 0
}