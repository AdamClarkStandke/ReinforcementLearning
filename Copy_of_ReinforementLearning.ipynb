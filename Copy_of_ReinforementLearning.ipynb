{
  "nbformat": 4,
  "nbformat_minor": 0,
  "metadata": {
    "colab": {
      "name": "Copy of ReinforementLearning.ipynb",
      "provenance": [],
      "collapsed_sections": [],
      "mount_file_id": "1fQv7Phx2Mk6fTzXnMvxjYPFJG9HsegRJ",
      "authorship_tag": "ABX9TyPmALcraZGDNo07jyyr4p2I",
      "include_colab_link": true
    },
    "kernelspec": {
      "name": "python3",
      "display_name": "Python 3"
    },
    "language_info": {
      "name": "python"
    },
    "accelerator": "GPU"
  },
  "cells": [
    {
      "cell_type": "markdown",
      "metadata": {
        "id": "view-in-github",
        "colab_type": "text"
      },
      "source": [
        "<a href=\"https://colab.research.google.com/github/aCStandke/ReinforcementLearning/blob/main/Copy_of_ReinforementLearning.ipynb\" target=\"_parent\"><img src=\"https://colab.research.google.com/assets/colab-badge.svg\" alt=\"Open In Colab\"/></a>"
      ]
    },
    {
      "cell_type": "markdown",
      "source": [
        "\n",
        "# Importing the OpenAI Gym environment for Super Mario Bros\n",
        "\n",
        "That plays on the Nintendo entertainment System(NES) through a nes-py emulator.\n",
        "\n",
        "By default, gym_super_mario_bros \n",
        "environments use the full NES action space of 256 discrete actions. To contstrain this, gym_super_mario_bros.actions provides three actions lists (RIGHT_ONLY, SIMPLE_MOVEMENT, and COMPLEX_MOVEMENT) for the nes_py.wrappers.JoypadSpace wrapper. See gym_super_mario_bros/actions.py for a breakdown of the legal actions in each of these three lists.\n",
        "\n",
        "\n",
        "\n",
        "---\n",
        "\n",
        "\n",
        "Citation: \n",
        "@misc{gym-super-mario-bros,\n",
        "  author = {Christian Kauten},\n",
        "  howpublished = {GitHub},\n",
        "  title = {{S}uper {M}ario {B}ros for {O}pen{AI} {G}ym},\n",
        "  URL = {https://github.com/Kautenja/gym-super-mario-bros},\n",
        "  year = {2018},\n",
        "}\n",
        "\n"
      ],
      "metadata": {
        "id": "6tkuNyB6NhbA"
      }
    },
    {
      "cell_type": "code",
      "source": [
        "!python3 -m pip install gym-super-mario-bros==7.3.0\n",
        "!apt install xvfb -y\n",
        "!pip install pyvirtualdisplay\n",
        "!pip install gym pyvirtualdisplay > /dev/null 2>&1\n",
        "!apt-get install -y xvfb python-opengl ffmpeg > /dev/null 2>&1\n",
        "\n",
        "from pyvirtualdisplay import Display"
      ],
      "metadata": {
        "id": "BfMQPc-JS2dV",
        "colab": {
          "base_uri": "https://localhost:8080/"
        },
        "outputId": "591d9280-ccb4-48e4-b8ba-2268fe98103c"
      },
      "execution_count": 1,
      "outputs": [
        {
          "output_type": "stream",
          "name": "stdout",
          "text": [
            "Requirement already satisfied: gym-super-mario-bros==7.3.0 in /usr/local/lib/python3.7/dist-packages (7.3.0)\n",
            "Requirement already satisfied: nes-py>=8.0.0 in /usr/local/lib/python3.7/dist-packages (from gym-super-mario-bros==7.3.0) (8.1.8)\n",
            "Requirement already satisfied: tqdm>=4.48.2 in /usr/local/lib/python3.7/dist-packages (from nes-py>=8.0.0->gym-super-mario-bros==7.3.0) (4.64.0)\n",
            "Requirement already satisfied: numpy>=1.18.5 in /usr/local/lib/python3.7/dist-packages (from nes-py>=8.0.0->gym-super-mario-bros==7.3.0) (1.21.6)\n",
            "Requirement already satisfied: pyglet<=1.5.11,>=1.4.0 in /usr/local/lib/python3.7/dist-packages (from nes-py>=8.0.0->gym-super-mario-bros==7.3.0) (1.5.0)\n",
            "Requirement already satisfied: gym>=0.17.2 in /usr/local/lib/python3.7/dist-packages (from nes-py>=8.0.0->gym-super-mario-bros==7.3.0) (0.17.3)\n",
            "Requirement already satisfied: scipy in /usr/local/lib/python3.7/dist-packages (from gym>=0.17.2->nes-py>=8.0.0->gym-super-mario-bros==7.3.0) (1.4.1)\n",
            "Requirement already satisfied: cloudpickle<1.7.0,>=1.2.0 in /usr/local/lib/python3.7/dist-packages (from gym>=0.17.2->nes-py>=8.0.0->gym-super-mario-bros==7.3.0) (1.3.0)\n",
            "Requirement already satisfied: future in /usr/local/lib/python3.7/dist-packages (from pyglet<=1.5.11,>=1.4.0->nes-py>=8.0.0->gym-super-mario-bros==7.3.0) (0.16.0)\n",
            "Reading package lists... Done\n",
            "Building dependency tree       \n",
            "Reading state information... Done\n",
            "xvfb is already the newest version (2:1.19.6-1ubuntu4.10).\n",
            "0 upgraded, 0 newly installed, 0 to remove and 48 not upgraded.\n",
            "Requirement already satisfied: pyvirtualdisplay in /usr/local/lib/python3.7/dist-packages (3.0)\n"
          ]
        }
      ]
    },
    {
      "cell_type": "code",
      "source": [
        "!apt-get update > /dev/null 2>&1\n",
        "!apt-get install cmake > /dev/null 2>&1\n",
        "!pip install --upgrade setuptools 2>&1\n",
        "!pip install ez_setup > /dev/null 2>&1\n",
        "!pip install gym[atari] > /dev/null 2>&1"
      ],
      "metadata": {
        "colab": {
          "base_uri": "https://localhost:8080/"
        },
        "id": "oEdpflN5skSF",
        "outputId": "c6f1b1c0-33f9-4227-8f8e-18b9aaf8c246"
      },
      "execution_count": 2,
      "outputs": [
        {
          "output_type": "stream",
          "name": "stdout",
          "text": [
            "Requirement already satisfied: setuptools in /usr/local/lib/python3.7/dist-packages (62.1.0)\n"
          ]
        }
      ]
    },
    {
      "cell_type": "code",
      "execution_count": 3,
      "metadata": {
        "id": "bwrjfZCCP48v"
      },
      "outputs": [],
      "source": [
        "# Installing the required libraries\n",
        "import torch\n",
        "from torch import nn\n",
        "from torchvision import transforms as T\n",
        "from PIL import Image\n",
        "import numpy as np\n",
        "from pathlib import Path\n",
        "from collections import deque\n",
        "import random, datetime, os, copy\n",
        "from IPython import display as ipythondisplay\n",
        "import time, datetime\n",
        "import pickle\n",
        "from tqdm import tqdm\n",
        "import glob\n",
        "import io\n",
        "import base64\n",
        "from IPython.display import HTML\n",
        "\n",
        "\n",
        "\n",
        "# Installing Gym an OpenAI toolkit for RL\n",
        "import gym\n",
        "from gym.spaces import Box\n",
        "from gym.wrappers import FrameStack\n",
        "from gym.wrappers import Monitor\n",
        "\n",
        "# Installing NES Emulator for OpenAI Gym\n",
        "from nes_py.wrappers import JoypadSpace\n",
        "\n",
        "# Installing Super Mario environment for OpenAI Gym\n",
        "import gym_super_mario_bros\n",
        "from gym_super_mario_bros.actions import SIMPLE_MOVEMENT, COMPLEX_MOVEMENT, RIGHT_ONLY\n"
      ]
    },
    {
      "cell_type": "code",
      "source": [
        "display = Display(visible=0, size=(1400, 900))\n",
        "display.start()\n",
        "\n",
        "def show_video():\n",
        "  mp4list = glob.glob('video/*.mp4')\n",
        "  if len(mp4list) > 0:\n",
        "    mp4 = mp4list[0]\n",
        "    video = io.open(mp4, 'r+b').read()\n",
        "    encoded = base64.b64encode(video)\n",
        "    ipythondisplay.display(HTML(data='''<video alt=\"test\" autoplay \n",
        "                loop controls style=\"height: 400px;\">\n",
        "                <source src=\"data:video/mp4;base64,{0}\" type=\"video/mp4\" />\n",
        "             </video>'''.format(encoded.decode('ascii'))))\n",
        "  else: \n",
        "    print(\"Could not find video\")\n",
        "\n",
        "def wrap_env(env):\n",
        "  env = Monitor(env, './video', force=True)\n",
        "  return env"
      ],
      "metadata": {
        "id": "Qyr3YhYetMQq"
      },
      "execution_count": 4,
      "outputs": []
    },
    {
      "cell_type": "markdown",
      "source": [
        "# Initialize the Mario enviornment\n",
        "\n",
        "The mario environment is intialized using the method make(). \n",
        "\n"
      ],
      "metadata": {
        "id": "fupAs_PpQoc-"
      }
    },
    {
      "cell_type": "code",
      "source": [
        "# Initialize Super Mario environment\n",
        "env = wrap_env(gym_super_mario_bros.make(\"SuperMarioBros-1-1-v0\"))"
      ],
      "metadata": {
        "id": "9OhG8jj-iB4m"
      },
      "execution_count": 5,
      "outputs": []
    },
    {
      "cell_type": "markdown",
      "source": [
        "# Preprocessing the Environment\n",
        "\n",
        "Since alot of the environmental information is not necessary(ie., color), Wrappers are used to preprocess the environment data before sending it to the agent/Mario. \n",
        "\n",
        "\n",
        "\n",
        "1.   **SkipFrame Class:**\n",
        "  *   This wrapper inherits from the gym.Wrapper and implements the step() function. Because consecutive frames don’t vary much, we can skip n-intermediate frames without losing much information. The n-th frame aggregates rewards accumulated over each skipped frame.\n",
        "\n",
        "2.   **FrameStack Class:**\n",
        "  *   Is a wrapper that allows us to squash consecutive frames of the environment into a single observation point to feed to our learning model. This way, we can identify if Mario was landing or jumping based on the direction of his movement in the previous several frames. \n",
        "\n",
        "3.   **GrayScaleObservation and ResizeObservation Classes**\n",
        "  *   These wrappers inherit from the gym.ObservationWrapper to first transform an RGB image to grayscale so that one color channel is used. Then the image is downsampled for each observation into a square image\n",
        "\n",
        "4.  **JoypadSpace**\n",
        " *   Because the orginal Mario action space consists of 256 discrete actions, the number of actions that Mario can take is limited by setting the JoypadSpace wrapper to RIGHT_ONLY\n",
        "\n",
        "\n",
        "\n"
      ],
      "metadata": {
        "id": "80Lc38GfUETs"
      }
    },
    {
      "cell_type": "code",
      "source": [
        "class SkipFrame(gym.Wrapper):\n",
        "    def __init__(self, env, skip):\n",
        "        \"\"\"Return only every `skip`-th frame\"\"\"\n",
        "        super().__init__(env)\n",
        "        self._skip = skip\n",
        "\n",
        "    def step(self, action):\n",
        "        \"\"\"Repeat action, and sum reward\"\"\"\n",
        "        total_reward = 0.0\n",
        "        done = False\n",
        "        for i in range(self._skip):\n",
        "            # Accumulate reward and repeat the same action\n",
        "            obs, reward, done, info = self.env.step(action)\n",
        "            total_reward += reward\n",
        "            if done:\n",
        "                break\n",
        "        return obs, reward, done, info\n",
        "\n",
        "\n",
        "class GrayScaleObservation(gym.ObservationWrapper):\n",
        "    def __init__(self, env):\n",
        "        super().__init__(env)\n",
        "        obs_shape = self.observation_space.shape[:2]\n",
        "        self.observation_space = Box(low=0, high=255, shape=obs_shape, dtype=np.uint8)\n",
        "\n",
        "    def permute_orientation(self, observation):\n",
        "        # permute [H, W, C] array to [C, H, W] tensor\n",
        "        observation = np.transpose(observation, (2, 0, 1))\n",
        "        observation = torch.tensor(observation.copy(), dtype=torch.float)\n",
        "        return observation\n",
        "\n",
        "    def observation(self, observation):\n",
        "        observation = self.permute_orientation(observation)\n",
        "        transform = T.Grayscale()\n",
        "        observation = transform(observation)\n",
        "        return observation\n",
        "\n",
        "\n",
        "class ResizeObservation(gym.ObservationWrapper):\n",
        "    def __init__(self, env, shape):\n",
        "        super().__init__(env)\n",
        "        if isinstance(shape, int):\n",
        "            self.shape = (shape, shape)\n",
        "        else:\n",
        "            self.shape = tuple(shape)\n",
        "\n",
        "        obs_shape = self.shape + self.observation_space.shape[2:]\n",
        "        self.observation_space = Box(low=0, high=255, shape=obs_shape, dtype=np.uint8)\n",
        "\n",
        "    def observation(self, observation):\n",
        "        transforms = T.Compose(\n",
        "            [T.Resize(self.shape), T.Normalize(0, 255)]\n",
        "        )\n",
        "        observation = transforms(observation).squeeze(0)\n",
        "        return observation\n",
        "\n",
        "\n",
        "# Apply Wrappers to environment\n",
        "env = SkipFrame(env, skip=4)\n",
        "env = GrayScaleObservation(env)\n",
        "env = ResizeObservation(env, shape=84)\n",
        "env = FrameStack(env, num_stack=4)\n",
        "# Using the RIGHT_ONLY action list for Mario in the environment\n",
        "env = JoypadSpace(env, RIGHT_ONLY)"
      ],
      "metadata": {
        "id": "t_mc5CCkiKAQ"
      },
      "execution_count": 6,
      "outputs": []
    },
    {
      "cell_type": "markdown",
      "source": [
        "# Creating the Mario Agent\n",
        "\n",
        "The Mario Agent should be able to do the following things:\n",
        "\n",
        "1.   **ACT:** Mario should be able to take the most optimal action policy based on the current state of the environment\n",
        "2.   **Remember:** Mario should be able to remember his past actions, to update his action policy. In this case Experience/Memory for Mario =(current state, current action, reward, next state). This is implemented through caching and later recalling his experiences\n",
        "3.   **Learn:** Mario should learn a better action policy overtime \n",
        "\n",
        "\n",
        "\n",
        "---\n",
        "\n",
        "# Act\n",
        "\n",
        "For any given state, Mario can choose to do the most optimal action(called exploit) or a random action(called explore). When Mario chooses to randomly explore this chance is determined by self.exploration_rate; however, when Mario chooses to exploit, Mario relies on MarioNet, which is a DDQN algorithm to get the most optimal action."
      ],
      "metadata": {
        "id": "TnzE9IibYMYF"
      }
    },
    {
      "cell_type": "code",
      "source": [
        "class Mario:\n",
        "    def __init__(self, state_dim, action_dim, save_dir, pretrained):\n",
        "        self.state_dim = state_dim\n",
        "        self.action_dim = action_dim\n",
        "        self.save_dir = save_dir\n",
        "        self.pretrained = pretrained\n",
        "        self.count_explore = 0\n",
        "        self.count_exploit = 0\n",
        "\n",
        "        self.use_cuda = torch.cuda.is_available()\n",
        "\n",
        "        # Mario's DNN to predict the most optimal action when doing exploit\n",
        "        self.net = MarioNet(self.state_dim, self.action_dim).float()\n",
        "        \n",
        "        if self.use_cuda:\n",
        "            self.net = self.net.to(device=\"cuda\")\n",
        "        if self.pretrained:\n",
        "          self.exploration_rate = torch.load('exploration_rate.pth')\n",
        "          self.net.load_state_dict(torch.load(\"model.pth\"))\n",
        "        else:\n",
        "          self.exploration_rate = 1\n",
        "\n",
        "        self.exploration_rate_decay = 0.99\n",
        "        self.exploration_rate_min = 0.01\n",
        "        self.curr_step = 0\n",
        "        self.save_every = 5e5  # no. of experiences between saving Mario Net\n",
        "\n",
        "    def get_exploration_rate(self):\n",
        "      return self.exploration_rate\n",
        "\n",
        "    def act(self, state):\n",
        "        # Given a state, shoose an epsilon-greedy action\n",
        "        # and update value of step\n",
        "\n",
        "        # Inputs:\n",
        "        # state: A single observation of the current state, dim\n",
        "        # is (state_dim)\n",
        "        # Outputs:\n",
        "        # action: an int representing with action Mario will take\n",
        "\n",
        "        # EXPLORE\n",
        "        if np.random.rand() < self.exploration_rate:\n",
        "            action_idx = np.random.randint(self.action_dim)\n",
        "        # EXPLOIT\n",
        "        else:\n",
        "            state = state.__array__()\n",
        "            if self.use_cuda:\n",
        "                state = torch.tensor(state).cuda()\n",
        "            else:\n",
        "                state = torch.tensor(state)\n",
        "            state = state.unsqueeze(0)\n",
        "            action_values = self.net(state, model=\"online\")\n",
        "            action_idx = torch.argmax(action_values, axis=1).item()\n",
        "\n",
        "        # decrease exploration_rate\n",
        "        self.exploration_rate *= self.exploration_rate_decay\n",
        "        self.exploration_rate = max(self.exploration_rate_min, self.exploration_rate)\n",
        "\n",
        "        # increment step\n",
        "        self.curr_step += 1\n",
        "        return action_idx\n"
      ],
      "metadata": {
        "id": "o4EU-jNwihsB"
      },
      "execution_count": 7,
      "outputs": []
    },
    {
      "cell_type": "markdown",
      "source": [
        "# Mario's Memory\n",
        "\n",
        "\n",
        "\n",
        "1.   **Cache function:** Each time Mario performs an action, he stores the experience to his memory. His experience includes the current state, action performed, reward from the action, the next state, and whether the game is done.\n",
        "2.   **Recall function:** Mario randomly samples a batch of experiences from his memory, and uses that to learn the game. "
      ],
      "metadata": {
        "id": "S_BDKzcggXo_"
      }
    },
    {
      "cell_type": "code",
      "source": [
        "class Mario(Mario):  # subclassing for continuity\n",
        "    def __init__(self, state_dim, action_dim, save_dir, pretrained):\n",
        "        super().__init__(state_dim, action_dim, save_dir, pretrained)\n",
        "        \n",
        "        if pretrained:\n",
        "          self.memory = torch.load('memory.pth')\n",
        "        else:\n",
        "          self.memory = deque(maxlen=30000)\n",
        "        self.batch_size = 32\n",
        "       \n",
        "\n",
        "    def cache(self, state, next_state, action, reward, done):\n",
        "        \"\"\"\n",
        "        Store the experience to self.memory (replay buffer)\n",
        "\n",
        "        Inputs:\n",
        "        state (LazyFrame),\n",
        "        next_state (LazyFrame),\n",
        "        action (int),\n",
        "        reward (float),\n",
        "        done(bool))\n",
        "        \"\"\"\n",
        "        state = state.__array__()\n",
        "        next_state = next_state.__array__()\n",
        "        if self.use_cuda:\n",
        "          state = torch.tensor(state).cuda()\n",
        "          next_state = torch.tensor(next_state).cuda()\n",
        "          action = torch.tensor([action]).cuda()\n",
        "          reward = torch.tensor([reward]).cuda()\n",
        "          done = torch.tensor([done]).cuda()\n",
        "        else:\n",
        "          state = torch.tensor(state)\n",
        "          next_state = torch.tensor(next_state)\n",
        "          action = torch.tensor([action])\n",
        "          reward = torch.tensor([reward])\n",
        "          done = torch.tensor([done])\n",
        "\n",
        "        self.memory.append((state, next_state, action, reward, done))\n",
        "\n",
        "\n",
        "    def get_memory(self):\n",
        "      return self.memory\n",
        "\n",
        "\n",
        "    def recall(self):\n",
        "        \"\"\"\n",
        "        Retrieve a batch of experiences from memory\n",
        "        \"\"\"\n",
        "        batch = random.sample(self.memory, self.batch_size)\n",
        "        state, next_state, action, reward, done = map(torch.stack, zip(*batch))\n",
        "        return state, next_state, action.squeeze(), reward.squeeze(), done.squeeze()\n",
        "\n",
        "\n",
        "\n",
        "\n"
      ],
      "metadata": {
        "id": "F6ktYybJloZx"
      },
      "execution_count": 8,
      "outputs": []
    },
    {
      "cell_type": "markdown",
      "source": [
        "# Learning\n",
        "\n",
        "Mario's Action policy for solving sequential decision problems (ie., the machine brain, lol) is the DDQN algorithm as detailed in https://arxiv.org/pdf/1509.06461.pdf[1]\n",
        "\n",
        "\n",
        "---\n",
        "# Double DQN Algorithm\n",
        "The idea of Double Q-learning is to reduce overestimations\n",
        "by decomposing the max operation in the target into action\n",
        "selection and action evaluation[1]. The algorithm evaluates the greedy policy according to the online network and uses the target network to estimate its value[1]. \n",
        "\n",
        "![Screenshot 2022-04-22 3.02.36 PM.png](data:image/png;base64,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)\n",
        "\n",
        "The weights of the second network contain the weights of the target network ***Θₜ-***for the evaluation of the current greedy policy. The update to the target network stays unchanged from\n",
        "DQN, and remains a periodic copy of the online network[1].\n",
        "\n",
        "\n",
        "\n",
        "\n",
        "\n",
        "\n",
        "\n"
      ],
      "metadata": {
        "id": "ys61BIuuh9Ax"
      }
    },
    {
      "cell_type": "code",
      "source": [
        "class MarioNet(nn.Module):\n",
        "    \"\"\"mini cnn structure\n",
        "  input -> (conv2d + relu) x 3 -> flatten -> (dense + relu) x 2 -> output\n",
        "  \"\"\"\n",
        "\n",
        "    def __init__(self, input_dim, output_dim):\n",
        "        super().__init__()\n",
        "        c, h, w = input_dim\n",
        "       \n",
        "\n",
        "        if h != 84:\n",
        "            raise ValueError(f\"Expecting input height: 84, got: {h}\")\n",
        "        if w != 84:\n",
        "            raise ValueError(f\"Expecting input width: 84, got: {w}\")\n",
        "\n",
        "        self.online = nn.Sequential(\n",
        "            nn.Conv2d(in_channels=c, out_channels=32, kernel_size=8, stride=4),\n",
        "            nn.ReLU(),\n",
        "            nn.Conv2d(in_channels=32, out_channels=64, kernel_size=4, stride=2),\n",
        "            nn.ReLU(),\n",
        "            nn.Conv2d(in_channels=64, out_channels=64, kernel_size=3, stride=1),\n",
        "            nn.ReLU(),\n",
        "            nn.Flatten(),\n",
        "            nn.Linear(3136, 512),\n",
        "            nn.ReLU(),\n",
        "            nn.Linear(512, output_dim),\n",
        "        )\n",
        "\n",
        "        self.target = copy.deepcopy(self.online)\n",
        "\n",
        "        # Q_target parameters are frozen.\n",
        "        for p in self.target.parameters():\n",
        "            p.requires_grad = False\n",
        "\n",
        "    def forward(self, input, model):\n",
        "        if model == \"online\":\n",
        "            return self.online(input)\n",
        "        elif model == \"target\":\n",
        "            return self.target(input)"
      ],
      "metadata": {
        "id": "anTD0kHplt0t"
      },
      "execution_count": 9,
      "outputs": []
    },
    {
      "cell_type": "markdown",
      "source": [
        "# TD Estimate & TD Target\n",
        "\n",
        "Two values are involved in learning:\n",
        "**TD Estimate** - the predicted optimal 𝑸* for a given state *s*\n",
        "\n",
        "![Screenshot 2022-04-22 3.37.47 PM.png](data:image/png;base64,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)\n",
        "\n",
        "**TD Target** - aggregation of current reward and the estimated 𝑸* in the next state *s'* \n",
        "\n",
        "\n",
        "![Screenshot 2022-04-22 3.37.59 PM.png](data:image/png;base64,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)\n",
        "\n",
        "![Screenshot 2022-04-22 3.38.06 PM.png](data:image/png;base64,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)"
      ],
      "metadata": {
        "id": "kMr7IQmoxIOP"
      }
    },
    {
      "cell_type": "code",
      "source": [
        "class Mario(Mario):\n",
        "    def __init__(self, state_dim, action_dim, save_dir, pretrained):\n",
        "        super().__init__(state_dim, action_dim, save_dir, pretrained)\n",
        "        self.gamma = 0.9\n",
        " \n",
        "    def td_estimate(self, state, action):\n",
        "        current_Q = self.net(state, model=\"online\")[\n",
        "            np.arange(0, self.batch_size), action\n",
        "        ]  # Q_online(s,a)\n",
        "        return current_Q\n",
        "\n",
        "    @torch.no_grad()\n",
        "    def td_target(self, reward, next_state, done):\n",
        "        next_state_Q = self.net(next_state, model=\"online\")\n",
        "        best_action = torch.argmax(next_state_Q, axis=1)\n",
        "        next_Q = self.net(next_state, model=\"target\")[\n",
        "            np.arange(0, self.batch_size), best_action\n",
        "        ]\n",
        "        return (reward + (1 - done.float()) * self.gamma * next_Q).float()"
      ],
      "metadata": {
        "id": "W31cwaj4l34Y"
      },
      "execution_count": 10,
      "outputs": []
    },
    {
      "cell_type": "markdown",
      "source": [
        "# Updating Double DQN Model \n",
        "\n",
        "As Mario samples inputs from his replay buffer, we compute *TDₜ* and *TDₑ* and backpropagate this loss down Qₒₗᵢₙₑ to update its parameters *θₒₗᵢₙₑ* (α is the learning rate)  \n",
        "​\n",
        "![Screenshot 2022-04-22 4.18.50 PM.png](data:image/png;base64,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)\n",
        "\n",
        "theta_target weights does not get updated during backpropogation, instead rather weights from online are assigned to the weights to the target\n",
        "![Screenshot 2022-04-22 4.23.55 PM.png](data:image/png;base64,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)\n"
      ],
      "metadata": {
        "id": "j2iHHwP_0asM"
      }
    },
    {
      "cell_type": "code",
      "source": [
        "class Mario(Mario):\n",
        "    def __init__(self, state_dim, action_dim, save_dir, pretrained):\n",
        "        super().__init__(state_dim, action_dim, save_dir, pretrained)\n",
        "        self.optimizer = torch.optim.Adam(self.net.parameters(), lr=0.00025)\n",
        "        self.loss_fn = torch.nn.SmoothL1Loss()\n",
        "\n",
        "    def update_Q_online(self, td_estimate, td_target):\n",
        "        loss = self.loss_fn(td_estimate, td_target)\n",
        "        self.optimizer.zero_grad()\n",
        "        loss.backward()\n",
        "        self.optimizer.step()\n",
        "        return loss.item()\n",
        "\n",
        "    def sync_Q_target(self):\n",
        "        self.net.target.load_state_dict(self.net.online.state_dict())"
      ],
      "metadata": {
        "id": "zGNufdN60Lr6"
      },
      "execution_count": 11,
      "outputs": []
    },
    {
      "cell_type": "markdown",
      "source": [
        "# Training the Mario Agent!\n",
        "\n",
        "Mario was trained for 3000 episodes on the GPU and the Double DQN model was saved along with the state, reward, actions, and done"
      ],
      "metadata": {
        "id": "XTaUkaAH9v1m"
      }
    },
    {
      "cell_type": "code",
      "source": [
        "class Mario(Mario):\n",
        "    def __init__(self, state_dim, action_dim, save_dir, pretrained):\n",
        "        super().__init__(state_dim, action_dim, save_dir, pretrained)\n",
        "        self.burnin = 1e4  # min. experiences before training\n",
        "        self.learn_every = 3  # no. of experiences between updates to Q_online\n",
        "        self.sync_every = 1e4  # no. of experiences between Q_target & Q_online sync\n",
        "\n",
        "    def learn(self):\n",
        "        if self.curr_step % self.sync_every == 0:\n",
        "            self.sync_Q_target()\n",
        "\n",
        "        if self.curr_step < self.burnin:\n",
        "            return None, None\n",
        "\n",
        "        if self.curr_step % self.learn_every != 0:\n",
        "            return None, None\n",
        "\n",
        "        # Sample from memory\n",
        "        state, next_state, action, reward, done = self.recall()\n",
        "\n",
        "        # Get TD Estimate\n",
        "        td_est = self.td_estimate(state, action)\n",
        "\n",
        "        # Get TD Target\n",
        "        td_tgt = self.td_target(reward, next_state, done)\n",
        "\n",
        "        # Backpropagate loss through Q_online\n",
        "        loss = self.update_Q_online(td_est, td_tgt)\n",
        "\n",
        "        return (td_est.mean().item(), loss)"
      ],
      "metadata": {
        "id": "hGrzDCy4mjcI"
      },
      "execution_count": 12,
      "outputs": []
    },
    {
      "cell_type": "code",
      "source": [
        "def run(training_mode, pretrained, num_episodes=1):\n",
        "  use_cuda = torch.cuda.is_available()\n",
        "  print(f\"Using CUDA: {use_cuda}\")\n",
        "  print()\n",
        "\n",
        "  save_dir = Path(\"checkpoints\") / datetime.datetime.now().strftime(\"%Y-%m-%dT%H-%M-%S\")\n",
        "  save_dir.mkdir(parents=True)\n",
        "  mario = Mario(state_dim=(4, 84, 84), action_dim=env.action_space.n, save_dir=save_dir, pretrained=pretrained)\n",
        "\n",
        "  \n",
        "  total_rewards =[]\n",
        "  for e in tqdm(range(num_episodes)):\n",
        "    state = env.reset()\n",
        "    total_reward = 0\n",
        "    STATE = state\n",
        "    ACTION = None\n",
        "    REWARD = None\n",
        "    NEXT_STATE = None\n",
        "    DONE = None\n",
        "    # Play the game!\n",
        "    while True:\n",
        "          env.render()\n",
        "          action = mario.act(state)\n",
        "          # Agent performs action\n",
        "          next_state, reward, done, info = env.step(action)\n",
        "          total_reward += reward\n",
        "          STATE = state\n",
        "          ACTION = action\n",
        "          REWARD = reward\n",
        "          NEXT_STATE = next_state\n",
        "          DONE = done\n",
        "          if training_mode:\n",
        "            # Remember\n",
        "            mario.cache(state, next_state, action, reward, done)\n",
        "            # Learn\n",
        "            q, loss = mario.learn()\n",
        "          # Update state\n",
        "          state = next_state\n",
        "          # Check if end of game\n",
        "          if done or info[\"flag_get\"]:\n",
        "            break\n",
        "\n",
        "    total_rewards.append(total_reward)\n",
        "    if e != 0 and e % 100 == 0:\n",
        "      print(\"Episode {} score = {}, average score = {}\".format(e + 1, total_rewards[-1], np.mean(total_rewards)))\n",
        "\n",
        "  print(\"Episode {} score = {}, average score = {}\".format(e + 1, total_rewards[-1], np.mean(total_rewards)))\n",
        "  \n",
        "  if training_mode:\n",
        "    torch.save(mario.net.state_dict(), \"model.pth\")\n",
        "    torch.save(mario.get_exploration_rate(), \"exploration_rate.pth\")\n",
        "    torch.save(mario.get_memory(), \"memory.pth\")\n",
        "  env.close()\n",
        "  show_video()\n"
      ],
      "metadata": {
        "id": "Amq6AoQDmrgp"
      },
      "execution_count": 13,
      "outputs": []
    },
    {
      "cell_type": "code",
      "source": [
        "# runing the game and then testing the game\n",
        "run(training_mode=True, pretrained=False, num_episodes=1)"
      ],
      "metadata": {
        "id": "9NeOcPPok-lE",
        "colab": {
          "base_uri": "https://localhost:8080/",
          "height": 556
        },
        "outputId": "b64d278c-5d39-4516-b1be-6da4b86407c7"
      },
      "execution_count": 14,
      "outputs": [
        {
          "output_type": "stream",
          "name": "stdout",
          "text": [
            "Using CUDA: False\n",
            "\n"
          ]
        },
        {
          "output_type": "stream",
          "name": "stderr",
          "text": [
            "\r  0%|          | 0/1 [00:00<?, ?it/s]/usr/local/lib/python3.7/dist-packages/gym_super_mario_bros/smb_env.py:148: RuntimeWarning: overflow encountered in ubyte_scalars\n",
            "  return (self.ram[0x86] - self.ram[0x071c]) % 256\n",
            "100%|██████████| 1/1 [00:02<00:00,  2.86s/it]\n"
          ]
        },
        {
          "output_type": "stream",
          "name": "stdout",
          "text": [
            "Episode 1 score = 54, average score = 54.0\n"
          ]
        },
        {
          "output_type": "display_data",
          "data": {
            "text/plain": [
              "<IPython.core.display.HTML object>"
            ],
            "text/html": [
              "<video alt=\"test\" autoplay \n",
              "                loop controls style=\"height: 400px;\">\n",
              "                <source src=\"data:video/mp4;base64,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\" type=\"video/mp4\" />\n",
              "             </video>"
            ]
          },
          "metadata": {}
        }
      ]
    }
  ]
}