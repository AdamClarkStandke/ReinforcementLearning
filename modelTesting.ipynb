{
  "cells": [
    {
      "cell_type": "markdown",
      "metadata": {
        "id": "view-in-github",
        "colab_type": "text"
      },
      "source": [
        "<a href=\"https://colab.research.google.com/github/aCStandke/ReinforcementLearning/blob/main/modelTesting.ipynb\" target=\"_parent\"><img src=\"https://colab.research.google.com/assets/colab-badge.svg\" alt=\"Open In Colab\"/></a>"
      ]
    },
    {
      "cell_type": "code",
      "execution_count": 58,
      "metadata": {
        "id": "R2FNp7qQfzB3"
      },
      "outputs": [],
      "source": [
        "# ignore warning messages because they are annoying lol\n",
        "import warnings\n",
        "warnings.filterwarnings('ignore')\n",
        "\n",
        "!pip install -q stable-baselines3[extra] # reinforcement learning library\n",
        "!pip install -q optuna; # hyperparameter library\n",
        "!pip install -q --upgrade importlib-metadata==4.13.0 # for backwards compatibility issue\n",
        "!pip install -q empyrical # financial calculation library\n",
        "!pip install -q yfinance # yahoo finance for test data"
      ]
    },
    {
      "cell_type": "code",
      "execution_count": 8,
      "metadata": {
        "id": "Qyt-HqL-f2iV"
      },
      "outputs": [],
      "source": [
        "import random\n",
        "import gym \n",
        "from gym import spaces\n",
        "from gym.utils import seeding\n",
        "import pandas as pd\n",
        "import numpy as np\n",
        "import seaborn as sns\n",
        "import json\n",
        "import datetime as dt\n",
        "import optuna\n",
        "from typing import Callable, Dict, List, Optional, Tuple, Type, Union\n",
        "from stable_baselines3 import PPO\n",
        "from stable_baselines3.common.utils import constant_fn\n",
        "from stable_baselines3.common.policies import ActorCriticPolicy\n",
        "from stable_baselines3.common.torch_layers import BaseFeaturesExtractor\n",
        "from stable_baselines3.common.env_util import DummyVecEnv\n",
        "from stable_baselines3.common.callbacks import EvalCallback\n",
        "from stable_baselines3.common.env_checker import VecCheckNan, check_env\n",
        "from stable_baselines3.common.callbacks import BaseCallback, CallbackList, StopTrainingOnRewardThreshold\n",
        "from stable_baselines3.common.logger import configure\n",
        "from stable_baselines3.common.callbacks import ProgressBarCallback\n",
        "from empyrical import sortino_ratio, omega_ratio\n",
        "import sqlite3\n",
        "from sqlite3 import Error\n",
        "import torch as th\n",
        "import torch.nn as nn\n",
        "from torch.distributions.categorical import Categorical\n",
        "import collections\n",
        "import datetime\n",
        "from sklearn import preprocessing\n",
        "from sklearn.model_selection import train_test_split\n",
        "import math\n",
        "import os\n",
        "import csv\n",
        "from csv import DictWriter\n",
        "from matplotlib import style\n",
        "import yfinance as yf\n",
        "import matplotlib.pyplot as plt\n",
        "import re\n",
        "import plotly.graph_objects as go\n",
        "from plotly.subplots import make_subplots"
      ]
    },
    {
      "cell_type": "code",
      "execution_count": 4,
      "metadata": {
        "colab": {
          "base_uri": "https://localhost:8080/"
        },
        "id": "o8LepWiJiJqB",
        "outputId": "ee6381d9-1012-49cd-d6bc-cc25e49d0146"
      },
      "outputs": [
        {
          "output_type": "stream",
          "name": "stdout",
          "text": [
            "[*********************100%***********************]  1 of 1 completed\n",
            "[*********************100%***********************]  1 of 1 completed\n"
          ]
        }
      ],
      "source": [
        "'getting training and test data'\n",
        "T = 'iyt' # ticker for agent to trade in\n",
        "train_start = \"2004-01-01\" \n",
        "train_end = \"2017-12-12\"   \n",
        "test_start = \"2018-01-01\"\n",
        "test_end = \"2019-01-01\"\n",
        "train_data = yf.download(tickers=T, start=train_start, end=train_end)\n",
        "test_data =  yf.download(tickers=T, start=test_start, end=test_end)"
      ]
    },
    {
      "cell_type": "code",
      "execution_count": 59,
      "metadata": {
        "id": "rulHF3qy1XJE"
      },
      "outputs": [],
      "source": [
        "# train_data.shape\n",
        "# test_data.shape"
      ]
    },
    {
      "cell_type": "code",
      "execution_count": 9,
      "metadata": {
        "id": "dJiMYPDIAj3y"
      },
      "outputs": [],
      "source": [
        "'Environment Parmaters'\n",
        "# stock environment parameters\n",
        "MAX_ACCOUNT_BALANCE = 2147483647 \n",
        "MAX_NUM_SHARES = 2147483647\n",
        "MAX_SHARE_PRICE = 4294967295\n",
        "LOOKBACK_WINDOW_SIZE = 30 # trading window, default is 30 frames \n",
        "MAX_STEPS = 1e4 # num of iterations, default is 10 mil\n",
        "INITIAL_ACCOUNT_BALANCE = 10000 # starting balance and networth\n",
        "# default percentage of stock price trading agent pays broker when \n",
        "# buying/selling, default is 0.1% (i.e. very reasonable)\n",
        "DA_COMMISION = 0.1\n",
        "# validation frequency\n",
        "FEQ = MAX_STEPS/10\n",
        "# the number of concurrent environments for training  \n",
        "ENV = 3\n",
        "MODEL = T\n",
        "\n",
        "# Trading Enviornment\n",
        "class StockTradingEnv(gym.Env):\n",
        "    \"\"\"A stock trading environment for OpenAI gym\"\"\"\n",
        "    metadata = {'render.modes': ['human']}\n",
        "\n",
        "    def __init__(self, data, title, reward_func='sortinoRewardRatio', r=False, random=True, volumes=True):\n",
        "        super(StockTradingEnv, self).__init__()\n",
        "        self.data = data\n",
        "        self.random_ofs_on_reset = random\n",
        "        self.reward_func = reward_func\n",
        "        self.bars_count = LOOKBACK_WINDOW_SIZE\n",
        "        self.commission = DA_COMMISION\n",
        "        self.title = title\n",
        "        self.volumes = volumes\n",
        "        self._render_ja = r\n",
        "        \n",
        "        # Actions of the format Buy x%, Sell x%, Hold x%\n",
        "        # the action space is 3 x 10 = 30 that agent can execute\n",
        "        self.action_space = spaces.MultiDiscrete([3, 10])\n",
        "\n",
        "        # Prices contains the OHCL values for the last five prices the \n",
        "        # observation space is 6 x 10 = 60 that agent can observe\n",
        "        self.observation_space = spaces.Box(\n",
        "            low=-np.inf, high=np.inf, shape=self.shape, dtype=np.float32)\n",
        "        \n",
        "        # setting random seed\n",
        "        self.seed()\n",
        "\n",
        "        # creating header for text output\n",
        "        if self._render_ja == True:\n",
        "          header = \"Time, Networth, Balence, SharesHeld\"\n",
        "          with open(self.title, 'a') as f:\n",
        "            f.write(header + \"\\n\")\n",
        "            f.close\n",
        "\n",
        "    def reset(self):\n",
        "      # random offset portion \n",
        "      bars = self.bars_count\n",
        "      if self.random_ofs_on_reset:\n",
        "        offset = self.np_random.choice(self.data.high.shape[0]-bars*10)+bars\n",
        "      else:\n",
        "        offset = bars\n",
        "      self._reset(offset)\n",
        "      return self._next_observation()\n",
        "\n",
        "    def _reset(self, offset):\n",
        "      self.trades = []\n",
        "      self.balance = INITIAL_ACCOUNT_BALANCE\n",
        "      self.netWorth = INITIAL_ACCOUNT_BALANCE\n",
        "      self.max_net_worth = INITIAL_ACCOUNT_BALANCE\n",
        "      self.shares_held  = 0\n",
        "      self._offset = offset\n",
        "      # setting account history portion\n",
        "      self.account_history = np.repeat([[self.netWorth],\n",
        "                                        [self.balance],\n",
        "                                        [self.shares_held]], self.bars_count, axis=1)\n",
        "\n",
        "    # shape of observation space is 1D\n",
        "    @property\n",
        "    def shape(self):\n",
        "      if self.volumes:\n",
        "        return (8*(3*self.bars_count),)\n",
        "      else:\n",
        "        return (7*(3*self.bars_count),)\n",
        "\n",
        "    def _next_observation(self):\n",
        "      res = np.zeros(shape=self.shape, dtype=np.float32)\n",
        "      shift = 0\n",
        "      for bar_idx in range(-self.bars_count+1, 1):\n",
        "        res[shift] = self.data.open[self._offset + bar_idx]\n",
        "        shift += 1\n",
        "        res[shift] = self.data.high[self._offset + bar_idx]\n",
        "        shift += 1\n",
        "        res[shift] = self.data.low[self._offset + bar_idx]\n",
        "        shift += 1\n",
        "        res[shift] = self.data.close[self._offset + bar_idx]\n",
        "        shift += 1\n",
        "        if self.volumes:\n",
        "          res[shift] = self._prices.volume[self._offset + bar_idx]\n",
        "          shift += 1\n",
        "      for bar_idx in range(-self.bars_count, 0):\n",
        "        res[shift]=self.account_history[0][bar_idx]\n",
        "        shift+=1\n",
        "      for bar_idx in range(-self.bars_count, 0):\n",
        "        res[shift]=self.account_history[1][bar_idx]\n",
        "        shift+=1\n",
        "      for bar_idx in range(-self.bars_count, 0):\n",
        "        res[shift]=self.account_history[2][bar_idx]\n",
        "        shift+=1\n",
        "      return res\n",
        "\n",
        "       \n",
        "    def _take_action(self, action):\n",
        "      reward = 0\n",
        "      current_price = self._cur_close()\n",
        "      action_type = action[0]\n",
        "      amount = action[1]/10\n",
        "\n",
        "      shares_bought = 0\n",
        "      shares_sold = 0\n",
        "      additional_cost = 0\n",
        "      sales = 0\n",
        "\n",
        "      if action_type < 1 and int(self.balance) > 0 and action[1] > 0:\n",
        "        # Buy amount % of balance in shares\n",
        "        total_possible = self.balance / (current_price * (1+self.commission))\n",
        "        shares_bought = total_possible * amount\n",
        "        additional_cost = shares_bought * current_price * (1+self.commission)\n",
        "        self.balance -= additional_cost\n",
        "        self.shares_held += shares_bought\n",
        "        # trading history\n",
        "        if shares_bought > 0:\n",
        "          self.trades.append({'step': self._offset, 'shares': shares_bought, \n",
        "                              'total': additional_cost, 'type': \"buy\"})\n",
        "      if action_type < 2 and int(self.shares_held) > 0 and action[1] > 0:\n",
        "        # Sell amount % of shares held\n",
        "        shares_sold = self.shares_held * amount  \n",
        "        sales = shares_sold * current_price * (1 - self.commission)\n",
        "        self.balance += sales\n",
        "        self.shares_held -= shares_sold\n",
        "        # trading history\n",
        "        if shares_sold > 0:\n",
        "          self.trades.append({'step': self._offset, 'shares': -shares_sold, \n",
        "                              'total': shares_sold * current_price, 'type': \"sell\"})\n",
        "\n",
        "      \n",
        "      self.netWorth = self.balance + self.shares_held * current_price\n",
        "        \n",
        "\n",
        "      # updating account history\n",
        "      self.account_history = np.append(self.account_history, [[self.netWorth],\n",
        "                                                              [self.balance],\n",
        "                                                              [self.shares_held]],axis=1)\n",
        "      \n",
        "      # reward Calculations based off networth history\n",
        "      returns = self.account_history[0][-self.bars_count:]\n",
        "      # calcualtion for ratio based rewards\n",
        "      r = np.diff(returns)\n",
        "      # sortinoRewardRatio\n",
        "      if self.reward_func == 'sortinoRewardRatio':\n",
        "        ratio = sortino_ratio(r, period=\"daily\") # default period daily\n",
        "        reward= ratio \n",
        "        if self.netWorth > self.max_net_worth:\n",
        "          self.max_net_worth = self.netWorth\n",
        "          reward *= 100\n",
        "      # Omega Ratio\n",
        "      elif self.reward_func == 'omegaRewardRatio':\n",
        "        ratio = omega_ratio(r) \n",
        "        reward= ratio\n",
        "        if self.netWorth > self.max_net_worth:\n",
        "          self.max_net_worth = self.netWorth\n",
        "          reward *= 100\n",
        "      # None\n",
        "      else:\n",
        "        reward = sum(r)*10\n",
        "        if self.netWorth > self.max_net_worth:\n",
        "          self.max_net_worth = self.netWorth\n",
        "          reward *= 100\n",
        "      return reward if abs(reward) != np.inf and not np.isnan(reward) else 0\n",
        "\n",
        "      \n",
        "    def _cur_close(self):\n",
        "      \"\"\"\n",
        "      Calculate real close price for the current bar\n",
        "      \"\"\"\n",
        "      return self.data.real_close[self._offset]\n",
        "\n",
        "    def step(self, action):\n",
        "      # Execute one time step within the environment\n",
        "      reward = self._take_action(action)\n",
        "      self._offset += 1\n",
        "      if self._offset >= self.data.close.shape[0]-1 or int(self.netWorth)<1 or int(self.netWorth)>=MAX_ACCOUNT_BALANCE:\n",
        "        done=True\n",
        "      else:\n",
        "        done=False\n",
        "      obs = self._next_observation()\n",
        "      info = {\"Net Worth\":self.netWorth, \"reward\": reward, 'Balance': self.balance}\n",
        "      return obs, reward, done, info\n",
        "\n",
        "    def _render_to_file(self):\n",
        "      with open(self.title, 'a') as f:\n",
        "        f.write(f'{self.data.date[self._offset]},{self.netWorth},{self.balance},{self.shares_held}\\n')\n",
        "        f.close()\n",
        " \n",
        "    def render(self, mode='file', title=\"Agent's Trading Screen\", **kwargs):\n",
        "      # Render the environment to the screen\n",
        "      if mode == 'file':\n",
        "        if self._render_ja == True:\n",
        "          self._render_to_file()\n",
        "\n",
        "\n",
        "    def seed(self, seed=None):\n",
        "      self.np_random, seed1 = seeding.np_random(seed)\n",
        "      seed2 = seeding.hash_seed(seed1+1) % 2**33\n",
        "      return [seed1, seed2]\n"
      ]
    },
    {
      "cell_type": "code",
      "execution_count": 29,
      "metadata": {
        "id": "szUR1sYHHEVl"
      },
      "outputs": [],
      "source": [
        "# create a log-differenced series (i.e. lag one) to create stationary input\n",
        "# as detailed by Jason in his post \n",
        "# https://machinelearningmastery.com/remove-trends-seasonality-difference-transform-python/\n",
        "\n",
        "def difference(dataset, interval=1):\n",
        "\tdiff = list()\n",
        "\tfor i in range(interval, len(dataset)):\n",
        "\t\tvalue = np.log(dataset[i]) - np.log(dataset[i - interval])\n",
        "\t\tdiff.append(value)\n",
        "\treturn diff\n",
        "\n",
        "\n",
        "# training data\n",
        "train_data['Date']=train_data.index\n",
        "data=train_data[['Date', 'Open', 'High', 'Low', 'Close', 'Volume']]\n",
        "\n",
        "# making OHLC data stationary  \n",
        "o = np.array(difference(data['Open'], 1))\n",
        "rh = np.array(difference(data['High'], 1))\n",
        "rl = np.array(difference(data['Low'], 1))\n",
        "rc = np.array(difference(data['Close'], 1))\n",
        "# volumne data\n",
        "vol = data['Volume'].values\n",
        "# year data of year-month-day form\n",
        "dt = data['Date'].array\n",
        "\n",
        "\n",
        "Train_Data = collections.namedtuple('Data', field_names=['date','high', 'low', 'close', 'open', 'volume', 'real_open',  'real_close', 'real_high', 'real_low', 'real_vol'])\n",
        "train = Train_Data(date=dt,high=rh, low=rl, close=rc, open=o, volume=vol, real_open=data['Open'].values, real_close=data['Close'].values, real_high=data['High'].values, real_low=data['Low'].values, real_vol=data['Volume'].values)"
      ]
    },
    {
      "cell_type": "code",
      "execution_count": 30,
      "metadata": {
        "id": "1TdubrWOfamD"
      },
      "outputs": [],
      "source": [
        "# Testing data\n",
        "test_data['Date']=test_data.index\n",
        "data_two=test_data[['Date', 'Open', 'High', 'Low', 'Close', 'Volume']]\n",
        "\n",
        "# making OHLC data stationary  \n",
        "diff_o = np.array(difference(data_two['Open'], 1))\n",
        "diff_h = np.array(difference(data_two['High'], 1))\n",
        "diff_l = np.array(difference(data_two['Low'], 1))\n",
        "diff_c = np.array(difference(data_two['Close'], 1))\n",
        "# volumne data\n",
        "vols = data_two['Volume'].values\n",
        "# year data of year-month-day form\n",
        "date = data_two['Date'].array\n",
        "\n",
        "Test_Data = collections.namedtuple('Data', field_names=['date','high', 'low', 'close', 'open', 'volume', 'real_open', 'real_close', 'real_high', 'real_low', 'real_vol'])\n",
        "test = Test_Data(date=date,high=diff_h, low=diff_l, close=diff_c, open=diff_o, volume=vols, real_open=data_two['Open'].values, real_close=data_two['Close'].values, real_high=data_two['High'].values, real_low=data_two['Low'].values, real_vol=data_two['Volume'].values)"
      ]
    },
    {
      "cell_type": "code",
      "execution_count": 13,
      "metadata": {
        "id": "1hEB-iRM4GLz"
      },
      "outputs": [],
      "source": [
        "def evaluate_policy(model,env,n_eval_episodes=1,deterministic=False):\n",
        "    episode_rewards, networths, episode_balances = [], [], []\n",
        "    for i in range(n_eval_episodes):\n",
        "        done, state = False, None\n",
        "        episode_reward = 0.0\n",
        "        episode_length = 0\n",
        "        episode_balance = 0\n",
        "        networth = 0\n",
        "        obs = env.reset()\n",
        "        while not done:\n",
        "            action, state = model.predict(obs, state=state, deterministic=deterministic)\n",
        "            new_obs, reward, done, _info = env.step(action)\n",
        "            obs = new_obs\n",
        "            episode_reward += reward\n",
        "            episode_balance += _info[0]['Balance']\n",
        "            networth += _info[0]['Net Worth']\n",
        "        episode_rewards.append(episode_reward)\n",
        "        episode_balances.append(episode_balance)\n",
        "        networths.append(networth)\n",
        "    mean_reward = np.mean(episode_rewards)\n",
        "    mean_networth = np.mean(networths)\n",
        "    mean_balance = np.mean(episode_balances)\n",
        "    return mean_reward, _info[0]['Net Worth'], _info[0]['Balance']\n",
        "\n",
        "\n",
        "class TensorboardCallback(BaseCallback):\n",
        "    def __init__(self, env, eval,  verbose=1):\n",
        "        super(TensorboardCallback, self).__init__(verbose)\n",
        "        self.eval= eval\n",
        "        self.env = env\n",
        "\n",
        "    def _on_step(self):\n",
        "      if (self.num_timesteps % self.eval == 0):\n",
        "        m, net, bal = evaluate_policy(self.model, self.env)\n",
        "        self.logger.record('Last Networth Value', net)\n",
        "        self.logger.record('Last Balance Value', bal)\n",
        "      return True"
      ]
    },
    {
      "cell_type": "code",
      "execution_count": 37,
      "metadata": {
        "id": "cAJYlkEqIwcK",
        "colab": {
          "base_uri": "https://localhost:8080/",
          "height": 229,
          "referenced_widgets": [
            "76ecabbdf87943538058df0c3951e1b3",
            "ab078a573e8f47ceb3d72e9a68008726"
          ]
        },
        "outputId": "a0282c51-ee68-4900-b68d-6885f6bd6a93"
      },
      "outputs": [
        {
          "output_type": "display_data",
          "data": {
            "text/plain": [
              "Output()"
            ],
            "application/vnd.jupyter.widget-view+json": {
              "version_major": 2,
              "version_minor": 0,
              "model_id": "76ecabbdf87943538058df0c3951e1b3"
            }
          },
          "metadata": {}
        },
        {
          "output_type": "display_data",
          "data": {
            "text/plain": [
              "Eval num_timesteps=3000, episode_reward=-1617.13 +/- 0.00\n"
            ],
            "text/html": [
              "<pre style=\"white-space:pre;overflow-x:auto;line-height:normal;font-family:Menlo,'DejaVu Sans Mono',consolas,'Courier New',monospace\">Eval num_timesteps=3000, episode_reward=-1617.13 +/- 0.00\n",
              "</pre>\n"
            ]
          },
          "metadata": {}
        },
        {
          "output_type": "display_data",
          "data": {
            "text/plain": [
              "Episode length: 219.00 +/- 0.00\n"
            ],
            "text/html": [
              "<pre style=\"white-space:pre;overflow-x:auto;line-height:normal;font-family:Menlo,'DejaVu Sans Mono',consolas,'Courier New',monospace\">Episode length: 219.00 +/- 0.00\n",
              "</pre>\n"
            ]
          },
          "metadata": {}
        },
        {
          "output_type": "display_data",
          "data": {
            "text/plain": [
              "New best mean reward!\n"
            ],
            "text/html": [
              "<pre style=\"white-space:pre;overflow-x:auto;line-height:normal;font-family:Menlo,'DejaVu Sans Mono',consolas,'Courier New',monospace\">New best mean reward!\n",
              "</pre>\n"
            ]
          },
          "metadata": {}
        },
        {
          "output_type": "display_data",
          "data": {
            "text/plain": [
              "Eval num_timesteps=6000, episode_reward=-1447.81 +/- 0.00\n"
            ],
            "text/html": [
              "<pre style=\"white-space:pre;overflow-x:auto;line-height:normal;font-family:Menlo,'DejaVu Sans Mono',consolas,'Courier New',monospace\">Eval num_timesteps=6000, episode_reward=-1447.81 +/- 0.00\n",
              "</pre>\n"
            ]
          },
          "metadata": {}
        },
        {
          "output_type": "display_data",
          "data": {
            "text/plain": [
              "Episode length: 219.00 +/- 0.00\n"
            ],
            "text/html": [
              "<pre style=\"white-space:pre;overflow-x:auto;line-height:normal;font-family:Menlo,'DejaVu Sans Mono',consolas,'Courier New',monospace\">Episode length: 219.00 +/- 0.00\n",
              "</pre>\n"
            ]
          },
          "metadata": {}
        },
        {
          "output_type": "display_data",
          "data": {
            "text/plain": [
              "New best mean reward!\n"
            ],
            "text/html": [
              "<pre style=\"white-space:pre;overflow-x:auto;line-height:normal;font-family:Menlo,'DejaVu Sans Mono',consolas,'Courier New',monospace\">New best mean reward!\n",
              "</pre>\n"
            ]
          },
          "metadata": {}
        },
        {
          "output_type": "display_data",
          "data": {
            "text/plain": [
              "Eval num_timesteps=9000, episode_reward=-1605.86 +/- 0.00\n"
            ],
            "text/html": [
              "<pre style=\"white-space:pre;overflow-x:auto;line-height:normal;font-family:Menlo,'DejaVu Sans Mono',consolas,'Courier New',monospace\">Eval num_timesteps=9000, episode_reward=-1605.86 +/- 0.00\n",
              "</pre>\n"
            ]
          },
          "metadata": {}
        },
        {
          "output_type": "display_data",
          "data": {
            "text/plain": [
              "Episode length: 219.00 +/- 0.00\n"
            ],
            "text/html": [
              "<pre style=\"white-space:pre;overflow-x:auto;line-height:normal;font-family:Menlo,'DejaVu Sans Mono',consolas,'Courier New',monospace\">Episode length: 219.00 +/- 0.00\n",
              "</pre>\n"
            ]
          },
          "metadata": {}
        },
        {
          "output_type": "display_data",
          "data": {
            "text/plain": [
              "Eval num_timesteps=12000, episode_reward=-1432.09 +/- 0.00\n"
            ],
            "text/html": [
              "<pre style=\"white-space:pre;overflow-x:auto;line-height:normal;font-family:Menlo,'DejaVu Sans Mono',consolas,'Courier New',monospace\">Eval num_timesteps=12000, episode_reward=-1432.09 +/- 0.00\n",
              "</pre>\n"
            ]
          },
          "metadata": {}
        },
        {
          "output_type": "display_data",
          "data": {
            "text/plain": [
              "Episode length: 219.00 +/- 0.00\n"
            ],
            "text/html": [
              "<pre style=\"white-space:pre;overflow-x:auto;line-height:normal;font-family:Menlo,'DejaVu Sans Mono',consolas,'Courier New',monospace\">Episode length: 219.00 +/- 0.00\n",
              "</pre>\n"
            ]
          },
          "metadata": {}
        },
        {
          "output_type": "display_data",
          "data": {
            "text/plain": [
              "New best mean reward!\n"
            ],
            "text/html": [
              "<pre style=\"white-space:pre;overflow-x:auto;line-height:normal;font-family:Menlo,'DejaVu Sans Mono',consolas,'Courier New',monospace\">New best mean reward!\n",
              "</pre>\n"
            ]
          },
          "metadata": {}
        },
        {
          "output_type": "display_data",
          "data": {
            "text/plain": [],
            "text/html": [
              "<pre style=\"white-space:pre;overflow-x:auto;line-height:normal;font-family:Menlo,'DejaVu Sans Mono',consolas,'Courier New',monospace\"></pre>\n"
            ]
          },
          "metadata": {}
        },
        {
          "output_type": "display_data",
          "data": {
            "text/plain": [
              "\n"
            ],
            "text/html": [
              "<pre style=\"white-space:pre;overflow-x:auto;line-height:normal;font-family:Menlo,'DejaVu Sans Mono',consolas,'Courier New',monospace\">\n",
              "</pre>\n"
            ]
          },
          "metadata": {}
        },
        {
          "output_type": "execute_result",
          "data": {
            "text/plain": [
              "<stable_baselines3.ppo.ppo.PPO at 0x7f9a72002e10>"
            ]
          },
          "metadata": {},
          "execution_count": 37
        }
      ],
      "source": [
        "# create evaluation env \n",
        "eval_env = DummyVecEnv([lambda: StockTradingEnv(test, f'{MODEL}.txt', random=False, volumes=False)])\n",
        "# create training envs (can be 1 or determined by ENV variable, defualt is 3)\n",
        "envs =  DummyVecEnv([lambda: StockTradingEnv(train, f'{MODEL}.txt', random=True, volumes=False) for _ in range(0,ENV)])\n",
        "\n",
        "# callback list for tracking purposes \n",
        "eval_callback = EvalCallback(eval_env, best_model_save_path=f'{MODEL}',\n",
        "                             log_path=f'{MODEL}_log', eval_freq=FEQ,\n",
        "                             deterministic=False, render=False, n_eval_episodes=1)\n",
        "callback = CallbackList([TensorboardCallback(eval_env, FEQ), eval_callback])\n",
        "\n",
        "# optional additional keyword parameters to pass to PPO agent \n",
        "policy_kwargs = dict(net_arch=[128, dict(vf=[64, 32], pi=[64, 32])])\n",
        "# Initializing PPO agent\n",
        "model = PPO('MlpPolicy', envs,  verbose=0, tensorboard_log=f\"/content/tensorboard\", policy_kwargs=policy_kwargs)\n",
        "\n",
        "# check to make sure no erros in the env, such as observation space errors or nans\n",
        "check_env(StockTradingEnv(train, f'{MODEL}.txt', random=True, volumes=False))\n",
        "VecCheckNan(envs, raise_exception=True, check_inf=True)\n",
        "\n",
        "# Agent training\n",
        "model.learn(total_timesteps=MAX_STEPS, callback=callback, progress_bar=True)"
      ]
    },
    {
      "cell_type": "code",
      "execution_count": null,
      "metadata": {
        "id": "AvrZ0gN0khs0"
      },
      "outputs": [],
      "source": [
        "%load_ext tensorboard\n",
        "%tensorboard --logdir /content/tensorboard/"
      ]
    },
    {
      "cell_type": "code",
      "execution_count": 56,
      "metadata": {
        "id": "RXu6Nsgjkv95",
        "colab": {
          "base_uri": "https://localhost:8080/",
          "height": 542
        },
        "outputId": "da647f0d-2185-4eb6-b753-7aea88b56275"
      },
      "outputs": [
        {
          "output_type": "display_data",
          "data": {
            "text/html": [
              "<html>\n",
              "<head><meta charset=\"utf-8\" /></head>\n",
              "<body>\n",
              "    <div>            <script src=\"https://cdnjs.cloudflare.com/ajax/libs/mathjax/2.7.5/MathJax.js?config=TeX-AMS-MML_SVG\"></script><script type=\"text/javascript\">if (window.MathJax) {MathJax.Hub.Config({SVG: {font: \"STIX-Web\"}});}</script>                <script type=\"text/javascript\">window.PlotlyConfig = {MathJaxConfig: 'local'};</script>\n",
              "        <script src=\"https://cdn.plot.ly/plotly-2.8.3.min.js\"></script>                <div id=\"8a4023ed-506e-4402-b93c-b1ee0a165d91\" class=\"plotly-graph-div\" style=\"height:525px; width:100%;\"></div>            <script type=\"text/javascript\">                                    window.PLOTLYENV=window.PLOTLYENV || {};                                    if (document.getElementById(\"8a4023ed-506e-4402-b93c-b1ee0a165d91\")) {                    Plotly.newPlot(                        \"8a4023ed-506e-4402-b93c-b1ee0a165d91\",                        [{\"mode\":\"lines\",\"name\":\"NetWorth\",\"x\":[\"2018-02-15\",\"2018-02-16\",\"2018-02-20\",\"2018-02-21\",\"2018-02-22\",\"2018-02-23\",\"2018-02-26\",\"2018-02-27\",\"2018-02-28\",\"2018-03-01\",\"2018-03-02\",\"2018-03-05\",\"2018-03-06\",\"2018-03-07\",\"2018-03-08\",\"2018-03-09\",\"2018-03-12\",\"2018-03-13\",\"2018-03-14\",\"2018-03-15\",\"2018-03-16\",\"2018-03-19\",\"2018-03-20\",\"2018-03-21\",\"2018-03-22\",\"2018-03-23\",\"2018-03-26\",\"2018-03-27\",\"2018-03-28\",\"2018-03-29\",\"2018-04-02\",\"2018-04-03\",\"2018-04-04\",\"2018-04-05\",\"2018-04-06\",\"2018-04-09\",\"2018-04-10\",\"2018-04-11\",\"2018-04-12\",\"2018-04-13\",\"2018-04-16\",\"2018-04-17\",\"2018-04-18\",\"2018-04-19\",\"2018-04-20\",\"2018-04-23\",\"2018-04-24\",\"2018-04-25\",\"2018-04-26\",\"2018-04-27\",\"2018-04-30\",\"2018-05-01\",\"2018-05-02\",\"2018-05-03\",\"2018-05-04\",\"2018-05-07\",\"2018-05-08\",\"2018-05-09\",\"2018-05-10\",\"2018-05-11\",\"2018-05-14\",\"2018-05-15\",\"2018-05-16\",\"2018-05-17\",\"2018-05-18\",\"2018-05-21\",\"2018-05-22\",\"2018-05-23\",\"2018-05-24\",\"2018-05-25\",\"2018-05-29\",\"2018-05-30\",\"2018-05-31\",\"2018-06-01\",\"2018-06-04\",\"2018-06-05\",\"2018-06-06\",\"2018-06-07\",\"2018-06-08\",\"2018-06-11\",\"2018-06-12\",\"2018-06-13\",\"2018-06-14\",\"2018-06-15\",\"2018-06-18\",\"2018-06-19\",\"2018-06-20\",\"2018-06-21\",\"2018-06-22\",\"2018-06-25\",\"2018-06-26\",\"2018-06-27\",\"2018-06-28\",\"2018-06-29\",\"2018-07-02\",\"2018-07-03\",\"2018-07-05\",\"2018-07-06\",\"2018-07-09\",\"2018-07-10\",\"2018-07-11\",\"2018-07-12\",\"2018-07-13\",\"2018-07-16\",\"2018-07-17\",\"2018-07-18\",\"2018-07-19\",\"2018-07-20\",\"2018-07-23\",\"2018-07-24\",\"2018-07-25\",\"2018-07-26\",\"2018-07-27\",\"2018-07-30\",\"2018-07-31\",\"2018-08-01\",\"2018-08-02\",\"2018-08-03\",\"2018-08-06\",\"2018-08-07\",\"2018-08-08\",\"2018-08-09\",\"2018-08-10\",\"2018-08-13\",\"2018-08-14\",\"2018-08-15\",\"2018-08-16\",\"2018-08-17\",\"2018-08-20\",\"2018-08-21\",\"2018-08-22\",\"2018-08-23\",\"2018-08-24\",\"2018-08-27\",\"2018-08-28\",\"2018-08-29\",\"2018-08-30\",\"2018-08-31\",\"2018-09-04\",\"2018-09-05\",\"2018-09-06\",\"2018-09-07\",\"2018-09-10\",\"2018-09-11\",\"2018-09-12\",\"2018-09-13\",\"2018-09-14\",\"2018-09-17\",\"2018-09-18\",\"2018-09-19\",\"2018-09-20\",\"2018-09-21\",\"2018-09-24\",\"2018-09-25\",\"2018-09-26\",\"2018-09-27\",\"2018-09-28\",\"2018-10-01\",\"2018-10-02\",\"2018-10-03\",\"2018-10-04\",\"2018-10-05\",\"2018-10-08\",\"2018-10-09\",\"2018-10-10\",\"2018-10-11\",\"2018-10-12\",\"2018-10-15\",\"2018-10-16\",\"2018-10-17\",\"2018-10-18\",\"2018-10-19\",\"2018-10-22\",\"2018-10-23\",\"2018-10-24\",\"2018-10-25\",\"2018-10-26\",\"2018-10-29\",\"2018-10-30\",\"2018-10-31\",\"2018-11-01\",\"2018-11-02\",\"2018-11-05\",\"2018-11-06\",\"2018-11-07\",\"2018-11-08\",\"2018-11-09\",\"2018-11-12\",\"2018-11-13\",\"2018-11-14\",\"2018-11-15\",\"2018-11-16\",\"2018-11-19\",\"2018-11-20\",\"2018-11-21\",\"2018-11-23\",\"2018-11-26\",\"2018-11-27\",\"2018-11-28\",\"2018-11-29\",\"2018-11-30\",\"2018-12-03\",\"2018-12-04\",\"2018-12-06\",\"2018-12-07\",\"2018-12-10\",\"2018-12-11\",\"2018-12-12\",\"2018-12-13\",\"2018-12-14\",\"2018-12-17\",\"2018-12-18\",\"2018-12-19\",\"2018-12-20\",\"2018-12-21\",\"2018-12-24\",\"2018-12-26\",\"2018-12-27\",\"2018-12-28\"],\"y\":[9781.818181818182,9763.230220049078,9114.76649060894,9075.515501129494,8022.21936387772,8002.074920196699,7959.740401013376,7131.323531073419,6245.763179180677,6207.993650525236,6160.961158673319,6161.055206009696,6122.279770430656,6122.639424374919,6122.493683285228,6122.735803167004,5324.563609047858,5207.759612321483,5102.37701518147,4903.129825561056,4817.679723579395,4134.897837557979,4133.343896557387,4135.004278992292,4133.280038193073,4096.431401238038,4052.4577099021208,4019.831566162802,3978.749406771895,3892.9406856640408,3859.42246399087,3852.774041103204,3849.221238274268,3441.513571917159,3372.7558688351774,3343.27112729119,3340.551948350463,2893.81614395416,2887.1209756950607,2876.7086057683982,2876.8153377587937,2879.0364753060567,2878.833163350801,2880.5460248877043,2879.671810624559,2570.9824468338275,2567.7720269837314,2557.4879474482877,2562.656498308689,2349.0369823977894,2357.3004288359284,2161.9818923092043,2138.2335139363395,2131.32697141552,2129.775772064342,2089.425536091696,2076.717181132577,2056.568676246472,2013.6079092290936,1949.14765156702,1911.8173582696977,1910.805625116036,1910.0273608509813,1911.63251883678,1750.6050529699148,1750.3020978029622,1756.012086119832,1750.5118442021508,1750.185560171538,1741.69420444344,1630.051487932668,1585.1376168294037,1346.328831727138,1344.444581032223,1332.7001698782497,1326.806907261073,1280.0987315867517,1251.270419845724,1251.2896937328308,1224.346552442163,1226.636820285029,1227.227512833586,1211.2123779911522,1211.2590103650164,1211.5947776884884,1211.4735287725582,1210.428920903051,1210.4600123148828,1210.2081832643662,1209.894180877953,1208.504479210201,1208.0567894455717,1164.7584518953477,1164.0737809725465,1090.3608641493445,1041.6644615960372,1024.3301275725253,1014.5635544528828,1015.0039394128632,911.570701833548,879.784445394906,849.4215761302543,849.5581574741349,849.7063654038524,849.4273872060511,849.501490062349,850.1248338091151,850.2425274938149,850.2149198952563,850.4038120069164,849.9708148036008,850.6217639318038,850.8615101623313,850.7728762908589,843.2437839546513,844.5671044451213,843.658632708833,802.5109839237718,803.5363410142066,804.8884513744312,755.1551081145759,754.1472491243126,753.370107298251,752.2408123704532,750.7472466870975,731.1389626927581,731.1328908958814,731.2992492366127,731.3903206312067,725.2742458149147,725.861699239449,724.9174166463043,708.8231955267288,624.6724468596234,621.2521184148438,620.9722072533115,620.995532194759,619.883670438553,619.7748167570772,590.1451176945454,534.7794189162404,534.5240119044772,500.3804188170848,503.16098403726176,502.8752079788595,454.38506026833227,450.7551868044391,452.135000217768,450.8597140957903,451.44509882785286,436.2077397855985,436.2770535096908,436.4927040415817,377.0054552571493,376.8123890888969,376.9567189416223,376.9754641183807,376.9548455679914,377.0635613009432,376.6380709575153,376.8461298350396,376.6943036276783,376.3962741939607,370.2209121793748,368.3671404404229,335.2020602897654,329.4536290704639,330.69057629391807,331.4905204442115,334.1199642961764,322.25020779138094,318.69530939180424,319.0847921217657,319.04938263623137,316.5779475001651,312.2795039316578,314.6163895059685,298.45779420322486,292.7522156904944,297.43044130751423,297.60715592071483,300.7321747563549,290.94416237593794,290.9597791886536,292.6238876776582,295.9364759217208,273.5213730229675,272.29389486846475,271.0616358553743,271.6347777180481,235.49324461051668,230.08436877408076,229.90016773523757,229.4975020811836,220.26697549880333,222.39506287217495,222.54593623014185,224.10228724450437,223.8180662069189,225.34303600392383,223.94003915817316,226.0102200696876,219.45830294961615,213.32017256226663,213.16975835160065,207.79799399596897,206.8740553355086,206.38700968424573,205.6950326594743,200.26494882169183,197.62586805656923,195.1847244611099,183.13869095274487,180.88937450175277,179.95497645390145,178.771132481238,176.9784443274728,180.49193840315897,180.9231995368954],\"type\":\"scatter\",\"xaxis\":\"x3\",\"yaxis\":\"y3\"},{\"mode\":\"lines\",\"name\":\"Balance\",\"x\":[\"2018-02-15\",\"2018-02-16\",\"2018-02-20\",\"2018-02-21\",\"2018-02-22\",\"2018-02-23\",\"2018-02-26\",\"2018-02-27\",\"2018-02-28\",\"2018-03-01\",\"2018-03-02\",\"2018-03-05\",\"2018-03-06\",\"2018-03-07\",\"2018-03-08\",\"2018-03-09\",\"2018-03-12\",\"2018-03-13\",\"2018-03-14\",\"2018-03-15\",\"2018-03-16\",\"2018-03-19\",\"2018-03-20\",\"2018-03-21\",\"2018-03-22\",\"2018-03-23\",\"2018-03-26\",\"2018-03-27\",\"2018-03-28\",\"2018-03-29\",\"2018-04-02\",\"2018-04-03\",\"2018-04-04\",\"2018-04-05\",\"2018-04-06\",\"2018-04-09\",\"2018-04-10\",\"2018-04-11\",\"2018-04-12\",\"2018-04-13\",\"2018-04-16\",\"2018-04-17\",\"2018-04-18\",\"2018-04-19\",\"2018-04-20\",\"2018-04-23\",\"2018-04-24\",\"2018-04-25\",\"2018-04-26\",\"2018-04-27\",\"2018-04-30\",\"2018-05-01\",\"2018-05-02\",\"2018-05-03\",\"2018-05-04\",\"2018-05-07\",\"2018-05-08\",\"2018-05-09\",\"2018-05-10\",\"2018-05-11\",\"2018-05-14\",\"2018-05-15\",\"2018-05-16\",\"2018-05-17\",\"2018-05-18\",\"2018-05-21\",\"2018-05-22\",\"2018-05-23\",\"2018-05-24\",\"2018-05-25\",\"2018-05-29\",\"2018-05-30\",\"2018-05-31\",\"2018-06-01\",\"2018-06-04\",\"2018-06-05\",\"2018-06-06\",\"2018-06-07\",\"2018-06-08\",\"2018-06-11\",\"2018-06-12\",\"2018-06-13\",\"2018-06-14\",\"2018-06-15\",\"2018-06-18\",\"2018-06-19\",\"2018-06-20\",\"2018-06-21\",\"2018-06-22\",\"2018-06-25\",\"2018-06-26\",\"2018-06-27\",\"2018-06-28\",\"2018-06-29\",\"2018-07-02\",\"2018-07-03\",\"2018-07-05\",\"2018-07-06\",\"2018-07-09\",\"2018-07-10\",\"2018-07-11\",\"2018-07-12\",\"2018-07-13\",\"2018-07-16\",\"2018-07-17\",\"2018-07-18\",\"2018-07-19\",\"2018-07-20\",\"2018-07-23\",\"2018-07-24\",\"2018-07-25\",\"2018-07-26\",\"2018-07-27\",\"2018-07-30\",\"2018-07-31\",\"2018-08-01\",\"2018-08-02\",\"2018-08-03\",\"2018-08-06\",\"2018-08-07\",\"2018-08-08\",\"2018-08-09\",\"2018-08-10\",\"2018-08-13\",\"2018-08-14\",\"2018-08-15\",\"2018-08-16\",\"2018-08-17\",\"2018-08-20\",\"2018-08-21\",\"2018-08-22\",\"2018-08-23\",\"2018-08-24\",\"2018-08-27\",\"2018-08-28\",\"2018-08-29\",\"2018-08-30\",\"2018-08-31\",\"2018-09-04\",\"2018-09-05\",\"2018-09-06\",\"2018-09-07\",\"2018-09-10\",\"2018-09-11\",\"2018-09-12\",\"2018-09-13\",\"2018-09-14\",\"2018-09-17\",\"2018-09-18\",\"2018-09-19\",\"2018-09-20\",\"2018-09-21\",\"2018-09-24\",\"2018-09-25\",\"2018-09-26\",\"2018-09-27\",\"2018-09-28\",\"2018-10-01\",\"2018-10-02\",\"2018-10-03\",\"2018-10-04\",\"2018-10-05\",\"2018-10-08\",\"2018-10-09\",\"2018-10-10\",\"2018-10-11\",\"2018-10-12\",\"2018-10-15\",\"2018-10-16\",\"2018-10-17\",\"2018-10-18\",\"2018-10-19\",\"2018-10-22\",\"2018-10-23\",\"2018-10-24\",\"2018-10-25\",\"2018-10-26\",\"2018-10-29\",\"2018-10-30\",\"2018-10-31\",\"2018-11-01\",\"2018-11-02\",\"2018-11-05\",\"2018-11-06\",\"2018-11-07\",\"2018-11-08\",\"2018-11-09\",\"2018-11-12\",\"2018-11-13\",\"2018-11-14\",\"2018-11-15\",\"2018-11-16\",\"2018-11-19\",\"2018-11-20\",\"2018-11-21\",\"2018-11-23\",\"2018-11-26\",\"2018-11-27\",\"2018-11-28\",\"2018-11-29\",\"2018-11-30\",\"2018-12-03\",\"2018-12-04\",\"2018-12-06\",\"2018-12-07\",\"2018-12-10\",\"2018-12-11\",\"2018-12-12\",\"2018-12-13\",\"2018-12-14\",\"2018-12-17\",\"2018-12-18\",\"2018-12-19\",\"2018-12-20\",\"2018-12-21\",\"2018-12-24\",\"2018-12-26\",\"2018-12-27\",\"2018-12-28\"],\"y\":[8327.272727272728,8591.020021864302,6578.315711831683,6578.315711831683,6564.272359201333,6828.358543873951,7364.276265676836,5543.568482244267,5129.013291630281,5327.193357549762,5722.136000187236,5722.136000187236,6078.307927546764,6078.307927546764,6078.307927546764,6078.307927546764,4431.324038713401,3850.453178565759,3451.7529561375,3108.4577334111964,3918.089202438237,3723.5693851058745,3723.5693851058745,3723.5693851058745,3723.5693851058745,3937.766713522224,3590.214375600194,3972.620885881197,3612.030670882061,3073.9070946775983,3525.1606047086266,3525.1606047086266,3615.3630491031854,2681.221747018384,2370.487729063365,2370.487729063365,2370.487729063365,2601.8636855972563,2654.2578817376693,2782.0487232021305,2782.0487232021305,2782.0487232021305,2782.0487232021305,2782.0487232021305,2782.0487232021305,2010.8637920360247,2061.4918133949072,2061.4918133949072,2061.4918133949072,1700.3390006787142,1700.3390006787142,1531.4090020803878,1447.3558666054391,1447.3558666054391,1447.3558666054391,1882.3062878703229,1993.9891414465112,1818.4064499331885,1557.3770934882425,1329.262517249829,1723.8964418116757,1723.8964418116757,1723.8964418116757,1723.8964418116757,1299.0959141421513,1299.0959141421513,1299.0959141421513,1299.0959141421513,1299.0959141421513,1422.2933763909637,1146.4173828078333,1489.763652911671,1214.7516376132949,1214.7516376132949,1115.0422643998097,1153.937811047797,939.2331803524156,1216.9806133079978,1216.9806133079978,1019.6428285272532,1019.6428285272532,1019.6428285272532,1149.41574913183,1149.41574913183,1149.41574913183,1149.41574913183,1149.41574913183,1149.41574913183,1149.41574913183,1149.41574913183,1149.41574913183,1149.41574913183,904.8438134910728,904.8438134910728,754.6035181473401,673.6004924037666,805.1241055920511,904.3322655787608,904.3322655787608,705.0316624271223,601.038468913314,822.1267291833377,822.1267291833377,822.1267291833377,822.1267291833377,822.1267291833377,822.1267291833377,822.1267291833377,822.1267291833377,822.1267291833377,822.1267291833377,822.1267291833377,822.1267291833377,822.1267291833377,739.914056265004,739.914056265004,739.914056265004,578.4093900707909,578.4093900707909,578.4093900707909,509.91804859921774,509.91804859921774,509.91804859921774,509.91804859921774,509.91804859921774,706.8289721330284,706.8289721330284,706.8289721330284,706.8289721330284,636.1460749197255,636.1460749197255,636.1460749197255,545.6343501463627,512.5973214617211,461.337589315549,461.337589315549,461.337589315549,461.337589315549,461.337589315549,394.3060151287854,400.42857556862594,400.42857556862594,342.39824458931014,342.39824458931014,342.39824458931014,340.9445483678357,306.8500935310521,306.8500935310521,306.8500935310521,306.8500935310521,276.4253974972445,276.4253974972445,276.4253974972445,338.61392608050926,338.61392608050926,338.61392608050926,338.61392608050926,338.61392608050926,338.61392608050926,338.61392608050926,338.61392608050926,338.61392608050926,338.61392608050926,270.8911408644074,270.8911408644074,238.672016058275,190.93761284662,190.93761284662,190.93761284662,190.93761284662,186.1515323696048,186.1515323696048,186.1515323696048,186.1515323696048,186.1515323696048,186.1515323696048,186.1515323696048,181.72849746481117,127.2099482253678,127.2099482253678,127.2099482253678,127.2099482253678,145.24515306384893,145.24515306384893,145.24515306384893,145.24515306384893,181.8518786410833,181.8518786410833,181.8518786410833,181.8518786410833,211.61323837464764,148.12926686225336,148.12926686225336,148.12926686225336,74.06463343112668,74.06463343112668,74.06463343112668,74.06463343112668,66.65817008801402,39.99490205280841,39.99490205280841,35.99541184752757,79.26958103266483,79.26958103266483,79.26958103266483,79.26958103266483,79.26958103266483,79.26958103266483,71.34262292939835,35.67131146469917,35.67131146469917,35.67131146469917,111.27904569024906,111.27904569024906,111.27904569024906,111.27904569024906,111.27904569024906,111.27904569024906,111.27904569024906],\"type\":\"scatter\",\"xaxis\":\"x3\",\"yaxis\":\"y3\"},{\"mode\":\"lines\",\"name\":\"SharesHeld\",\"x\":[\"2018-02-15\",\"2018-02-16\",\"2018-02-20\",\"2018-02-21\",\"2018-02-22\",\"2018-02-23\",\"2018-02-26\",\"2018-02-27\",\"2018-02-28\",\"2018-03-01\",\"2018-03-02\",\"2018-03-05\",\"2018-03-06\",\"2018-03-07\",\"2018-03-08\",\"2018-03-09\",\"2018-03-12\",\"2018-03-13\",\"2018-03-14\",\"2018-03-15\",\"2018-03-16\",\"2018-03-19\",\"2018-03-20\",\"2018-03-21\",\"2018-03-22\",\"2018-03-23\",\"2018-03-26\",\"2018-03-27\",\"2018-03-28\",\"2018-03-29\",\"2018-04-02\",\"2018-04-03\",\"2018-04-04\",\"2018-04-05\",\"2018-04-06\",\"2018-04-09\",\"2018-04-10\",\"2018-04-11\",\"2018-04-12\",\"2018-04-13\",\"2018-04-16\",\"2018-04-17\",\"2018-04-18\",\"2018-04-19\",\"2018-04-20\",\"2018-04-23\",\"2018-04-24\",\"2018-04-25\",\"2018-04-26\",\"2018-04-27\",\"2018-04-30\",\"2018-05-01\",\"2018-05-02\",\"2018-05-03\",\"2018-05-04\",\"2018-05-07\",\"2018-05-08\",\"2018-05-09\",\"2018-05-10\",\"2018-05-11\",\"2018-05-14\",\"2018-05-15\",\"2018-05-16\",\"2018-05-17\",\"2018-05-18\",\"2018-05-21\",\"2018-05-22\",\"2018-05-23\",\"2018-05-24\",\"2018-05-25\",\"2018-05-29\",\"2018-05-30\",\"2018-05-31\",\"2018-06-01\",\"2018-06-04\",\"2018-06-05\",\"2018-06-06\",\"2018-06-07\",\"2018-06-08\",\"2018-06-11\",\"2018-06-12\",\"2018-06-13\",\"2018-06-14\",\"2018-06-15\",\"2018-06-18\",\"2018-06-19\",\"2018-06-20\",\"2018-06-21\",\"2018-06-22\",\"2018-06-25\",\"2018-06-26\",\"2018-06-27\",\"2018-06-28\",\"2018-06-29\",\"2018-07-02\",\"2018-07-03\",\"2018-07-05\",\"2018-07-06\",\"2018-07-09\",\"2018-07-10\",\"2018-07-11\",\"2018-07-12\",\"2018-07-13\",\"2018-07-16\",\"2018-07-17\",\"2018-07-18\",\"2018-07-19\",\"2018-07-20\",\"2018-07-23\",\"2018-07-24\",\"2018-07-25\",\"2018-07-26\",\"2018-07-27\",\"2018-07-30\",\"2018-07-31\",\"2018-08-01\",\"2018-08-02\",\"2018-08-03\",\"2018-08-06\",\"2018-08-07\",\"2018-08-08\",\"2018-08-09\",\"2018-08-10\",\"2018-08-13\",\"2018-08-14\",\"2018-08-15\",\"2018-08-16\",\"2018-08-17\",\"2018-08-20\",\"2018-08-21\",\"2018-08-22\",\"2018-08-23\",\"2018-08-24\",\"2018-08-27\",\"2018-08-28\",\"2018-08-29\",\"2018-08-30\",\"2018-08-31\",\"2018-09-04\",\"2018-09-05\",\"2018-09-06\",\"2018-09-07\",\"2018-09-10\",\"2018-09-11\",\"2018-09-12\",\"2018-09-13\",\"2018-09-14\",\"2018-09-17\",\"2018-09-18\",\"2018-09-19\",\"2018-09-20\",\"2018-09-21\",\"2018-09-24\",\"2018-09-25\",\"2018-09-26\",\"2018-09-27\",\"2018-09-28\",\"2018-10-01\",\"2018-10-02\",\"2018-10-03\",\"2018-10-04\",\"2018-10-05\",\"2018-10-08\",\"2018-10-09\",\"2018-10-10\",\"2018-10-11\",\"2018-10-12\",\"2018-10-15\",\"2018-10-16\",\"2018-10-17\",\"2018-10-18\",\"2018-10-19\",\"2018-10-22\",\"2018-10-23\",\"2018-10-24\",\"2018-10-25\",\"2018-10-26\",\"2018-10-29\",\"2018-10-30\",\"2018-10-31\",\"2018-11-01\",\"2018-11-02\",\"2018-11-05\",\"2018-11-06\",\"2018-11-07\",\"2018-11-08\",\"2018-11-09\",\"2018-11-12\",\"2018-11-13\",\"2018-11-14\",\"2018-11-15\",\"2018-11-16\",\"2018-11-19\",\"2018-11-20\",\"2018-11-21\",\"2018-11-23\",\"2018-11-26\",\"2018-11-27\",\"2018-11-28\",\"2018-11-29\",\"2018-11-30\",\"2018-12-03\",\"2018-12-04\",\"2018-12-06\",\"2018-12-07\",\"2018-12-10\",\"2018-12-11\",\"2018-12-12\",\"2018-12-13\",\"2018-12-14\",\"2018-12-17\",\"2018-12-18\",\"2018-12-19\",\"2018-12-20\",\"2018-12-21\",\"2018-12-24\",\"2018-12-26\",\"2018-12-27\",\"2018-12-28\"],\"y\":[771.0286252877324,616.822900230186,1339.6275630272967,1339.6275630272967,779.5257521210942,623.6206016968754,311.8103008484377,816.7464499379623,587.6703124370395,470.1362499496315,235.0681249748157,235.0681249748157,23.50681249748158,23.50681249748158,23.50681249748158,23.50681249748158,460.36158117513037,701.3416226512802,849.2175235425575,939.3729722493964,469.6864861246982,212.86987607870776,212.86987607870776,212.86987607870776,212.86987607870776,85.14795043148311,252.90984488507542,25.29098448850755,200.23956378289807,446.80246680197797,178.7209867207912,178.7209867207912,125.10469070455383,407.1392323733262,533.1780841321619,533.1780841321619,533.1780841321619,158.83382962552784,127.0670637004223,50.826825480168914,50.826825480168914,50.826825480168914,50.826825480168914,50.826825480168914,50.826825480168914,294.5047834311711,265.05430508805404,265.05430508805404,265.05430508805404,345.7509852901863,345.7509852901863,335.9472032398036,369.33478902376925,369.33478902376925,369.33478902376925,110.80043670713079,44.32017468285231,126.63487905474955,241.0603555863322,324.27554009304566,97.28266202791373,97.28266202791373,97.28266202791373,97.28266202791373,233.06103793176348,233.06103793176348,233.06103793176348,233.06103793176348,233.06103793176348,163.14272655223442,245.97401949714427,49.19480389942885,66.81758853204833,66.81758853204833,110.67163650017716,88.53730920014173,175.21618330323733,17.52161833032373,17.52161833032373,103.63171426109734,103.63171426109734,103.63171426109734,31.08951427832921,31.08951427832921,31.08951427832921,31.08951427832921,31.08951427832921,31.08951427832921,31.08951427832921,31.08951427832921,31.08951427832921,31.08951427832921,139.73154458360187,139.73154458360187,180.29176486328694,195.72664888017414,117.43598932810445,58.71799466405223,58.71799466405223,107.34319186913399,145.3012832582798,14.53012832582798,14.53012832582798,14.53012832582798,14.53012832582798,14.53012832582798,14.53012832582798,14.53012832582798,14.53012832582798,14.53012832582798,14.53012832582798,14.53012832582798,14.53012832582798,14.53012832582798,52.512946814073416,52.512946814073416,52.512946814073416,112.67614990230861,112.67614990230861,112.67614990230861,121.4285261253754,121.4285261253754,121.4285261253754,121.4285261253754,121.4285261253754,12.14285261253753,12.14285261253753,12.14285261253753,12.14285261253753,43.51536359146022,43.51536359146022,43.51536359146022,80.40047514357538,55.095431327661885,77.75296860164059,77.75296860164059,77.75296860164059,77.75296860164059,77.75296860164059,95.9854451489768,65.4890798658302,65.4890798658302,77.23779183211958,77.23779183211958,77.23779183211958,54.678031152957104,69.68769650042952,69.68769650042952,69.68769650042952,69.68769650042952,77.01838287739422,77.01838287739422,77.01838287739422,18.74403271349776,18.74403271349776,18.74403271349776,18.74403271349776,18.74403271349776,18.74403271349776,18.74403271349776,18.74403271349776,18.74403271349776,18.74403271349776,49.302511894143066,49.302511894143066,50.86418213320216,74.06877722718748,74.06877722718748,74.06877722718748,74.06877722718748,70.81464888542737,70.81464888542737,70.81464888542737,70.81464888542737,70.81464888542737,70.81464888542737,70.81464888542737,65.16093398242965,93.0064960706372,93.0064960706372,93.0064960706372,93.0064960706372,78.12698000989106,78.12698000989106,78.12698000989106,78.12698000989106,47.7619433543862,47.7619433543862,47.7619433543862,47.7619433543862,12.671126703356899,42.836660450750905,42.836660450750905,42.836660450750905,79.40601018081863,79.40601018081863,79.40601018081863,79.40601018081863,82.96024814902249,95.44188304004663,95.44188304004663,97.30377376584912,71.62352474175572,71.62352474175572,71.62352474175572,71.62352474175572,71.62352474175572,71.62352474175572,75.68296895930074,94.25278174128505,94.25278174128505,94.25278174128505,42.28032620843193,42.28032620843193,42.28032620843193,42.28032620843193,42.28032620843193,42.28032620843193,42.28032620843193],\"type\":\"scatter\",\"xaxis\":\"x3\",\"yaxis\":\"y3\"},{\"mode\":\"lines\",\"name\":\"Real Close\",\"x\":[\"2018-01-02T00:00:00\",\"2018-01-03T00:00:00\",\"2018-01-04T00:00:00\",\"2018-01-05T00:00:00\",\"2018-01-08T00:00:00\",\"2018-01-09T00:00:00\",\"2018-01-10T00:00:00\",\"2018-01-11T00:00:00\",\"2018-01-12T00:00:00\",\"2018-01-16T00:00:00\",\"2018-01-17T00:00:00\",\"2018-01-18T00:00:00\",\"2018-01-19T00:00:00\",\"2018-01-22T00:00:00\",\"2018-01-23T00:00:00\",\"2018-01-24T00:00:00\",\"2018-01-25T00:00:00\",\"2018-01-26T00:00:00\",\"2018-01-29T00:00:00\",\"2018-01-30T00:00:00\",\"2018-01-31T00:00:00\",\"2018-02-01T00:00:00\",\"2018-02-02T00:00:00\",\"2018-02-05T00:00:00\",\"2018-02-06T00:00:00\",\"2018-02-07T00:00:00\",\"2018-02-08T00:00:00\",\"2018-02-09T00:00:00\",\"2018-02-12T00:00:00\",\"2018-02-13T00:00:00\",\"2018-02-14T00:00:00\",\"2018-02-15T00:00:00\",\"2018-02-16T00:00:00\",\"2018-02-20T00:00:00\",\"2018-02-21T00:00:00\",\"2018-02-22T00:00:00\",\"2018-02-23T00:00:00\",\"2018-02-26T00:00:00\",\"2018-02-27T00:00:00\",\"2018-02-28T00:00:00\",\"2018-03-01T00:00:00\",\"2018-03-02T00:00:00\",\"2018-03-05T00:00:00\",\"2018-03-06T00:00:00\",\"2018-03-07T00:00:00\",\"2018-03-08T00:00:00\",\"2018-03-09T00:00:00\",\"2018-03-12T00:00:00\",\"2018-03-13T00:00:00\",\"2018-03-14T00:00:00\",\"2018-03-15T00:00:00\",\"2018-03-16T00:00:00\",\"2018-03-19T00:00:00\",\"2018-03-20T00:00:00\",\"2018-03-21T00:00:00\",\"2018-03-22T00:00:00\",\"2018-03-23T00:00:00\",\"2018-03-26T00:00:00\",\"2018-03-27T00:00:00\",\"2018-03-28T00:00:00\",\"2018-03-29T00:00:00\",\"2018-04-02T00:00:00\",\"2018-04-03T00:00:00\",\"2018-04-04T00:00:00\",\"2018-04-05T00:00:00\",\"2018-04-06T00:00:00\",\"2018-04-09T00:00:00\",\"2018-04-10T00:00:00\",\"2018-04-11T00:00:00\",\"2018-04-12T00:00:00\",\"2018-04-13T00:00:00\",\"2018-04-16T00:00:00\",\"2018-04-17T00:00:00\",\"2018-04-18T00:00:00\",\"2018-04-19T00:00:00\",\"2018-04-20T00:00:00\",\"2018-04-23T00:00:00\",\"2018-04-24T00:00:00\",\"2018-04-25T00:00:00\",\"2018-04-26T00:00:00\",\"2018-04-27T00:00:00\",\"2018-04-30T00:00:00\",\"2018-05-01T00:00:00\",\"2018-05-02T00:00:00\",\"2018-05-03T00:00:00\",\"2018-05-04T00:00:00\",\"2018-05-07T00:00:00\",\"2018-05-08T00:00:00\",\"2018-05-09T00:00:00\",\"2018-05-10T00:00:00\",\"2018-05-11T00:00:00\",\"2018-05-14T00:00:00\",\"2018-05-15T00:00:00\",\"2018-05-16T00:00:00\",\"2018-05-17T00:00:00\",\"2018-05-18T00:00:00\",\"2018-05-21T00:00:00\",\"2018-05-22T00:00:00\",\"2018-05-23T00:00:00\",\"2018-05-24T00:00:00\",\"2018-05-25T00:00:00\",\"2018-05-29T00:00:00\",\"2018-05-30T00:00:00\",\"2018-05-31T00:00:00\",\"2018-06-01T00:00:00\",\"2018-06-04T00:00:00\",\"2018-06-05T00:00:00\",\"2018-06-06T00:00:00\",\"2018-06-07T00:00:00\",\"2018-06-08T00:00:00\",\"2018-06-11T00:00:00\",\"2018-06-12T00:00:00\",\"2018-06-13T00:00:00\",\"2018-06-14T00:00:00\",\"2018-06-15T00:00:00\",\"2018-06-18T00:00:00\",\"2018-06-19T00:00:00\",\"2018-06-20T00:00:00\",\"2018-06-21T00:00:00\",\"2018-06-22T00:00:00\",\"2018-06-25T00:00:00\",\"2018-06-26T00:00:00\",\"2018-06-27T00:00:00\",\"2018-06-28T00:00:00\",\"2018-06-29T00:00:00\",\"2018-07-02T00:00:00\",\"2018-07-03T00:00:00\",\"2018-07-05T00:00:00\",\"2018-07-06T00:00:00\",\"2018-07-09T00:00:00\",\"2018-07-10T00:00:00\",\"2018-07-11T00:00:00\",\"2018-07-12T00:00:00\",\"2018-07-13T00:00:00\",\"2018-07-16T00:00:00\",\"2018-07-17T00:00:00\",\"2018-07-18T00:00:00\",\"2018-07-19T00:00:00\",\"2018-07-20T00:00:00\",\"2018-07-23T00:00:00\",\"2018-07-24T00:00:00\",\"2018-07-25T00:00:00\",\"2018-07-26T00:00:00\",\"2018-07-27T00:00:00\",\"2018-07-30T00:00:00\",\"2018-07-31T00:00:00\",\"2018-08-01T00:00:00\",\"2018-08-02T00:00:00\",\"2018-08-03T00:00:00\",\"2018-08-06T00:00:00\",\"2018-08-07T00:00:00\",\"2018-08-08T00:00:00\",\"2018-08-09T00:00:00\",\"2018-08-10T00:00:00\",\"2018-08-13T00:00:00\",\"2018-08-14T00:00:00\",\"2018-08-15T00:00:00\",\"2018-08-16T00:00:00\",\"2018-08-17T00:00:00\",\"2018-08-20T00:00:00\",\"2018-08-21T00:00:00\",\"2018-08-22T00:00:00\",\"2018-08-23T00:00:00\",\"2018-08-24T00:00:00\",\"2018-08-27T00:00:00\",\"2018-08-28T00:00:00\",\"2018-08-29T00:00:00\",\"2018-08-30T00:00:00\",\"2018-08-31T00:00:00\",\"2018-09-04T00:00:00\",\"2018-09-05T00:00:00\",\"2018-09-06T00:00:00\",\"2018-09-07T00:00:00\",\"2018-09-10T00:00:00\",\"2018-09-11T00:00:00\",\"2018-09-12T00:00:00\",\"2018-09-13T00:00:00\",\"2018-09-14T00:00:00\",\"2018-09-17T00:00:00\",\"2018-09-18T00:00:00\",\"2018-09-19T00:00:00\",\"2018-09-20T00:00:00\",\"2018-09-21T00:00:00\",\"2018-09-24T00:00:00\",\"2018-09-25T00:00:00\",\"2018-09-26T00:00:00\",\"2018-09-27T00:00:00\",\"2018-09-28T00:00:00\",\"2018-10-01T00:00:00\",\"2018-10-02T00:00:00\",\"2018-10-03T00:00:00\",\"2018-10-04T00:00:00\",\"2018-10-05T00:00:00\",\"2018-10-08T00:00:00\",\"2018-10-09T00:00:00\",\"2018-10-10T00:00:00\",\"2018-10-11T00:00:00\",\"2018-10-12T00:00:00\",\"2018-10-15T00:00:00\",\"2018-10-16T00:00:00\",\"2018-10-17T00:00:00\",\"2018-10-18T00:00:00\",\"2018-10-19T00:00:00\",\"2018-10-22T00:00:00\",\"2018-10-23T00:00:00\",\"2018-10-24T00:00:00\",\"2018-10-25T00:00:00\",\"2018-10-26T00:00:00\",\"2018-10-29T00:00:00\",\"2018-10-30T00:00:00\",\"2018-10-31T00:00:00\",\"2018-11-01T00:00:00\",\"2018-11-02T00:00:00\",\"2018-11-05T00:00:00\",\"2018-11-06T00:00:00\",\"2018-11-07T00:00:00\",\"2018-11-08T00:00:00\",\"2018-11-09T00:00:00\",\"2018-11-12T00:00:00\",\"2018-11-13T00:00:00\",\"2018-11-14T00:00:00\",\"2018-11-15T00:00:00\",\"2018-11-16T00:00:00\",\"2018-11-19T00:00:00\",\"2018-11-20T00:00:00\",\"2018-11-21T00:00:00\",\"2018-11-23T00:00:00\",\"2018-11-26T00:00:00\",\"2018-11-27T00:00:00\",\"2018-11-28T00:00:00\",\"2018-11-29T00:00:00\",\"2018-11-30T00:00:00\",\"2018-12-03T00:00:00\",\"2018-12-04T00:00:00\",\"2018-12-06T00:00:00\",\"2018-12-07T00:00:00\",\"2018-12-10T00:00:00\",\"2018-12-11T00:00:00\",\"2018-12-12T00:00:00\",\"2018-12-13T00:00:00\",\"2018-12-14T00:00:00\",\"2018-12-17T00:00:00\",\"2018-12-18T00:00:00\",\"2018-12-19T00:00:00\",\"2018-12-20T00:00:00\",\"2018-12-21T00:00:00\",\"2018-12-24T00:00:00\",\"2018-12-26T00:00:00\",\"2018-12-27T00:00:00\",\"2018-12-28T00:00:00\",\"2018-12-31T00:00:00\"],\"y\":[195.05999755859375,195.27000427246094,195.9499969482422,196.88999938964844,198.47999572753906,198.86000061035156,199.0500030517578,203.77000427246094,205.3300018310547,202.50999450683594,203.14999389648438,203.27000427246094,204.00999450683594,204.92999267578125,204.58999633789062,201.63999938964844,198.4600067138672,200.5,200.25999450683594,197.5500030517578,197.66000366210938,196.5500030517578,192.3300018310547,186.5399932861328,189.61000061035156,190.13999938964844,182.9199981689453,182.6300048828125,185.5399932861328,186.92999267578125,188.64999389648438,190.0399932861328,189.33999633789062,186.41000366210938,187.02999877929688,188.2100067138672,190.97000122070312,194.39999389648438,190.02999877929688,187.35000610351562,186.67999267578125,186.72000122070312,187.05999755859375,188.58999633789062,187.97000122070312,189.0,194.02999877929688,193.52999877929688,194.3699951171875,191.0500030517578,191.52999877929688,193.22999572753906,192.5,193.27999877929688,192.47000122070312,186.33999633789062,182.77000427246094,186.6699981689453,183.13999938964844,183.30999755859375,187.02999877929688,183.30999755859375,186.92999267578125,186.74000549316406,187.97999572753906,182.4499969482422,181.94000244140625,183.80999755859375,183.25999450683594,186.24000549316406,186.4499969482422,190.82000732421875,190.4199981689453,193.7899932861328,192.07000732421875,190.19000244140625,191.00999450683594,187.1300048828125,189.0800018310547,187.6199951171875,190.00999450683594,187.6999969482422,187.05999755859375,185.19000244140625,184.77000427246094,186.92999267578125,186.66000366210938,188.07000732421875,189.25999450683594,191.16000366210938,193.1699981689453,192.1300048828125,191.3300018310547,192.97999572753906,193.72999572753906,193.60000610351562,196.0500030517578,193.69000244140625,193.5500030517578,195.77999877929688,196.6199951171875,193.8699951171875,196.9199981689453,194.10000610351562,196.6699981689453,195.25,194.5399932861328,195.6999969482422,195.80999755859375,197.52999877929688,199.74000549316406,200.30999755859375,198.77000427246094,198.9199981689453,200.0,199.61000061035156,196.25,196.35000610351562,195.5399932861328,194.52999877929688,190.05999755859375,188.6199951171875,186.00999450683594,185.52000427246094,186.22999572753906,188.0500030517578,186.66000366210938,187.72999572753906,188.47999572753906,192.41000366210938,191.83999633789062,187.85000610351562,188.7899932861328,189.80999755859375,187.88999938964844,188.39999389648438,192.69000244140625,193.5,193.30999755859375,194.61000061035156,191.6300048828125,196.11000061035156,197.75999450683594,197.14999389648438,196.77000427246094,199.2899932861328,197.55999755859375,198.88999938964844,199.8000030517578,201.0,201.9600067138672,201.1300048828125,200.49000549316406,199.55999755859375,198.3300018310547,200.1999969482422,200.14999389648438,201.52000427246094,202.27000427246094,204.82000732421875,206.1699981689453,204.0,202.97000122070312,203.4199981689453,205.6699981689453,205.30999755859375,205.33999633789062,203.91000366210938,203.77000427246094,204.02999877929688,205.14999389648438,204.75999450683594,204.5399932861328,208.13999938964844,207.77000427246094,207.47000122070312,206.5,208.47999572753906,206.64999389648438,207.49000549316406,207.4600067138672,207.5500030517578,207.8300018310547,204.82000732421875,203.7899932861328,204.55999755859375,204.66000366210938,204.5500030517578,205.1300048828125,202.86000061035156,203.97000122070312,203.16000366210938,201.57000732421875,201.47000122070312,197.7100067138672,189.77999877929688,187.00999450683594,188.67999267578125,189.75999450683594,193.30999755859375,192.19000244140625,187.1699981689453,187.72000122070312,187.6699981689453,184.17999267578125,178.11000061035156,181.41000366210938,179.13999938964844,177.99000549316406,183.02000427246094,183.2100067138672,186.57000732421875,186.49000549316406,186.50999450683594,188.63999938964844,192.8800048828125,191.92999267578125,189.36000061035156,186.77999877929688,187.97999572753906,188.4600067138672,191.32000732421875,190.88999938964844,189.9499969482422,184.1199951171875,186.8000030517578,186.99000549316406,188.9499969482422,189.44000244140625,194.1999969482422,192.72999572753906,195.27999877929688,195.72999572753906,187.16000366210938,186.9499969482422,179.4499969482422,178.16000366210938,177.47999572753906,177.52000427246094,174.6300048828125,171.8300018310547,169.24000549316406,169.9600067138672,164.63999938964844,162.42999267578125,159.6300048828125,155.38999938964844,163.6999969482422,164.72000122070312,163.8000030517578,165.00999450683594],\"type\":\"scatter\",\"xaxis\":\"x2\",\"yaxis\":\"y2\"},{\"mode\":\"lines\",\"name\":\"Tend Line\",\"x\":[\"2018-01-02T00:00:00\",\"2018-01-03T00:00:00\",\"2018-01-04T00:00:00\",\"2018-01-05T00:00:00\",\"2018-01-08T00:00:00\",\"2018-01-09T00:00:00\",\"2018-01-10T00:00:00\",\"2018-01-11T00:00:00\",\"2018-01-12T00:00:00\",\"2018-01-16T00:00:00\",\"2018-01-17T00:00:00\",\"2018-01-18T00:00:00\",\"2018-01-19T00:00:00\",\"2018-01-22T00:00:00\",\"2018-01-23T00:00:00\",\"2018-01-24T00:00:00\",\"2018-01-25T00:00:00\",\"2018-01-26T00:00:00\",\"2018-01-29T00:00:00\",\"2018-01-30T00:00:00\",\"2018-01-31T00:00:00\",\"2018-02-01T00:00:00\",\"2018-02-02T00:00:00\",\"2018-02-05T00:00:00\",\"2018-02-06T00:00:00\",\"2018-02-07T00:00:00\",\"2018-02-08T00:00:00\",\"2018-02-09T00:00:00\",\"2018-02-12T00:00:00\",\"2018-02-13T00:00:00\",\"2018-02-14T00:00:00\",\"2018-02-15T00:00:00\",\"2018-02-16T00:00:00\",\"2018-02-20T00:00:00\",\"2018-02-21T00:00:00\",\"2018-02-22T00:00:00\",\"2018-02-23T00:00:00\",\"2018-02-26T00:00:00\",\"2018-02-27T00:00:00\",\"2018-02-28T00:00:00\",\"2018-03-01T00:00:00\",\"2018-03-02T00:00:00\",\"2018-03-05T00:00:00\",\"2018-03-06T00:00:00\",\"2018-03-07T00:00:00\",\"2018-03-08T00:00:00\",\"2018-03-09T00:00:00\",\"2018-03-12T00:00:00\",\"2018-03-13T00:00:00\",\"2018-03-14T00:00:00\",\"2018-03-15T00:00:00\",\"2018-03-16T00:00:00\",\"2018-03-19T00:00:00\",\"2018-03-20T00:00:00\",\"2018-03-21T00:00:00\",\"2018-03-22T00:00:00\",\"2018-03-23T00:00:00\",\"2018-03-26T00:00:00\",\"2018-03-27T00:00:00\",\"2018-03-28T00:00:00\",\"2018-03-29T00:00:00\",\"2018-04-02T00:00:00\",\"2018-04-03T00:00:00\",\"2018-04-04T00:00:00\",\"2018-04-05T00:00:00\",\"2018-04-06T00:00:00\",\"2018-04-09T00:00:00\",\"2018-04-10T00:00:00\",\"2018-04-11T00:00:00\",\"2018-04-12T00:00:00\",\"2018-04-13T00:00:00\",\"2018-04-16T00:00:00\",\"2018-04-17T00:00:00\",\"2018-04-18T00:00:00\",\"2018-04-19T00:00:00\",\"2018-04-20T00:00:00\",\"2018-04-23T00:00:00\",\"2018-04-24T00:00:00\",\"2018-04-25T00:00:00\",\"2018-04-26T00:00:00\",\"2018-04-27T00:00:00\",\"2018-04-30T00:00:00\",\"2018-05-01T00:00:00\",\"2018-05-02T00:00:00\",\"2018-05-03T00:00:00\",\"2018-05-04T00:00:00\",\"2018-05-07T00:00:00\",\"2018-05-08T00:00:00\",\"2018-05-09T00:00:00\",\"2018-05-10T00:00:00\",\"2018-05-11T00:00:00\",\"2018-05-14T00:00:00\",\"2018-05-15T00:00:00\",\"2018-05-16T00:00:00\",\"2018-05-17T00:00:00\",\"2018-05-18T00:00:00\",\"2018-05-21T00:00:00\",\"2018-05-22T00:00:00\",\"2018-05-23T00:00:00\",\"2018-05-24T00:00:00\",\"2018-05-25T00:00:00\",\"2018-05-29T00:00:00\",\"2018-05-30T00:00:00\",\"2018-05-31T00:00:00\",\"2018-06-01T00:00:00\",\"2018-06-04T00:00:00\",\"2018-06-05T00:00:00\",\"2018-06-06T00:00:00\",\"2018-06-07T00:00:00\",\"2018-06-08T00:00:00\",\"2018-06-11T00:00:00\",\"2018-06-12T00:00:00\",\"2018-06-13T00:00:00\",\"2018-06-14T00:00:00\",\"2018-06-15T00:00:00\",\"2018-06-18T00:00:00\",\"2018-06-19T00:00:00\",\"2018-06-20T00:00:00\",\"2018-06-21T00:00:00\",\"2018-06-22T00:00:00\",\"2018-06-25T00:00:00\",\"2018-06-26T00:00:00\",\"2018-06-27T00:00:00\",\"2018-06-28T00:00:00\",\"2018-06-29T00:00:00\",\"2018-07-02T00:00:00\",\"2018-07-03T00:00:00\",\"2018-07-05T00:00:00\",\"2018-07-06T00:00:00\",\"2018-07-09T00:00:00\",\"2018-07-10T00:00:00\",\"2018-07-11T00:00:00\",\"2018-07-12T00:00:00\",\"2018-07-13T00:00:00\",\"2018-07-16T00:00:00\",\"2018-07-17T00:00:00\",\"2018-07-18T00:00:00\",\"2018-07-19T00:00:00\",\"2018-07-20T00:00:00\",\"2018-07-23T00:00:00\",\"2018-07-24T00:00:00\",\"2018-07-25T00:00:00\",\"2018-07-26T00:00:00\",\"2018-07-27T00:00:00\",\"2018-07-30T00:00:00\",\"2018-07-31T00:00:00\",\"2018-08-01T00:00:00\",\"2018-08-02T00:00:00\",\"2018-08-03T00:00:00\",\"2018-08-06T00:00:00\",\"2018-08-07T00:00:00\",\"2018-08-08T00:00:00\",\"2018-08-09T00:00:00\",\"2018-08-10T00:00:00\",\"2018-08-13T00:00:00\",\"2018-08-14T00:00:00\",\"2018-08-15T00:00:00\",\"2018-08-16T00:00:00\",\"2018-08-17T00:00:00\",\"2018-08-20T00:00:00\",\"2018-08-21T00:00:00\",\"2018-08-22T00:00:00\",\"2018-08-23T00:00:00\",\"2018-08-24T00:00:00\",\"2018-08-27T00:00:00\",\"2018-08-28T00:00:00\",\"2018-08-29T00:00:00\",\"2018-08-30T00:00:00\",\"2018-08-31T00:00:00\",\"2018-09-04T00:00:00\",\"2018-09-05T00:00:00\",\"2018-09-06T00:00:00\",\"2018-09-07T00:00:00\",\"2018-09-10T00:00:00\",\"2018-09-11T00:00:00\",\"2018-09-12T00:00:00\",\"2018-09-13T00:00:00\",\"2018-09-14T00:00:00\",\"2018-09-17T00:00:00\",\"2018-09-18T00:00:00\",\"2018-09-19T00:00:00\",\"2018-09-20T00:00:00\",\"2018-09-21T00:00:00\",\"2018-09-24T00:00:00\",\"2018-09-25T00:00:00\",\"2018-09-26T00:00:00\",\"2018-09-27T00:00:00\",\"2018-09-28T00:00:00\",\"2018-10-01T00:00:00\",\"2018-10-02T00:00:00\",\"2018-10-03T00:00:00\",\"2018-10-04T00:00:00\",\"2018-10-05T00:00:00\",\"2018-10-08T00:00:00\",\"2018-10-09T00:00:00\",\"2018-10-10T00:00:00\",\"2018-10-11T00:00:00\",\"2018-10-12T00:00:00\",\"2018-10-15T00:00:00\",\"2018-10-16T00:00:00\",\"2018-10-17T00:00:00\",\"2018-10-18T00:00:00\",\"2018-10-19T00:00:00\",\"2018-10-22T00:00:00\",\"2018-10-23T00:00:00\",\"2018-10-24T00:00:00\",\"2018-10-25T00:00:00\",\"2018-10-26T00:00:00\",\"2018-10-29T00:00:00\",\"2018-10-30T00:00:00\",\"2018-10-31T00:00:00\",\"2018-11-01T00:00:00\",\"2018-11-02T00:00:00\",\"2018-11-05T00:00:00\",\"2018-11-06T00:00:00\",\"2018-11-07T00:00:00\",\"2018-11-08T00:00:00\",\"2018-11-09T00:00:00\",\"2018-11-12T00:00:00\",\"2018-11-13T00:00:00\",\"2018-11-14T00:00:00\",\"2018-11-15T00:00:00\",\"2018-11-16T00:00:00\",\"2018-11-19T00:00:00\",\"2018-11-20T00:00:00\",\"2018-11-21T00:00:00\",\"2018-11-23T00:00:00\",\"2018-11-26T00:00:00\",\"2018-11-27T00:00:00\",\"2018-11-28T00:00:00\",\"2018-11-29T00:00:00\",\"2018-11-30T00:00:00\",\"2018-12-03T00:00:00\",\"2018-12-04T00:00:00\",\"2018-12-06T00:00:00\",\"2018-12-07T00:00:00\",\"2018-12-10T00:00:00\",\"2018-12-11T00:00:00\",\"2018-12-12T00:00:00\",\"2018-12-13T00:00:00\",\"2018-12-14T00:00:00\",\"2018-12-17T00:00:00\",\"2018-12-18T00:00:00\",\"2018-12-19T00:00:00\",\"2018-12-20T00:00:00\",\"2018-12-21T00:00:00\",\"2018-12-24T00:00:00\",\"2018-12-26T00:00:00\",\"2018-12-27T00:00:00\",\"2018-12-28T00:00:00\",\"2018-12-31T00:00:00\"],\"y\":[187.5295036259662,187.69592845005343,187.86079621204493,188.02410691194075,188.18586054974088,188.34605712544533,188.5046966390541,188.66177909056714,188.8173044799845,188.97127280730618,189.12368407253217,189.27453827566248,189.42383541669707,189.571575495636,189.71775851247924,189.86238446722678,190.0054533598786,190.14696519043477,190.28691995889523,190.42531766526,190.56215830952908,190.69744189170245,190.83116841178017,190.96333786976217,191.0939502656485,191.22300559943912,191.35050387113407,191.4764450807333,191.60082922823688,191.72365631364474,191.84492633695692,191.96463929817338,192.0827951972942,192.19939403431928,192.3144358092487,192.42792052208242,192.53984817282046,192.65021876146278,192.75903228800945,192.8662887524604,192.97198815481568,193.07613049507523,193.17871577323913,193.27974398930732,193.37921514327982,193.47712923515664,193.57348626493777,193.6682862326232,193.76152913821295,193.853214981707,193.94334376310536,194.03191548240804,194.118930139615,194.2043877347263,194.2882882677419,194.3706317386618,194.451418147486,194.53064749421455,194.60831977884737,194.68443500138451,194.75899316182597,194.83199426017174,194.90343829642183,194.9733252705762,195.04165518263488,195.10842803259789,195.1736438204652,195.23730254623683,195.29940420991275,195.35994881149298,195.41893635097753,195.4763668283664,195.53224024365954,195.58655659685704,195.63931588795882,195.6905181169649,195.74016328387532,195.78825138869,195.83478243140905,195.87975641203238,195.92317333056002,195.96503318699197,196.00533598132824,196.0440817135688,196.08127038371367,196.11690199176286,196.15097653771636,196.18349402157418,196.21445444333628,196.2438578030027,196.27170410057343,196.29799333604848,196.32272550942784,196.3459006207115,196.36751866989948,196.38757965699176,196.40608358198833,196.42303044488924,196.43842024569446,196.45225298440397,196.4645286610178,196.47524727553593,196.48440882795836,196.49201331828513,196.4980607465162,196.50255111265156,196.50548441669125,196.50686065863525,196.50667983848354,196.50494195623614,196.50164701189308,196.4967950054543,196.49038593691984,196.4824198062897,196.47289661356385,196.4618163587423,196.4491790418251,196.43498466281218,196.41923322170356,196.40192471849926,196.3830591531993,196.3626365258036,196.34065683631223,196.3171200847252,196.29202627104243,196.265375395264,196.23716745738986,196.20740245742005,196.17608039535452,196.14320127119333,196.10876508493644,196.07277183658385,196.03522152613556,195.9961141535916,195.95544971895194,195.9132282222166,195.86944966338555,195.82411404245883,195.77722135943642,195.7287716143183,195.6787648071045,195.627200937795,195.57408000638983,195.51940201288895,195.4631669572924,195.40537483960014,195.3460256598122,195.28511941792857,195.22265611394923,195.15863574787423,195.09305831970352,195.02592382943712,194.95723227707504,194.88698366261724,194.8151779860638,194.74181524741462,194.66689544666977,194.5904185838292,194.51238465889298,194.43279367186108,194.35164562273346,194.26894051151015,194.18467833819113,194.09885910277646,194.0114828052661,193.92254944566002,193.83205902395827,193.74001154016082,193.64640699426766,193.55124538627885,193.45452671619432,193.3562509840141,193.2564181897382,193.1550283333666,193.05208141489933,192.94757743433635,192.8415163916777,192.73389828692333,192.6247231200733,192.51399089112755,192.4017016000861,192.287855246949,192.1724518317162,192.0554913543877,191.9369738149635,191.81689921344363,191.69526754982806,191.57207882411677,191.44733303630983,191.3210301864072,191.19317027440886,191.06375330031483,190.93277926412512,190.80024816583972,190.6661600054586,190.5305147829818,190.39331249840933,190.25455315174116,190.1142367429773,189.97236327211775,189.82893273916252,189.6839451441116,189.53740048696497,189.38929876772266,189.23963998638465,189.08842414295094,188.93565123742155,188.78132126979648,188.62543424007572,188.46799014825928,188.30898899434712,188.14843077833928,187.98631550023575,187.82264316003653,187.6574137577416,187.49062729335103,187.32228376686473,187.15238317828275,186.98092552760505,186.8079108148317,186.63333903996264,186.4572102029979,186.27952430393748,186.10028134278133,185.91948131952952,185.737124234182,185.5532100867388,185.3677388771999,185.18071060556534,184.99212527183505,184.8019828760091,184.61028341808745,184.4170268980701,184.22221331595708,184.02584267174836,183.82791496544394,183.62843019704383,183.42738836654803,183.22478947395655,183.02063351926935,182.8149205024865,182.60765042360794,182.39882328263369,182.18843907956375,181.9764978143981,181.7629994871368,181.54794409777978,181.33133164632707,181.11316213277868,180.89343555713458,180.67215191939482],\"type\":\"scatter\",\"xaxis\":\"x2\",\"yaxis\":\"y2\"},{\"close\":[195.05999755859375,195.27000427246094,195.9499969482422,196.88999938964844,198.47999572753906,198.86000061035156,199.0500030517578,203.77000427246094,205.3300018310547,202.50999450683594,203.14999389648438,203.27000427246094,204.00999450683594,204.92999267578125,204.58999633789062,201.63999938964844,198.4600067138672,200.5,200.25999450683594,197.5500030517578,197.66000366210938,196.5500030517578,192.3300018310547,186.5399932861328,189.61000061035156,190.13999938964844,182.9199981689453,182.6300048828125,185.5399932861328,186.92999267578125,188.64999389648438,190.0399932861328,189.33999633789062,186.41000366210938,187.02999877929688,188.2100067138672,190.97000122070312,194.39999389648438,190.02999877929688,187.35000610351562,186.67999267578125,186.72000122070312,187.05999755859375,188.58999633789062,187.97000122070312,189.0,194.02999877929688,193.52999877929688,194.3699951171875,191.0500030517578,191.52999877929688,193.22999572753906,192.5,193.27999877929688,192.47000122070312,186.33999633789062,182.77000427246094,186.6699981689453,183.13999938964844,183.30999755859375,187.02999877929688,183.30999755859375,186.92999267578125,186.74000549316406,187.97999572753906,182.4499969482422,181.94000244140625,183.80999755859375,183.25999450683594,186.24000549316406,186.4499969482422,190.82000732421875,190.4199981689453,193.7899932861328,192.07000732421875,190.19000244140625,191.00999450683594,187.1300048828125,189.0800018310547,187.6199951171875,190.00999450683594,187.6999969482422,187.05999755859375,185.19000244140625,184.77000427246094,186.92999267578125,186.66000366210938,188.07000732421875,189.25999450683594,191.16000366210938,193.1699981689453,192.1300048828125,191.3300018310547,192.97999572753906,193.72999572753906,193.60000610351562,196.0500030517578,193.69000244140625,193.5500030517578,195.77999877929688,196.6199951171875,193.8699951171875,196.9199981689453,194.10000610351562,196.6699981689453,195.25,194.5399932861328,195.6999969482422,195.80999755859375,197.52999877929688,199.74000549316406,200.30999755859375,198.77000427246094,198.9199981689453,200.0,199.61000061035156,196.25,196.35000610351562,195.5399932861328,194.52999877929688,190.05999755859375,188.6199951171875,186.00999450683594,185.52000427246094,186.22999572753906,188.0500030517578,186.66000366210938,187.72999572753906,188.47999572753906,192.41000366210938,191.83999633789062,187.85000610351562,188.7899932861328,189.80999755859375,187.88999938964844,188.39999389648438,192.69000244140625,193.5,193.30999755859375,194.61000061035156,191.6300048828125,196.11000061035156,197.75999450683594,197.14999389648438,196.77000427246094,199.2899932861328,197.55999755859375,198.88999938964844,199.8000030517578,201.0,201.9600067138672,201.1300048828125,200.49000549316406,199.55999755859375,198.3300018310547,200.1999969482422,200.14999389648438,201.52000427246094,202.27000427246094,204.82000732421875,206.1699981689453,204.0,202.97000122070312,203.4199981689453,205.6699981689453,205.30999755859375,205.33999633789062,203.91000366210938,203.77000427246094,204.02999877929688,205.14999389648438,204.75999450683594,204.5399932861328,208.13999938964844,207.77000427246094,207.47000122070312,206.5,208.47999572753906,206.64999389648438,207.49000549316406,207.4600067138672,207.5500030517578,207.8300018310547,204.82000732421875,203.7899932861328,204.55999755859375,204.66000366210938,204.5500030517578,205.1300048828125,202.86000061035156,203.97000122070312,203.16000366210938,201.57000732421875,201.47000122070312,197.7100067138672,189.77999877929688,187.00999450683594,188.67999267578125,189.75999450683594,193.30999755859375,192.19000244140625,187.1699981689453,187.72000122070312,187.6699981689453,184.17999267578125,178.11000061035156,181.41000366210938,179.13999938964844,177.99000549316406,183.02000427246094,183.2100067138672,186.57000732421875,186.49000549316406,186.50999450683594,188.63999938964844,192.8800048828125,191.92999267578125,189.36000061035156,186.77999877929688,187.97999572753906,188.4600067138672,191.32000732421875,190.88999938964844,189.9499969482422,184.1199951171875,186.8000030517578,186.99000549316406,188.9499969482422,189.44000244140625,194.1999969482422,192.72999572753906,195.27999877929688,195.72999572753906,187.16000366210938,186.9499969482422,179.4499969482422,178.16000366210938,177.47999572753906,177.52000427246094,174.6300048828125,171.8300018310547,169.24000549316406,169.9600067138672,164.63999938964844,162.42999267578125,159.6300048828125,155.38999938964844,163.6999969482422,164.72000122070312,163.8000030517578,165.00999450683594],\"high\":[195.08999633789062,195.8800048828125,197.0,198.1999969482422,198.66000366210938,199.44000244140625,200.1699981689453,204.07000732421875,205.49000549316406,206.72999572753906,203.58999633789062,204.39999389648438,204.0500030517578,205.50999450683594,205.1199951171875,203.9199981689453,201.41000366210938,200.57000732421875,201.99000549316406,199.88999938964844,200.64999389648438,198.08999633789062,195.94000244140625,193.8800048828125,190.72999572753906,192.1999969482422,190.58999633789062,184.0,186.80999755859375,187.5500030517578,188.9499969482422,190.07000732421875,191.33999633789062,189.3300018310547,190.39999389648438,190.22999572753906,190.97000122070312,194.77999877929688,195.35000610351562,190.9600067138672,190.30999755859375,187.19000244140625,187.55999755859375,188.86000061035156,188.4600067138672,189.6300048828125,194.07000732421875,194.35000610351562,195.88999938964844,195.0,192.5399932861328,194.25,193.22999572753906,193.85000610351562,194.97999572753906,190.8000030517578,187.58999633789062,186.89999389648438,187.67999267578125,185.05999755859375,188.5500030517578,187.47999572753906,187.22000122070312,187.0800018310547,188.61000061035156,186.86000061035156,184.47999572753906,185.0800018310547,184.32000732421875,187.16000366210938,188.16000366210938,191.39999389648438,192.00999450683594,195.0,194.22000122070312,192.3699951171875,191.77000427246094,192.16000366210938,189.91000366210938,189.1999969482422,190.2100067138672,191.2100067138672,187.82000732421875,187.5,185.69000244140625,187.8800048828125,187.75,189.49000549316406,189.82000732421875,191.47999572753906,193.77000427246094,194.49000549316406,191.8800048828125,194.0,195.1300048828125,194.02000427246094,196.88999938964844,197.0800018310547,193.5500030517578,196.1999969482422,197.6199951171875,195.67999267578125,197.75,197.16000366210938,197.10000610351562,198.08999633789062,195.72000122070312,195.75,196.47999572753906,197.61000061035156,200.80999755859375,201.0,200.7100067138672,200.10000610351562,200.36000061035156,200.44000244140625,197.63999938964844,197.49000549316406,196.6999969482422,197.4499969482422,193.52000427246094,190.05999755859375,189.97999572753906,186.2100067138672,188.41000366210938,188.1199951171875,188.91000366210938,187.8300018310547,189.39999389648438,192.52999877929688,192.94000244140625,189.97999572753906,189.83999633789062,190.32000732421875,191.58999633789062,188.72999572753906,193.5800018310547,193.77000427246094,193.94000244140625,194.8300018310547,195.8800048828125,196.24000549316406,198.9199981689453,198.35000610351562,199.72999572753906,200.57000732421875,199.55999755859375,199.22999572753906,200.02000427246094,201.3300018310547,202.52999877929688,202.22000122070312,201.9499969482422,200.1999969482422,200.0,201.2100067138672,200.3699951171875,202.57000732421875,202.72999572753906,205.22999572753906,206.89999389648438,205.92999267578125,204.25,204.11000061035156,206.42999267578125,206.82000732421875,205.83999633789062,205.11000061035156,205.85000610351562,204.41000366210938,205.4600067138672,206.10000610351562,206.4199981689453,208.52000427246094,208.52999877929688,208.94000244140625,208.67999267578125,209.42999267578125,209.05999755859375,208.00999450683594,208.4499969482422,209.00999450683594,209.3300018310547,207.4499969482422,205.5,205.9600067138672,205.8800048828125,205.10000610351562,206.72999572753906,204.55999755859375,205.25,204.66000366210938,203.14999389648438,202.1999969482422,201.61000061035156,197.2100067138672,191.75,190.77999877929688,190.66000366210938,193.52999877929688,195.0,191.47999572753906,188.8300018310547,188.58999633789062,185.5500030517578,185.24000549316406,182.8300018310547,180.49000549316406,182.6699981689453,183.2899932861328,186.27000427246094,187.1999969482422,189.2899932861328,187.33999633789062,188.69000244140625,193.07000732421875,193.08999633789062,191.77999877929688,190.25,190.0500030517578,191.11000061035156,191.91000366210938,191.89999389648438,191.0500030517578,187.66000366210938,187.8800048828125,188.17999267578125,189.25999450683594,189.61000061035156,194.1999969482422,194.5500030517578,195.5,199.08999633789062,194.3000030517578,187.19000244140625,187.47999572753906,179.44000244140625,181.14999389648438,180.49000549316406,178.14999389648438,174.88999938964844,171.66000366210938,171.85000610351562,171.4600067138672,165.3300018310547,164.3699951171875,159.5500030517578,163.8000030517578,164.80999755859375,166.5500030517578,165.35000610351562],\"low\":[192.6300048828125,193.92999267578125,195.02000427246094,195.67999267578125,197.07000732421875,198.5800018310547,198.24000549316406,199.5500030517578,203.52999877929688,201.6300048828125,201.9199981689453,202.72000122070312,202.3300018310547,202.8000030517578,203.25999450683594,200.02999877929688,197.83999633789062,198.61000061035156,199.16000366210938,197.49000549316406,196.97999572753906,195.0500030517578,192.25,186.3000030517578,181.4600067138672,188.63999938964844,182.9199981689453,176.6199951171875,182.30999755859375,183.77000427246094,185.75,186.72000122070312,188.8800048828125,185.69000244140625,185.49000549316406,187.7899932861328,188.97999572753906,191.4199981689453,190.02999877929688,187.35000610351562,185.35000610351562,183.27999877929688,183.75999450683594,186.5800018310547,186.69000244140625,186.8300018310547,190.02000427246094,192.88999938964844,193.75,190.82000732421875,190.8000030517578,191.85000610351562,190.58999633789062,192.4199981689453,192.47000122070312,186.10000610351562,182.44000244140625,182.92999267578125,182.33999633789062,181.9199981689453,184.83999633789062,181.64999389648438,184.02000427246094,183.19000244140625,185.94000244140625,180.61000061035156,181.75999450683594,182.75999450683594,182.52999877929688,184.11000061035156,185.8699951171875,186.80999755859375,189.66000366210938,191.5500030517578,190.82000732421875,189.60000610351562,190.0,185.5500030517578,186.91000366210938,185.25,187.4199981689453,187.58999633789062,185.35000610351562,184.8699951171875,181.67999267578125,183.44000244140625,186.2100067138672,186.10000610351562,188.14999389648438,189.5,191.0399932861328,191.77000427246094,190.75999450683594,191.14999389648438,193.27999877929688,192.67999267578125,193.42999267578125,193.5800018310547,191.80999755859375,193.16000366210938,195.4499969482422,192.9199981689453,194.63999938964844,193.75999450683594,194.97999572753906,194.8000030517578,192.97999572753906,193.27000427246094,194.64999389648438,195.4199981689453,197.0500030517578,199.13999938964844,198.27000427246094,198.17999267578125,197.1999969482422,197.9600067138672,194.69000244140625,195.1999969482422,194.2100067138672,194.4199981689453,188.72000122070312,187.67999267578125,185.97000122070312,183.41000366210938,186.1699981689453,184.75999450683594,186.1999969482422,185.8800048828125,186.72000122070312,188.82000732421875,190.49000549316406,187.3800048828125,187.4600067138672,188.5399932861328,186.44000244140625,187.2100067138672,190.1699981689453,190.9499969482422,192.39999389648438,192.6300048828125,191.13999938964844,191.85000610351562,194.80999755859375,196.17999267578125,196.5399932861328,196.80999755859375,197.10000610351562,196.5500030517578,198.24000549316406,199.35000610351562,200.61000061035156,200.72000122070312,200.4600067138672,198.25,197.80999755859375,198.74000549316406,197.74000549316406,200.5399932861328,201.00999450683594,202.85000610351562,205.25,203.92999267578125,202.57000732421875,202.97000122070312,203.89999389648438,205.08999633789062,204.6699981689453,203.42999267578125,203.19000244140625,202.8800048828125,202.8300018310547,204.52999877929688,203.72000122070312,205.6199951171875,207.22000122070312,207.22000122070312,206.35000610351562,206.9600067138672,206.02999877929688,205.24000549316406,206.9199981689453,207.35000610351562,207.61000061035156,204.3300018310547,203.47999572753906,203.0800018310547,204.4499969482422,203.9499969482422,204.6699981689453,202.75999450683594,203.38999938964844,201.77000427246094,200.27000427246094,198.92999267578125,197.60000610351562,189.6300048828125,185.9600067138672,186.55999755859375,186.64999389648438,190.0399932861328,190.5500030517578,186.61000061035156,186.66000366210938,186.08999633789062,181.0399932861328,177.77999877929688,177.85000610351562,176.5,175.5,177.05999755859375,183.08999633789062,183.3699951171875,185.39999389648438,185.3800048828125,185.10000610351562,189.33999633789062,190.9600067138672,188.3300018310547,186.47000122070312,186.89999389648438,186.77000427246094,186.1699981689453,189.57000732421875,188.8000030517578,183.49000549316406,184.52999877929688,185.97000122070312,187.57000732421875,187.5500030517578,189.42999267578125,192.3699951171875,192.27999877929688,195.16000366210938,185.77000427246094,182.69000244140625,179.02999877929688,174.63999938964844,176.30999755859375,177.47999572753906,173.30999755859375,171.32000732421875,168.41000366210938,169.1300048828125,163.83999633789062,160.8699951171875,159.38999938964844,155.24000549316406,155.63999938964844,158.8800048828125,163.2100067138672,163.27000427246094],\"open\":[192.77000427246094,194.85000610351562,196.19000244140625,196.8800048828125,197.07000732421875,198.5800018310547,198.44000244140625,199.75,204.2899932861328,206.72999572753906,202.41000366210938,202.82000732421875,203.8000030517578,203.89999389648438,204.64999389648438,203.9199981689453,201.41000366210938,198.6999969482422,199.16000366210938,198.3000030517578,199.19000244140625,196.0,195.72000122070312,190.0399932861328,181.52000427246094,188.63999938964844,190.58999633789062,182.97999572753906,183.3699951171875,184.66000366210938,186.4199981689453,189.97999572753906,189.2899932861328,188.42999267578125,186.8000030517578,187.97999572753906,189.97999572753906,191.6699981689453,194.72999572753906,190.9499969482422,187.8800048828125,185.05999755859375,185.86000061035156,187.64999389648438,186.99000549316406,188.80999755859375,190.8699951171875,193.89999389648438,193.75,194.91000366210938,191.72000122070312,191.85000610351562,192.27999877929688,192.5,192.6999969482422,190.25,186.25999450683594,185.4499969482422,186.97999572753906,182.97999572753906,184.83999633789062,186.77000427246094,184.41000366210938,184.2100067138672,188.25999450683594,186.3800048828125,183.3000030517578,183.99000549316406,182.82000732421875,184.11000061035156,188.16000366210938,186.80999755859375,191.8699951171875,192.0399932861328,194.22000122070312,192.0,190.4600067138672,191.47999572753906,187.1699981689453,188.36000061035156,188.41000366210938,190.94000244140625,187.5,186.17999267578125,184.75,183.74000549316406,187.69000244140625,186.10000610351562,188.47999572753906,189.72999572753906,191.50999450683594,193.3699951171875,191.8800048828125,191.14999389648438,193.27999877929688,193.77999877929688,194.4499969482422,197.0800018310547,192.92999267578125,193.16000366210938,195.72999572753906,195.67999267578125,194.63999938964844,196.5399932861328,194.97999572753906,197.13999938964844,195.32000732421875,194.63999938964844,195.9600067138672,196.27999877929688,197.0500030517578,199.44000244140625,200.7100067138672,199.3800048828125,197.8800048828125,199.32000732421875,197.13999938964844,197.0800018310547,195.77999877929688,196.9499969482422,193.5,189.60000610351562,188.72000122070312,185.52999877929688,186.83999633789062,184.75999450683594,188.91000366210938,187.6999969482422,187.85000610351562,188.82000732421875,192.0500030517578,189.97999572753906,188.57000732421875,188.67999267578125,190.97000122070312,187.2100067138672,190.30999755859375,191.2899932861328,192.39999389648438,192.6300048828125,195.58999633789062,191.85000610351562,195.19000244140625,198.35000610351562,197.07000732421875,196.80999755859375,199.42999267578125,196.5500030517578,198.24000549316406,199.41000366210938,200.97999572753906,201.97000122070312,201.55999755859375,199.8800048828125,199.6699981689453,198.74000549316406,199.6699981689453,201.10000610351562,201.3800048828125,202.85000610351562,205.30999755859375,205.5399932861328,203.5500030517578,203.4499969482422,203.89999389648438,205.67999267578125,205.4499969482422,204.99000549316406,203.22999572753906,202.8800048828125,203.92999267578125,204.67999267578125,203.75999450683594,205.75999450683594,208.16000366210938,207.4600067138672,208.3000030517578,206.9600067138672,208.6999969482422,207.14999389648438,207.77999877929688,208.08999633789062,207.85000610351562,207.4499969482422,204.9499969482422,203.0800018310547,205.1699981689453,204.47000122070312,205.24000549316406,204.55999755859375,204.0,203.6999969482422,203.0800018310547,200.41000366210938,200.77999877929688,197.2100067138672,190.30999755859375,189.32000732421875,186.64999389648438,190.82000732421875,194.6199951171875,191.47999572753906,188.38999938964844,187.97000122070312,185.52000427246094,184.14999389648438,177.85000610351562,178.74000549316406,180.97000122070312,177.05999755859375,185.00999450683594,183.97000122070312,188.05999755859375,186.5,185.10000610351562,189.44000244140625,192.0,191.36000061035156,190.25,187.11000061035156,189.14999389648438,187.7899932861328,190.83999633789062,190.5399932861328,187.66000366210938,185.07000732421875,185.97000122070312,188.75,188.75,189.9600067138672,194.17999267578125,192.27999877929688,197.1199951171875,194.3000030517578,184.00999450683594,186.05999755859375,179.02000427246094,180.24000549316406,179.7100067138672,177.97999572753906,173.35000610351562,170.60000610351562,170.58999633789062,167.07000732421875,163.66000366210938,163.11000061035156,158.41000366210938,156.88999938964844,161.89999389648438,165.33999633789062,164.58999633789062],\"x\":[\"2018-01-02T00:00:00\",\"2018-01-03T00:00:00\",\"2018-01-04T00:00:00\",\"2018-01-05T00:00:00\",\"2018-01-08T00:00:00\",\"2018-01-09T00:00:00\",\"2018-01-10T00:00:00\",\"2018-01-11T00:00:00\",\"2018-01-12T00:00:00\",\"2018-01-16T00:00:00\",\"2018-01-17T00:00:00\",\"2018-01-18T00:00:00\",\"2018-01-19T00:00:00\",\"2018-01-22T00:00:00\",\"2018-01-23T00:00:00\",\"2018-01-24T00:00:00\",\"2018-01-25T00:00:00\",\"2018-01-26T00:00:00\",\"2018-01-29T00:00:00\",\"2018-01-30T00:00:00\",\"2018-01-31T00:00:00\",\"2018-02-01T00:00:00\",\"2018-02-02T00:00:00\",\"2018-02-05T00:00:00\",\"2018-02-06T00:00:00\",\"2018-02-07T00:00:00\",\"2018-02-08T00:00:00\",\"2018-02-09T00:00:00\",\"2018-02-12T00:00:00\",\"2018-02-13T00:00:00\",\"2018-02-14T00:00:00\",\"2018-02-15T00:00:00\",\"2018-02-16T00:00:00\",\"2018-02-20T00:00:00\",\"2018-02-21T00:00:00\",\"2018-02-22T00:00:00\",\"2018-02-23T00:00:00\",\"2018-02-26T00:00:00\",\"2018-02-27T00:00:00\",\"2018-02-28T00:00:00\",\"2018-03-01T00:00:00\",\"2018-03-02T00:00:00\",\"2018-03-05T00:00:00\",\"2018-03-06T00:00:00\",\"2018-03-07T00:00:00\",\"2018-03-08T00:00:00\",\"2018-03-09T00:00:00\",\"2018-03-12T00:00:00\",\"2018-03-13T00:00:00\",\"2018-03-14T00:00:00\",\"2018-03-15T00:00:00\",\"2018-03-16T00:00:00\",\"2018-03-19T00:00:00\",\"2018-03-20T00:00:00\",\"2018-03-21T00:00:00\",\"2018-03-22T00:00:00\",\"2018-03-23T00:00:00\",\"2018-03-26T00:00:00\",\"2018-03-27T00:00:00\",\"2018-03-28T00:00:00\",\"2018-03-29T00:00:00\",\"2018-04-02T00:00:00\",\"2018-04-03T00:00:00\",\"2018-04-04T00:00:00\",\"2018-04-05T00:00:00\",\"2018-04-06T00:00:00\",\"2018-04-09T00:00:00\",\"2018-04-10T00:00:00\",\"2018-04-11T00:00:00\",\"2018-04-12T00:00:00\",\"2018-04-13T00:00:00\",\"2018-04-16T00:00:00\",\"2018-04-17T00:00:00\",\"2018-04-18T00:00:00\",\"2018-04-19T00:00:00\",\"2018-04-20T00:00:00\",\"2018-04-23T00:00:00\",\"2018-04-24T00:00:00\",\"2018-04-25T00:00:00\",\"2018-04-26T00:00:00\",\"2018-04-27T00:00:00\",\"2018-04-30T00:00:00\",\"2018-05-01T00:00:00\",\"2018-05-02T00:00:00\",\"2018-05-03T00:00:00\",\"2018-05-04T00:00:00\",\"2018-05-07T00:00:00\",\"2018-05-08T00:00:00\",\"2018-05-09T00:00:00\",\"2018-05-10T00:00:00\",\"2018-05-11T00:00:00\",\"2018-05-14T00:00:00\",\"2018-05-15T00:00:00\",\"2018-05-16T00:00:00\",\"2018-05-17T00:00:00\",\"2018-05-18T00:00:00\",\"2018-05-21T00:00:00\",\"2018-05-22T00:00:00\",\"2018-05-23T00:00:00\",\"2018-05-24T00:00:00\",\"2018-05-25T00:00:00\",\"2018-05-29T00:00:00\",\"2018-05-30T00:00:00\",\"2018-05-31T00:00:00\",\"2018-06-01T00:00:00\",\"2018-06-04T00:00:00\",\"2018-06-05T00:00:00\",\"2018-06-06T00:00:00\",\"2018-06-07T00:00:00\",\"2018-06-08T00:00:00\",\"2018-06-11T00:00:00\",\"2018-06-12T00:00:00\",\"2018-06-13T00:00:00\",\"2018-06-14T00:00:00\",\"2018-06-15T00:00:00\",\"2018-06-18T00:00:00\",\"2018-06-19T00:00:00\",\"2018-06-20T00:00:00\",\"2018-06-21T00:00:00\",\"2018-06-22T00:00:00\",\"2018-06-25T00:00:00\",\"2018-06-26T00:00:00\",\"2018-06-27T00:00:00\",\"2018-06-28T00:00:00\",\"2018-06-29T00:00:00\",\"2018-07-02T00:00:00\",\"2018-07-03T00:00:00\",\"2018-07-05T00:00:00\",\"2018-07-06T00:00:00\",\"2018-07-09T00:00:00\",\"2018-07-10T00:00:00\",\"2018-07-11T00:00:00\",\"2018-07-12T00:00:00\",\"2018-07-13T00:00:00\",\"2018-07-16T00:00:00\",\"2018-07-17T00:00:00\",\"2018-07-18T00:00:00\",\"2018-07-19T00:00:00\",\"2018-07-20T00:00:00\",\"2018-07-23T00:00:00\",\"2018-07-24T00:00:00\",\"2018-07-25T00:00:00\",\"2018-07-26T00:00:00\",\"2018-07-27T00:00:00\",\"2018-07-30T00:00:00\",\"2018-07-31T00:00:00\",\"2018-08-01T00:00:00\",\"2018-08-02T00:00:00\",\"2018-08-03T00:00:00\",\"2018-08-06T00:00:00\",\"2018-08-07T00:00:00\",\"2018-08-08T00:00:00\",\"2018-08-09T00:00:00\",\"2018-08-10T00:00:00\",\"2018-08-13T00:00:00\",\"2018-08-14T00:00:00\",\"2018-08-15T00:00:00\",\"2018-08-16T00:00:00\",\"2018-08-17T00:00:00\",\"2018-08-20T00:00:00\",\"2018-08-21T00:00:00\",\"2018-08-22T00:00:00\",\"2018-08-23T00:00:00\",\"2018-08-24T00:00:00\",\"2018-08-27T00:00:00\",\"2018-08-28T00:00:00\",\"2018-08-29T00:00:00\",\"2018-08-30T00:00:00\",\"2018-08-31T00:00:00\",\"2018-09-04T00:00:00\",\"2018-09-05T00:00:00\",\"2018-09-06T00:00:00\",\"2018-09-07T00:00:00\",\"2018-09-10T00:00:00\",\"2018-09-11T00:00:00\",\"2018-09-12T00:00:00\",\"2018-09-13T00:00:00\",\"2018-09-14T00:00:00\",\"2018-09-17T00:00:00\",\"2018-09-18T00:00:00\",\"2018-09-19T00:00:00\",\"2018-09-20T00:00:00\",\"2018-09-21T00:00:00\",\"2018-09-24T00:00:00\",\"2018-09-25T00:00:00\",\"2018-09-26T00:00:00\",\"2018-09-27T00:00:00\",\"2018-09-28T00:00:00\",\"2018-10-01T00:00:00\",\"2018-10-02T00:00:00\",\"2018-10-03T00:00:00\",\"2018-10-04T00:00:00\",\"2018-10-05T00:00:00\",\"2018-10-08T00:00:00\",\"2018-10-09T00:00:00\",\"2018-10-10T00:00:00\",\"2018-10-11T00:00:00\",\"2018-10-12T00:00:00\",\"2018-10-15T00:00:00\",\"2018-10-16T00:00:00\",\"2018-10-17T00:00:00\",\"2018-10-18T00:00:00\",\"2018-10-19T00:00:00\",\"2018-10-22T00:00:00\",\"2018-10-23T00:00:00\",\"2018-10-24T00:00:00\",\"2018-10-25T00:00:00\",\"2018-10-26T00:00:00\",\"2018-10-29T00:00:00\",\"2018-10-30T00:00:00\",\"2018-10-31T00:00:00\",\"2018-11-01T00:00:00\",\"2018-11-02T00:00:00\",\"2018-11-05T00:00:00\",\"2018-11-06T00:00:00\",\"2018-11-07T00:00:00\",\"2018-11-08T00:00:00\",\"2018-11-09T00:00:00\",\"2018-11-12T00:00:00\",\"2018-11-13T00:00:00\",\"2018-11-14T00:00:00\",\"2018-11-15T00:00:00\",\"2018-11-16T00:00:00\",\"2018-11-19T00:00:00\",\"2018-11-20T00:00:00\",\"2018-11-21T00:00:00\",\"2018-11-23T00:00:00\",\"2018-11-26T00:00:00\",\"2018-11-27T00:00:00\",\"2018-11-28T00:00:00\",\"2018-11-29T00:00:00\",\"2018-11-30T00:00:00\",\"2018-12-03T00:00:00\",\"2018-12-04T00:00:00\",\"2018-12-06T00:00:00\",\"2018-12-07T00:00:00\",\"2018-12-10T00:00:00\",\"2018-12-11T00:00:00\",\"2018-12-12T00:00:00\",\"2018-12-13T00:00:00\",\"2018-12-14T00:00:00\",\"2018-12-17T00:00:00\",\"2018-12-18T00:00:00\",\"2018-12-19T00:00:00\",\"2018-12-20T00:00:00\",\"2018-12-21T00:00:00\",\"2018-12-24T00:00:00\",\"2018-12-26T00:00:00\",\"2018-12-27T00:00:00\",\"2018-12-28T00:00:00\",\"2018-12-31T00:00:00\"],\"type\":\"candlestick\",\"xaxis\":\"x\",\"yaxis\":\"y\"}],                        {\"template\":{\"data\":{\"bar\":[{\"error_x\":{\"color\":\"#2a3f5f\"},\"error_y\":{\"color\":\"#2a3f5f\"},\"marker\":{\"line\":{\"color\":\"#E5ECF6\",\"width\":0.5},\"pattern\":{\"fillmode\":\"overlay\",\"size\":10,\"solidity\":0.2}},\"type\":\"bar\"}],\"barpolar\":[{\"marker\":{\"line\":{\"color\":\"#E5ECF6\",\"width\":0.5},\"pattern\":{\"fillmode\":\"overlay\",\"size\":10,\"solidity\":0.2}},\"type\":\"barpolar\"}],\"carpet\":[{\"aaxis\":{\"endlinecolor\":\"#2a3f5f\",\"gridcolor\":\"white\",\"linecolor\":\"white\",\"minorgridcolor\":\"white\",\"startlinecolor\":\"#2a3f5f\"},\"baxis\":{\"endlinecolor\":\"#2a3f5f\",\"gridcolor\":\"white\",\"linecolor\":\"white\",\"minorgridcolor\":\"white\",\"startlinecolor\":\"#2a3f5f\"},\"type\":\"carpet\"}],\"choropleth\":[{\"colorbar\":{\"outlinewidth\":0,\"ticks\":\"\"},\"type\":\"choropleth\"}],\"contour\":[{\"colorbar\":{\"outlinewidth\":0,\"ticks\":\"\"},\"colorscale\":[[0.0,\"#0d0887\"],[0.1111111111111111,\"#46039f\"],[0.2222222222222222,\"#7201a8\"],[0.3333333333333333,\"#9c179e\"],[0.4444444444444444,\"#bd3786\"],[0.5555555555555556,\"#d8576b\"],[0.6666666666666666,\"#ed7953\"],[0.7777777777777778,\"#fb9f3a\"],[0.8888888888888888,\"#fdca26\"],[1.0,\"#f0f921\"]],\"type\":\"contour\"}],\"contourcarpet\":[{\"colorbar\":{\"outlinewidth\":0,\"ticks\":\"\"},\"type\":\"contourcarpet\"}],\"heatmap\":[{\"colorbar\":{\"outlinewidth\":0,\"ticks\":\"\"},\"colorscale\":[[0.0,\"#0d0887\"],[0.1111111111111111,\"#46039f\"],[0.2222222222222222,\"#7201a8\"],[0.3333333333333333,\"#9c179e\"],[0.4444444444444444,\"#bd3786\"],[0.5555555555555556,\"#d8576b\"],[0.6666666666666666,\"#ed7953\"],[0.7777777777777778,\"#fb9f3a\"],[0.8888888888888888,\"#fdca26\"],[1.0,\"#f0f921\"]],\"type\":\"heatmap\"}],\"heatmapgl\":[{\"colorbar\":{\"outlinewidth\":0,\"ticks\":\"\"},\"colorscale\":[[0.0,\"#0d0887\"],[0.1111111111111111,\"#46039f\"],[0.2222222222222222,\"#7201a8\"],[0.3333333333333333,\"#9c179e\"],[0.4444444444444444,\"#bd3786\"],[0.5555555555555556,\"#d8576b\"],[0.6666666666666666,\"#ed7953\"],[0.7777777777777778,\"#fb9f3a\"],[0.8888888888888888,\"#fdca26\"],[1.0,\"#f0f921\"]],\"type\":\"heatmapgl\"}],\"histogram\":[{\"marker\":{\"pattern\":{\"fillmode\":\"overlay\",\"size\":10,\"solidity\":0.2}},\"type\":\"histogram\"}],\"histogram2d\":[{\"colorbar\":{\"outlinewidth\":0,\"ticks\":\"\"},\"colorscale\":[[0.0,\"#0d0887\"],[0.1111111111111111,\"#46039f\"],[0.2222222222222222,\"#7201a8\"],[0.3333333333333333,\"#9c179e\"],[0.4444444444444444,\"#bd3786\"],[0.5555555555555556,\"#d8576b\"],[0.6666666666666666,\"#ed7953\"],[0.7777777777777778,\"#fb9f3a\"],[0.8888888888888888,\"#fdca26\"],[1.0,\"#f0f921\"]],\"type\":\"histogram2d\"}],\"histogram2dcontour\":[{\"colorbar\":{\"outlinewidth\":0,\"ticks\":\"\"},\"colorscale\":[[0.0,\"#0d0887\"],[0.1111111111111111,\"#46039f\"],[0.2222222222222222,\"#7201a8\"],[0.3333333333333333,\"#9c179e\"],[0.4444444444444444,\"#bd3786\"],[0.5555555555555556,\"#d8576b\"],[0.6666666666666666,\"#ed7953\"],[0.7777777777777778,\"#fb9f3a\"],[0.8888888888888888,\"#fdca26\"],[1.0,\"#f0f921\"]],\"type\":\"histogram2dcontour\"}],\"mesh3d\":[{\"colorbar\":{\"outlinewidth\":0,\"ticks\":\"\"},\"type\":\"mesh3d\"}],\"parcoords\":[{\"line\":{\"colorbar\":{\"outlinewidth\":0,\"ticks\":\"\"}},\"type\":\"parcoords\"}],\"pie\":[{\"automargin\":true,\"type\":\"pie\"}],\"scatter\":[{\"marker\":{\"colorbar\":{\"outlinewidth\":0,\"ticks\":\"\"}},\"type\":\"scatter\"}],\"scatter3d\":[{\"line\":{\"colorbar\":{\"outlinewidth\":0,\"ticks\":\"\"}},\"marker\":{\"colorbar\":{\"outlinewidth\":0,\"ticks\":\"\"}},\"type\":\"scatter3d\"}],\"scattercarpet\":[{\"marker\":{\"colorbar\":{\"outlinewidth\":0,\"ticks\":\"\"}},\"type\":\"scattercarpet\"}],\"scattergeo\":[{\"marker\":{\"colorbar\":{\"outlinewidth\":0,\"ticks\":\"\"}},\"type\":\"scattergeo\"}],\"scattergl\":[{\"marker\":{\"colorbar\":{\"outlinewidth\":0,\"ticks\":\"\"}},\"type\":\"scattergl\"}],\"scattermapbox\":[{\"marker\":{\"colorbar\":{\"outlinewidth\":0,\"ticks\":\"\"}},\"type\":\"scattermapbox\"}],\"scatterpolar\":[{\"marker\":{\"colorbar\":{\"outlinewidth\":0,\"ticks\":\"\"}},\"type\":\"scatterpolar\"}],\"scatterpolargl\":[{\"marker\":{\"colorbar\":{\"outlinewidth\":0,\"ticks\":\"\"}},\"type\":\"scatterpolargl\"}],\"scatterternary\":[{\"marker\":{\"colorbar\":{\"outlinewidth\":0,\"ticks\":\"\"}},\"type\":\"scatterternary\"}],\"surface\":[{\"colorbar\":{\"outlinewidth\":0,\"ticks\":\"\"},\"colorscale\":[[0.0,\"#0d0887\"],[0.1111111111111111,\"#46039f\"],[0.2222222222222222,\"#7201a8\"],[0.3333333333333333,\"#9c179e\"],[0.4444444444444444,\"#bd3786\"],[0.5555555555555556,\"#d8576b\"],[0.6666666666666666,\"#ed7953\"],[0.7777777777777778,\"#fb9f3a\"],[0.8888888888888888,\"#fdca26\"],[1.0,\"#f0f921\"]],\"type\":\"surface\"}],\"table\":[{\"cells\":{\"fill\":{\"color\":\"#EBF0F8\"},\"line\":{\"color\":\"white\"}},\"header\":{\"fill\":{\"color\":\"#C8D4E3\"},\"line\":{\"color\":\"white\"}},\"type\":\"table\"}]},\"layout\":{\"annotationdefaults\":{\"arrowcolor\":\"#2a3f5f\",\"arrowhead\":0,\"arrowwidth\":1},\"autotypenumbers\":\"strict\",\"coloraxis\":{\"colorbar\":{\"outlinewidth\":0,\"ticks\":\"\"}},\"colorscale\":{\"diverging\":[[0,\"#8e0152\"],[0.1,\"#c51b7d\"],[0.2,\"#de77ae\"],[0.3,\"#f1b6da\"],[0.4,\"#fde0ef\"],[0.5,\"#f7f7f7\"],[0.6,\"#e6f5d0\"],[0.7,\"#b8e186\"],[0.8,\"#7fbc41\"],[0.9,\"#4d9221\"],[1,\"#276419\"]],\"sequential\":[[0.0,\"#0d0887\"],[0.1111111111111111,\"#46039f\"],[0.2222222222222222,\"#7201a8\"],[0.3333333333333333,\"#9c179e\"],[0.4444444444444444,\"#bd3786\"],[0.5555555555555556,\"#d8576b\"],[0.6666666666666666,\"#ed7953\"],[0.7777777777777778,\"#fb9f3a\"],[0.8888888888888888,\"#fdca26\"],[1.0,\"#f0f921\"]],\"sequentialminus\":[[0.0,\"#0d0887\"],[0.1111111111111111,\"#46039f\"],[0.2222222222222222,\"#7201a8\"],[0.3333333333333333,\"#9c179e\"],[0.4444444444444444,\"#bd3786\"],[0.5555555555555556,\"#d8576b\"],[0.6666666666666666,\"#ed7953\"],[0.7777777777777778,\"#fb9f3a\"],[0.8888888888888888,\"#fdca26\"],[1.0,\"#f0f921\"]]},\"colorway\":[\"#636efa\",\"#EF553B\",\"#00cc96\",\"#ab63fa\",\"#FFA15A\",\"#19d3f3\",\"#FF6692\",\"#B6E880\",\"#FF97FF\",\"#FECB52\"],\"font\":{\"color\":\"#2a3f5f\"},\"geo\":{\"bgcolor\":\"white\",\"lakecolor\":\"white\",\"landcolor\":\"#E5ECF6\",\"showlakes\":true,\"showland\":true,\"subunitcolor\":\"white\"},\"hoverlabel\":{\"align\":\"left\"},\"hovermode\":\"closest\",\"mapbox\":{\"style\":\"light\"},\"paper_bgcolor\":\"white\",\"plot_bgcolor\":\"#E5ECF6\",\"polar\":{\"angularaxis\":{\"gridcolor\":\"white\",\"linecolor\":\"white\",\"ticks\":\"\"},\"bgcolor\":\"#E5ECF6\",\"radialaxis\":{\"gridcolor\":\"white\",\"linecolor\":\"white\",\"ticks\":\"\"}},\"scene\":{\"xaxis\":{\"backgroundcolor\":\"#E5ECF6\",\"gridcolor\":\"white\",\"gridwidth\":2,\"linecolor\":\"white\",\"showbackground\":true,\"ticks\":\"\",\"zerolinecolor\":\"white\"},\"yaxis\":{\"backgroundcolor\":\"#E5ECF6\",\"gridcolor\":\"white\",\"gridwidth\":2,\"linecolor\":\"white\",\"showbackground\":true,\"ticks\":\"\",\"zerolinecolor\":\"white\"},\"zaxis\":{\"backgroundcolor\":\"#E5ECF6\",\"gridcolor\":\"white\",\"gridwidth\":2,\"linecolor\":\"white\",\"showbackground\":true,\"ticks\":\"\",\"zerolinecolor\":\"white\"}},\"shapedefaults\":{\"line\":{\"color\":\"#2a3f5f\"}},\"ternary\":{\"aaxis\":{\"gridcolor\":\"white\",\"linecolor\":\"white\",\"ticks\":\"\"},\"baxis\":{\"gridcolor\":\"white\",\"linecolor\":\"white\",\"ticks\":\"\"},\"bgcolor\":\"#E5ECF6\",\"caxis\":{\"gridcolor\":\"white\",\"linecolor\":\"white\",\"ticks\":\"\"}},\"title\":{\"x\":0.05},\"xaxis\":{\"automargin\":true,\"gridcolor\":\"white\",\"linecolor\":\"white\",\"ticks\":\"\",\"title\":{\"standoff\":15},\"zerolinecolor\":\"white\",\"zerolinewidth\":2},\"yaxis\":{\"automargin\":true,\"gridcolor\":\"white\",\"linecolor\":\"white\",\"ticks\":\"\",\"title\":{\"standoff\":15},\"zerolinecolor\":\"white\",\"zerolinewidth\":2}}},\"xaxis\":{\"anchor\":\"y\",\"domain\":[0.0,1.0],\"matches\":\"x3\",\"showticklabels\":false,\"rangeslider\":{\"visible\":false}},\"yaxis\":{\"anchor\":\"x\",\"domain\":[0.6866666666666665,0.9999999999999998]},\"xaxis2\":{\"anchor\":\"y2\",\"domain\":[0.0,1.0],\"matches\":\"x3\",\"showticklabels\":false},\"yaxis2\":{\"anchor\":\"x2\",\"domain\":[0.34333333333333327,0.6566666666666665]},\"xaxis3\":{\"anchor\":\"y3\",\"domain\":[0.0,1.0]},\"yaxis3\":{\"anchor\":\"x3\",\"domain\":[0.0,0.3133333333333333]}},                        {\"responsive\": true}                    ).then(function(){\n",
              "                            \n",
              "var gd = document.getElementById('8a4023ed-506e-4402-b93c-b1ee0a165d91');\n",
              "var x = new MutationObserver(function (mutations, observer) {{\n",
              "        var display = window.getComputedStyle(gd).display;\n",
              "        if (!display || display === 'none') {{\n",
              "            console.log([gd, 'removed!']);\n",
              "            Plotly.purge(gd);\n",
              "            observer.disconnect();\n",
              "        }}\n",
              "}});\n",
              "\n",
              "// Listen for the removal of the full notebook cells\n",
              "var notebookContainer = gd.closest('#notebook-container');\n",
              "if (notebookContainer) {{\n",
              "    x.observe(notebookContainer, {childList: true});\n",
              "}}\n",
              "\n",
              "// Listen for the clearing of the current output cell\n",
              "var outputEl = gd.closest('.output');\n",
              "if (outputEl) {{\n",
              "    x.observe(outputEl, {childList: true});\n",
              "}}\n",
              "\n",
              "                        })                };                            </script>        </div>\n",
              "</body>\n",
              "</html>"
            ]
          },
          "metadata": {}
        }
      ],
      "source": [
        "model = PPO.load(f'{MODEL}/best_model.zip')\n",
        "env = StockTradingEnv(test, f'{MODEL}.txt', r=True, random=False, volumes=False)\n",
        "obs = env.reset()\n",
        "for i in range(len(test.date)):\n",
        "  action, _states = model.predict(obs, deterministic=False)\n",
        "  obs, rewards, done, info = env.step(action)\n",
        "  env.render()\n",
        "  if done:\n",
        "    break\n",
        "df = pd.read_csv(f'{MODEL}.txt')\n",
        "df[' SharesHeld']=df[' SharesHeld']*100\n",
        "x = np.arange(data_two['Close'].size)\n",
        "fit = np.polyfit(x, data_two['Close'], deg=2)\n",
        "fit_function = np.poly1d(fit)\n",
        "y = fit_function(x)\n",
        "\n",
        "for i, row in enumerate(data_two[\"Date\"]):\n",
        "  p = re.compile(\" 00:00:00\")\n",
        "  datetime = p.split(str(data_two[\"Date\"][i]))[0]\n",
        "  data_two.iloc[i, 0] = datetime\n",
        "\n",
        "for i, row in enumerate(df[\"Time\"]):\n",
        "  p = re.compile(\" 00:00:00\")\n",
        "  datetime = p.split(str(df[\"Time\"][i]))[0]\n",
        "  df.iloc[i, 0] = datetime\n",
        "\n",
        "# drawing the interactive figure\n",
        "fig = make_subplots(\n",
        "    rows=3, cols=1,\n",
        "    shared_xaxes=True, \n",
        "    vertical_spacing = 0.03, \n",
        "    specs =[[{\"type\": \"candlestick\"}],\n",
        "           [{\"type\": \"scatter\"}],\n",
        "           [{\"type\": \"scatter\"}]]\n",
        ")\n",
        "\n",
        "fig.add_trace(\n",
        "    go.Scatter(\n",
        "        x = df[\"Time\"],\n",
        "        y = df[' Networth'],\n",
        "        mode = \"lines\", \n",
        "        name = \"NetWorth\"\n",
        "    ), \n",
        "    row=3, col=1\n",
        ")\n",
        "fig.add_trace(\n",
        "    go.Scatter(\n",
        "        x = df[\"Time\"],\n",
        "        y = df[' Balence'],\n",
        "        mode = \"lines\", \n",
        "        name = \"Balance\"\n",
        "    ), \n",
        "    row=3, col=1\n",
        ")\n",
        "fig.add_trace(\n",
        "    go.Scatter(\n",
        "        x = df[\"Time\"],\n",
        "        y = df[' SharesHeld'],\n",
        "        mode = \"lines\", \n",
        "        name = \"SharesHeld\"\n",
        "    ), \n",
        "    row=3, col=1\n",
        ")\n",
        "\n",
        "fig.add_trace(\n",
        "    go.Scatter(\n",
        "        x = data_two[\"Date\"],\n",
        "        y = data_two['Close'],\n",
        "        mode = \"lines\", \n",
        "        name = \"Real Close\"\n",
        "    ), \n",
        "    row=2, col=1\n",
        ")\n",
        "fig.add_trace(\n",
        "    go.Scatter(\n",
        "        x = data_two[\"Date\"],\n",
        "        y = y,\n",
        "        mode = \"lines\", \n",
        "        name = \"Tend Line\"\n",
        "    ), \n",
        "    row=2, col=1\n",
        ")\n",
        "fig.add_trace(\n",
        "    go.Candlestick(\n",
        "        x = data_two[\"Date\"],\n",
        "        open = data_two[\"Open\"],\n",
        "        high = data_two[\"High\"], \n",
        "        low = data_two[\"Low\"], \n",
        "        close = data_two[\"Close\"]\n",
        "    ), \n",
        "    row=1, col=1\n",
        ")\n",
        "fig.update_layout(xaxis_rangeslider_visible=False)\n",
        "fig.show()\n",
        "# # create numpy array to fit regression line\n",
        "# x = np.arange(data_two['Close'].size)\n",
        "# fit = np.polyfit(x, data_two['Close'], deg=2)\n",
        "# fit_function = np.poly1d(fit)\n",
        "# y = fit_function(data_two['Close'].index)\n",
        "# plt.style.use('seaborn-darkgrid')\n",
        "# fig, axes = plt.subplots(nrows=2, ncols=1, sharex=True)\n",
        "# data_two[\"Date\"] = pd.to_datetime(data_two['Date'], format='%Y-%m-%d')\n",
        "# data_two.plot(ax=axes[0], x='Date', y='Close')\n",
        "# axes[0].set_ylabel('Price', fontsize=20)\n",
        "# #Linear regression plot\n",
        "# sns.lineplot(ax=axes[0], x=data_two['Close'].index ,y=fit_function(x))\n",
        "# df[\"Time\"] = pd.to_datetime(df['Time'], format='%Y-%m-%d')\n",
        "# df.plot(ax=axes[1], x=\"Time\", y=[' Networth', ' Balence', ' SharesHeld'])\n",
        "# axes[1].set_ylabel('Account', fontsize=20)\n",
        "# fig.set_figwidth(15)\n",
        "# fig.set_figheight(15)\n",
        "# plt.show()"
      ]
    },
    {
      "cell_type": "code",
      "source": [
        "!rm /content/*.txt"
      ],
      "metadata": {
        "id": "oHTde474nG6_"
      },
      "execution_count": 55,
      "outputs": []
    }
  ],
  "metadata": {
    "accelerator": "GPU",
    "colab": {
      "collapsed_sections": [],
      "machine_shape": "hm",
      "provenance": [],
      "mount_file_id": "14PTov59y5BsmHQNkGSVeWkMeD2L6FVWz",
      "authorship_tag": "ABX9TyMeOt/jiO57YvSHqvP9ZqfS",
      "include_colab_link": true
    },
    "gpuClass": "premium",
    "kernelspec": {
      "display_name": "Python 3",
      "name": "python3"
    },
    "language_info": {
      "name": "python"
    },
    "widgets": {
      "application/vnd.jupyter.widget-state+json": {
        "76ecabbdf87943538058df0c3951e1b3": {
          "model_module": "@jupyter-widgets/output",
          "model_name": "OutputModel",
          "model_module_version": "1.0.0",
          "state": {
            "_dom_classes": [],
            "_model_module": "@jupyter-widgets/output",
            "_model_module_version": "1.0.0",
            "_model_name": "OutputModel",
            "_view_count": null,
            "_view_module": "@jupyter-widgets/output",
            "_view_module_version": "1.0.0",
            "_view_name": "OutputView",
            "layout": "IPY_MODEL_ab078a573e8f47ceb3d72e9a68008726",
            "msg_id": "",
            "outputs": [
              {
                "output_type": "display_data",
                "data": {
                  "text/plain": "\u001b[35m 100%\u001b[0m \u001b[38;2;114;156;31m━━━━━━━━━━━━━━━━━━━━━━━━━━━━━━━━━━━━━━━━━━━━━━━━━━━━━━━━━━━━━\u001b[0m \u001b[32m12,261/10,000 \u001b[0m [ \u001b[33m0:00:28\u001b[0m < \u001b[36m0:00:00\u001b[0m , \u001b[31m464 it/s\u001b[0m ]\n",
                  "text/html": "<pre style=\"white-space:pre;overflow-x:auto;line-height:normal;font-family:Menlo,'DejaVu Sans Mono',consolas,'Courier New',monospace\"><span style=\"color: #800080; text-decoration-color: #800080\"> 100%</span> <span style=\"color: #729c1f; text-decoration-color: #729c1f\">━━━━━━━━━━━━━━━━━━━━━━━━━━━━━━━━━━━━━━━━━━━━━━━━━━━━━━━━━━━━━</span> <span style=\"color: #008000; text-decoration-color: #008000\">12,261/10,000 </span> [ <span style=\"color: #808000; text-decoration-color: #808000\">0:00:28</span> &lt; <span style=\"color: #008080; text-decoration-color: #008080\">0:00:00</span> , <span style=\"color: #800000; text-decoration-color: #800000\">464 it/s</span> ]\n</pre>\n"
                },
                "metadata": {}
              }
            ]
          }
        },
        "ab078a573e8f47ceb3d72e9a68008726": {
          "model_module": "@jupyter-widgets/base",
          "model_name": "LayoutModel",
          "model_module_version": "1.2.0",
          "state": {
            "_model_module": "@jupyter-widgets/base",
            "_model_module_version": "1.2.0",
            "_model_name": "LayoutModel",
            "_view_count": null,
            "_view_module": "@jupyter-widgets/base",
            "_view_module_version": "1.2.0",
            "_view_name": "LayoutView",
            "align_content": null,
            "align_items": null,
            "align_self": null,
            "border": null,
            "bottom": null,
            "display": null,
            "flex": null,
            "flex_flow": null,
            "grid_area": null,
            "grid_auto_columns": null,
            "grid_auto_flow": null,
            "grid_auto_rows": null,
            "grid_column": null,
            "grid_gap": null,
            "grid_row": null,
            "grid_template_areas": null,
            "grid_template_columns": null,
            "grid_template_rows": null,
            "height": null,
            "justify_content": null,
            "justify_items": null,
            "left": null,
            "margin": null,
            "max_height": null,
            "max_width": null,
            "min_height": null,
            "min_width": null,
            "object_fit": null,
            "object_position": null,
            "order": null,
            "overflow": null,
            "overflow_x": null,
            "overflow_y": null,
            "padding": null,
            "right": null,
            "top": null,
            "visibility": null,
            "width": null
          }
        }
      }
    }
  },
  "nbformat": 4,
  "nbformat_minor": 0
}