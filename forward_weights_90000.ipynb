{
  "nbformat": 4,
  "nbformat_minor": 0,
  "metadata": {
    "colab": {
      "provenance": [],
      "authorship_tag": "ABX9TyPfwC/uqIj1e0/mgRKuTWiw",
      "include_colab_link": true
    },
    "kernelspec": {
      "name": "python3",
      "display_name": "Python 3"
    },
    "language_info": {
      "name": "python"
    }
  },
  "cells": [
    {
      "cell_type": "markdown",
      "metadata": {
        "id": "view-in-github",
        "colab_type": "text"
      },
      "source": [
        "<a href=\"https://colab.research.google.com/github/AdamClarkStandke/ReinforcementLearning/blob/main/forward_weights_90000.ipynb\" target=\"_parent\"><img src=\"https://colab.research.google.com/assets/colab-badge.svg\" alt=\"Open In Colab\"/></a>"
      ]
    },
    {
      "cell_type": "code",
      "source": [
        "!pip install ptan\n",
        "!pip install -q pybullet"
      ],
      "metadata": {
        "colab": {
          "base_uri": "https://localhost:8080/"
        },
        "id": "GzT9jONxIWK9",
        "outputId": "5020c45d-2432-4a3f-b547-1869f9922d15"
      },
      "execution_count": 7,
      "outputs": [
        {
          "output_type": "stream",
          "name": "stdout",
          "text": [
            "Looking in indexes: https://pypi.org/simple, https://us-python.pkg.dev/colab-wheels/public/simple/\n",
            "Requirement already satisfied: ptan in /usr/local/lib/python3.8/dist-packages (0.7)\n",
            "Requirement already satisfied: gym in /usr/local/lib/python3.8/dist-packages (from ptan) (0.25.2)\n",
            "Requirement already satisfied: torch==1.7.0 in /usr/local/lib/python3.8/dist-packages (from ptan) (1.7.0)\n",
            "Requirement already satisfied: opencv-python in /usr/local/lib/python3.8/dist-packages (from ptan) (4.6.0.66)\n",
            "Requirement already satisfied: atari-py in /usr/local/lib/python3.8/dist-packages (from ptan) (0.2.9)\n",
            "Requirement already satisfied: numpy in /usr/local/lib/python3.8/dist-packages (from ptan) (1.21.6)\n",
            "Requirement already satisfied: dataclasses in /usr/local/lib/python3.8/dist-packages (from torch==1.7.0->ptan) (0.6)\n",
            "Requirement already satisfied: future in /usr/local/lib/python3.8/dist-packages (from torch==1.7.0->ptan) (0.16.0)\n",
            "Requirement already satisfied: typing-extensions in /usr/local/lib/python3.8/dist-packages (from torch==1.7.0->ptan) (4.4.0)\n",
            "Requirement already satisfied: six in /usr/local/lib/python3.8/dist-packages (from atari-py->ptan) (1.15.0)\n",
            "Requirement already satisfied: gym-notices>=0.0.4 in /usr/local/lib/python3.8/dist-packages (from gym->ptan) (0.0.8)\n",
            "Requirement already satisfied: cloudpickle>=1.2.0 in /usr/local/lib/python3.8/dist-packages (from gym->ptan) (2.2.0)\n",
            "Requirement already satisfied: importlib-metadata>=4.8.0 in /usr/local/lib/python3.8/dist-packages (from gym->ptan) (6.0.0)\n",
            "Requirement already satisfied: zipp>=0.5 in /usr/local/lib/python3.8/dist-packages (from importlib-metadata>=4.8.0->gym->ptan) (3.11.0)\n"
          ]
        }
      ]
    },
    {
      "cell_type": "code",
      "execution_count": 22,
      "metadata": {
        "colab": {
          "base_uri": "https://localhost:8080/"
        },
        "id": "Lj9DOwwHH4Av",
        "outputId": "449945f6-e637-4f8f-8d79-bcdab8826d71"
      },
      "outputs": [
        {
          "output_type": "stream",
          "name": "stdout",
          "text": [
            "DDPGActor(\n",
            "  (net): Sequential(\n",
            "    (0): Linear(in_features=28, out_features=20, bias=True)\n",
            "    (1): ReLU()\n",
            "    (2): Linear(in_features=20, out_features=4, bias=True)\n",
            "    (3): Tanh()\n",
            "  )\n",
            ")\n"
          ]
        },
        {
          "output_type": "execute_result",
          "data": {
            "text/plain": [
              "<All keys matched successfully>"
            ]
          },
          "metadata": {},
          "execution_count": 22
        }
      ],
      "source": [
        "import gym\n",
        "import ptan\n",
        "import time\n",
        "import torch\n",
        "import microtaur, ddpg\n",
        "\n",
        "\n",
        "\n",
        "net = None\n",
        "net = ddpg.DDPGActor(28, 4)\n",
        "print(net)\n",
        "net.load_state_dict(torch.load('best_+0.087_90000.dat', map_location=lambda storage, loc: storage))\n"
      ]
    },
    {
      "cell_type": "code",
      "source": [
        "x=net.state_dict()\n",
        "x.items()"
      ],
      "metadata": {
        "colab": {
          "base_uri": "https://localhost:8080/"
        },
        "id": "glBibMgmP5XR",
        "outputId": "db3038f0-ac25-43d5-ca86-eadeaeec2af9"
      },
      "execution_count": 78,
      "outputs": [
        {
          "output_type": "execute_result",
          "data": {
            "text/plain": [
              "odict_items([('net.0.weight', tensor([[ 2.9174e-01, -2.0780e-01,  6.1585e-01,  3.1392e-01,  6.4947e-02,\n",
              "          6.2404e-01,  6.3532e-01,  1.3211e-01, -9.4765e-02,  6.1376e-01,\n",
              "          4.5775e-01,  1.7545e-02,  4.5361e-01,  3.0078e-01,  2.3136e-01,\n",
              "          6.4931e-02,  4.3706e-01,  4.0147e-01, -1.2217e-01,  4.3165e-01,\n",
              "          5.0075e-01,  1.7273e-01,  2.6978e-01,  4.0746e-01,  2.2216e-01,\n",
              "         -2.6892e-01,  3.3683e-01,  6.0118e-01],\n",
              "        [ 2.5823e-02, -9.4434e-01,  1.9577e-01,  4.1066e-01,  4.2847e-01,\n",
              "          3.5844e-01,  1.7875e-01,  2.0496e-01, -1.1071e+00,  1.3877e-01,\n",
              "          4.2024e-01,  2.2419e-01, -1.0593e-01,  1.1406e-01,  7.1046e-02,\n",
              "         -1.1528e+00,  3.2928e-01,  1.1434e-01, -9.2727e-02, -9.8293e-02,\n",
              "          2.0220e-01,  9.2912e-02, -7.2475e-01,  7.4967e-01,  3.5431e-01,\n",
              "         -1.0873e-01, -1.6552e-01,  7.2119e-02],\n",
              "        [-8.8309e-02, -4.0152e-01,  5.8691e-01,  1.2121e-01, -3.3671e-01,\n",
              "         -4.1393e-01, -3.5667e-01, -2.4860e-01, -3.6605e-01,  2.0363e-01,\n",
              "          2.6871e-01, -2.4703e-01, -4.1274e-01, -3.2024e-01, -4.9644e-02,\n",
              "         -3.8672e-01,  2.4910e-01, -1.5131e-02, -2.1422e-01, -1.6268e-01,\n",
              "         -3.4249e-01, -1.8064e-01, -2.8099e-01,  1.6827e-01,  3.8325e-01,\n",
              "         -2.7415e-01,  3.8038e-01, -4.4625e-01],\n",
              "        [ 6.2867e-01,  5.1167e-01, -7.7686e-02,  2.0170e-01,  8.6289e-01,\n",
              "         -1.1737e-01,  9.4034e-03,  9.0017e-01,  6.9947e-01,  6.5800e-02,\n",
              "          2.0676e-02,  3.5538e-01, -4.0114e-01, -4.4795e-03,  7.9834e-01,\n",
              "          3.2447e-01,  1.7716e-01,  1.4923e-01, -1.0779e-01, -5.5369e-01,\n",
              "          2.2350e-01,  6.1288e-01,  2.2861e-01,  2.2666e-01,  1.3266e-01,\n",
              "         -1.8100e-01, -5.1053e-01,  2.9055e-01],\n",
              "        [ 4.2664e-01,  5.9003e-02, -2.0458e-01, -5.2553e-01, -3.5433e-02,\n",
              "         -2.7002e-01,  1.8811e-02,  5.0502e-01, -7.9945e-02, -1.1031e-01,\n",
              "         -3.1903e-01, -3.4966e-01, -2.5763e-02,  6.5835e-02,  3.0897e-01,\n",
              "          1.8497e-01,  3.7043e-02, -1.5313e-01, -3.0380e-01, -3.5153e-01,\n",
              "          3.2121e-01,  3.3324e-01,  1.3430e-01, -2.4796e-02, -2.8064e-01,\n",
              "         -2.0139e-01, -4.5174e-01,  3.4211e-01],\n",
              "        [-2.3135e-01,  1.6382e-01,  5.4189e-01, -2.3250e-01, -2.5277e-01,\n",
              "          5.0992e-01,  3.5943e-01, -3.3357e-01,  3.0700e-01,  5.5864e-01,\n",
              "         -2.5683e-01, -3.5619e-01,  4.5373e-01,  7.1707e-01, -4.7265e-01,\n",
              "          2.4995e-01,  7.4442e-01,  9.4888e-03, -1.4439e-01,  4.0599e-01,\n",
              "          6.6505e-01, -2.3914e-01, -4.8474e-03,  2.9202e-01, -3.5251e-01,\n",
              "         -1.1562e-02,  5.0615e-01,  5.5880e-01],\n",
              "        [ 2.8404e-01, -3.4047e-01,  1.3464e-01,  3.6732e-01, -4.2216e-01,\n",
              "          3.1562e-01,  1.9944e-01, -1.4995e-01, -4.2562e-01,  1.4449e-01,\n",
              "          3.1444e-01, -3.8352e-01,  3.6490e-01,  2.3453e-01, -1.3687e-01,\n",
              "         -2.7007e-01,  7.9943e-02,  4.1871e-02, -3.9729e-01,  4.6208e-01,\n",
              "          1.6414e-01,  1.5904e-02, -2.7000e-01,  1.0190e-01,  3.3060e-01,\n",
              "         -2.2606e-01,  6.2050e-01,  3.8846e-01],\n",
              "        [-2.0598e-01, -2.2549e-01,  3.4866e-01,  3.4271e-01,  1.1211e-01,\n",
              "          1.3677e-01, -3.4610e-01, -1.3935e-02, -1.3536e-01,  2.0657e-01,\n",
              "          1.7473e-01, -1.7194e-01, -1.7132e-01, -1.7494e-01, -1.3031e-01,\n",
              "         -2.0058e-01, -1.5441e-02,  2.5209e-01, -4.0829e-01, -6.7715e-02,\n",
              "         -2.3995e-01, -1.0864e-01, -6.4267e-02,  1.0501e-01,  3.2112e-01,\n",
              "         -5.7890e-01, -1.6737e-01, -3.4585e-01],\n",
              "        [ 4.7366e-01,  3.2746e-01, -1.4077e-01,  7.4035e-02,  6.8485e-01,\n",
              "         -1.7451e-01,  1.9496e-01,  6.5117e-01,  1.7120e-01,  1.4888e-02,\n",
              "          2.6649e-02,  4.4342e-01, -4.6737e-02,  1.4423e-01,  5.6039e-01,\n",
              "          3.9296e-01,  2.9226e-01,  3.0933e-01,  1.3798e-01, -2.4837e-01,\n",
              "         -1.7658e-02,  6.9653e-01,  3.3284e-01,  2.2348e-04, -4.5366e-02,\n",
              "         -2.5408e-01, -7.0342e-01,  1.1840e-01],\n",
              "        [-1.0193e-01, -1.0344e-01,  7.8092e-02, -2.1831e-01, -8.0176e-01,\n",
              "         -8.4056e-01, -2.6812e-01, -3.7732e-01, -6.8355e-02,  1.3306e-02,\n",
              "         -2.7086e-01, -3.4708e-01, -5.5875e-01, -4.1612e-01, -3.4126e-01,\n",
              "         -9.3537e-02,  9.6327e-02, -3.7881e-01,  2.3542e-03, -1.6400e-01,\n",
              "         -4.4179e-01, -2.8716e-01, -2.0719e-01,  2.1985e-01, -2.8089e-01,\n",
              "          5.2336e-01,  5.4987e-02, -4.7463e-01],\n",
              "        [ 4.9720e-01, -1.0747e+00,  4.0912e-01,  6.9676e-03, -7.1145e-01,\n",
              "          1.8626e-01, -2.5194e-02,  3.9918e-01, -1.0132e+00,  4.0211e-01,\n",
              "         -2.0600e-01, -5.2473e-01,  4.3473e-01, -6.0664e-02,  3.0076e-01,\n",
              "         -8.9064e-01,  5.6432e-01, -2.5072e-01, -1.7576e-01,  4.5131e-01,\n",
              "          8.7874e-02,  4.3091e-01, -8.0787e-01,  7.1261e-01, -1.0802e-01,\n",
              "         -7.8633e-03,  3.8607e-01,  2.3586e-01],\n",
              "        [ 1.5764e-01, -3.2311e-01,  3.4706e-01, -2.1553e-01, -7.0946e-02,\n",
              "          2.5664e-01,  2.9323e-01,  3.5165e-01, -4.3465e-01,  2.0858e-01,\n",
              "         -2.2063e-01, -1.3051e-01,  2.7991e-01,  2.9378e-01,  1.8664e-01,\n",
              "         -4.4841e-01,  5.8207e-01,  7.1885e-02, -3.2917e-02,  5.5592e-03,\n",
              "          1.6846e-01,  6.4857e-03, -1.3820e-02,  5.8501e-01, -2.7616e-01,\n",
              "          2.4066e-01,  1.7522e-01,  4.1274e-02],\n",
              "        [-3.3927e-01,  5.2003e-01,  2.0318e-01,  4.0843e-01, -1.7630e-01,\n",
              "         -4.7083e-01, -4.9315e-01, -4.1073e-01,  7.3845e-01,  2.0678e-01,\n",
              "          3.0025e-01, -4.4042e-01, -3.8732e-01, -3.5694e-01, -1.1992e-01,\n",
              "          7.2843e-01, -2.3455e-01,  6.3220e-02, -6.3746e-01, -3.9109e-01,\n",
              "         -3.6483e-01, -1.6323e-01,  7.8404e-01, -4.3072e-01,  3.5492e-01,\n",
              "         -3.3726e-01,  5.4398e-02, -2.7825e-01],\n",
              "        [ 7.0221e-01, -7.2220e-01,  4.3664e-01, -4.7696e-01, -4.3793e-01,\n",
              "         -7.6775e-01,  7.0310e-02,  5.9953e-01, -1.0126e+00,  6.4684e-01,\n",
              "         -4.0086e-01, -1.0806e-01, -7.8061e-01, -1.8206e-01,  3.8047e-01,\n",
              "         -6.6253e-01,  6.0615e-01, -5.5801e-01, -3.5793e-02, -7.1534e-01,\n",
              "         -2.2601e-01,  3.6454e-01, -6.3577e-01,  1.0873e+00, -5.7344e-01,\n",
              "         -2.7984e-01, -4.3006e-01, -2.3756e-01],\n",
              "        [ 3.4262e-02, -2.5337e-01,  1.7719e-01,  3.2292e-01,  5.4615e-01,\n",
              "          9.1101e-02,  2.0931e-01,  3.4040e-01, -4.8211e-01,  4.0101e-01,\n",
              "          3.3492e-01,  3.1209e-01,  3.1932e-01,  1.6385e-01,  2.6433e-01,\n",
              "         -6.2772e-01,  3.7939e-01,  4.4248e-01,  3.0986e-02,  1.5974e-01,\n",
              "         -1.4135e-01,  2.0733e-01, -4.5517e-01,  6.5323e-01,  2.9856e-01,\n",
              "         -4.9989e-02,  1.5104e-01,  1.4555e-01],\n",
              "        [ 4.5146e-02,  5.7324e-01, -8.0921e-02,  1.2444e-01,  5.4878e-02,\n",
              "          3.8927e-01, -1.3019e-01,  2.9196e-01,  6.6669e-01,  3.2346e-02,\n",
              "          1.8382e-01,  1.1061e-01,  3.0848e-01, -1.5090e-01,  2.9999e-01,\n",
              "          7.0846e-01,  8.6794e-02,  2.8377e-01,  7.0868e-02,  2.3790e-01,\n",
              "         -2.7630e-01,  3.5321e-01,  6.2169e-01, -3.9278e-01,  1.2167e-01,\n",
              "          1.8091e-01,  1.3280e-01, -1.0827e-01],\n",
              "        [-3.8385e-01,  6.6930e-01, -2.7510e-01, -3.6793e-02, -4.6836e-01,\n",
              "         -5.7037e-01, -4.6005e-01, -2.2291e-01,  9.3210e-01, -4.4901e-01,\n",
              "          8.7384e-02, -8.0709e-01, -2.5885e-01, -4.1045e-01, -3.0387e-01,\n",
              "          9.0247e-01, -4.1424e-01,  2.5273e-02, -4.9165e-01, -2.3035e-01,\n",
              "         -3.6865e-01, -1.4434e-01,  8.0619e-01, -5.9587e-01,  1.7632e-01,\n",
              "         -3.3560e-01, -1.1033e-01, -5.8130e-01],\n",
              "        [ 9.6207e-02,  6.5021e-01, -3.4543e-02, -5.1838e-02,  2.1699e-01,\n",
              "          3.6558e-01,  7.9052e-02,  1.9326e-01,  5.9988e-01, -1.9558e-01,\n",
              "          3.1999e-02,  4.1969e-01,  3.2537e-02, -1.7030e-02,  2.7623e-01,\n",
              "          3.9544e-01, -1.5897e-02,  1.6550e-01,  5.5636e-02,  1.6520e-02,\n",
              "          1.2787e-01,  4.0307e-01,  5.7512e-01, -6.2127e-01,  1.7147e-01,\n",
              "         -1.9978e-01, -3.6336e-01, -1.4861e-01],\n",
              "        [-2.2509e-01,  7.5788e-01, -5.3267e-02,  2.1545e-01,  3.2787e-01,\n",
              "          1.4332e-01, -5.2120e-01, -1.2216e-02,  1.1338e+00, -1.1735e-01,\n",
              "          1.9556e-01,  1.2056e-02,  1.1633e-01, -2.3993e-01,  2.3014e-01,\n",
              "          7.0843e-01, -1.3803e-01,  1.4422e-01, -3.3758e-01, -3.4257e-01,\n",
              "         -5.4501e-01,  1.1319e-01,  8.6553e-01, -6.2285e-01, -1.8122e-03,\n",
              "         -4.1378e-01, -5.8437e-01, -3.0859e-01],\n",
              "        [ 3.5216e-01,  5.7900e-01, -2.5595e-01,  1.8019e-01,  2.4134e-01,\n",
              "          5.1494e-01,  3.4112e-01,  5.0902e-01,  5.4562e-01, -2.0527e-02,\n",
              "          2.7832e-01,  2.8429e-01,  2.2216e-01,  1.0195e-01,  5.3702e-01,\n",
              "          5.3857e-01,  9.5534e-02,  2.7462e-01,  2.2890e-01,  4.9833e-02,\n",
              "          1.6273e-01,  6.3380e-01,  6.5801e-01, -1.6844e-01,  1.3856e-01,\n",
              "          1.4222e-01, -1.8306e-02,  3.5390e-01]])), ('net.0.bias', tensor([ 0.6687,  0.5785,  0.2124, -0.7904, -0.3320,  0.7864,  0.5504,  0.6299,\n",
              "        -0.5849, -0.1401,  0.6743,  0.4195,  0.3778,  0.0668,  0.1085,  0.4663,\n",
              "        -0.1282,  0.5779,  0.2293,  0.4078])), ('net.2.weight', tensor([[ 0.6110,  0.1723,  0.1291, -1.5221, -1.2232, -0.1058,  0.6071, -0.1753,\n",
              "         -0.9002,  1.1260,  0.5829, -0.1755, -0.1085,  0.4752, -0.0597, -0.4424,\n",
              "         -0.0162, -0.6635, -0.5858, -0.5699],\n",
              "        [-0.5252, -0.1708, -1.2608, -0.3100,  0.0318, -0.2434,  0.1053, -0.3435,\n",
              "         -0.7390, -0.1374, -0.4174, -0.1048, -0.7350, -0.9843,  0.3765, -0.2767,\n",
              "         -0.3602, -0.1798, -0.5395, -0.3471],\n",
              "        [-1.6527,  1.3220,  0.2484, -1.1190, -0.6092, -1.2323, -0.6440,  0.1779,\n",
              "         -0.5715,  0.0908, -0.4983, -0.2499, -0.3014,  0.1480,  0.4632, -0.5171,\n",
              "         -0.5412, -0.1956, -0.3838, -0.4417],\n",
              "        [ 0.0139,  0.3166, -0.3617,  0.2457,  0.1880,  0.5466,  0.8166, -0.3753,\n",
              "          0.2333,  0.2644,  0.5658,  1.1602, -0.7082,  0.3240,  0.7344,  0.5332,\n",
              "         -0.8635,  0.1161, -0.1736,  0.5540]])), ('net.2.bias', tensor([ 0.2744, -0.4797, -0.0082,  0.1570]))])"
            ]
          },
          "metadata": {},
          "execution_count": 78
        }
      ]
    },
    {
      "cell_type": "code",
      "source": [
        "one=(x.get('net.0.weight').numpy().tolist(), x.get('net.0.bias').numpy().tolist())"
      ],
      "metadata": {
        "id": "6xCh-NgLSeUA"
      },
      "execution_count": 79,
      "outputs": []
    },
    {
      "cell_type": "code",
      "source": [
        "two=(x.get('net.2.weight').numpy().tolist(), x.get('net.2.bias').numpy().tolist())"
      ],
      "metadata": {
        "id": "9VupthqESn6a"
      },
      "execution_count": 80,
      "outputs": []
    },
    {
      "cell_type": "code",
      "source": [
        "WEIGHTS = [one, two]"
      ],
      "metadata": {
        "id": "LZy93jnQTPeA"
      },
      "execution_count": 81,
      "outputs": []
    },
    {
      "cell_type": "code",
      "source": [
        "for idx, (w,b) in enumerate(WEIGHTS):\n",
        "  print(\"Layer %d:\" % (idx+1))\n",
        "  print(\"W: (%d, %d), B: (%d, %d)\" % (len(w), len(w[0]), len(b), b[0]))"
      ],
      "metadata": {
        "colab": {
          "base_uri": "https://localhost:8080/"
        },
        "id": "dVkszQnChHLm",
        "outputId": "1a961c1d-cd86-4c9f-e5c1-462eea165206"
      },
      "execution_count": 92,
      "outputs": [
        {
          "output_type": "stream",
          "name": "stdout",
          "text": [
            "Layer 1:\n",
            "W: (20, 28), B: (20, 0)\n",
            "Layer 2:\n",
            "W: (4, 20), B: (4, 0)\n"
          ]
        }
      ]
    },
    {
      "cell_type": "code",
      "source": [
        "from . import nn\n",
        "\n",
        "WEIGHTS\n",
        "\n",
        "def forward(vals):\n",
        "    x = nn.linear(vals, WEIGHTS[0])\n",
        "    nn.relu(x)\n",
        "    x = nn.linear(x, WEIGHTS[1])\n",
        "    nn.tanh(x)\n",
        "    return x"
      ],
      "metadata": {
        "id": "MxAr0FxBbnni"
      },
      "execution_count": null,
      "outputs": []
    }
  ]
}