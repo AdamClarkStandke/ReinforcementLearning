{
  "nbformat": 4,
  "nbformat_minor": 0,
  "metadata": {
    "colab": {
      "provenance": [],
      "authorship_tag": "ABX9TyNx556R0hIOmzHnwiY0oE3V",
      "include_colab_link": true
    },
    "kernelspec": {
      "name": "python3",
      "display_name": "Python 3"
    },
    "language_info": {
      "name": "python"
    }
  },
  "cells": [
    {
      "cell_type": "markdown",
      "metadata": {
        "id": "view-in-github",
        "colab_type": "text"
      },
      "source": [
        "<a href=\"https://colab.research.google.com/github/AdamClarkStandke/ReinforcementLearning/blob/main/forward_weights_90000.ipynb\" target=\"_parent\"><img src=\"https://colab.research.google.com/assets/colab-badge.svg\" alt=\"Open In Colab\"/></a>"
      ]
    },
    {
      "cell_type": "code",
      "source": [
        "import pathlib\n",
        "import argparse\n",
        "import torch\n",
        "import torch.nn as nn\n",
        "import ddpg\n",
        "\n",
        "DEFAULT_INPUT_DIM = 28\n",
        "ACTIONS_DIM = 4\n",
        "\n",
        "\n",
        "def write_prefix(fd):\n",
        "    fd.write(\"\"\"from . import nn\n",
        "\n",
        "\"\"\")\n",
        "\n",
        "\n",
        "def write_weights(fd, weights):\n",
        "    fd.write(\"WEIGHTS = [\\n\")\n",
        "    for w, b in weights:\n",
        "        fd.write(\"(%s, [%s]),\\n\" % (\n",
        "            w.tolist(),  b.tolist()\n",
        "        ))\n",
        "    fd.write(\"]\\n\")\n",
        "\n",
        "\n",
        "def write_forward_pass(fd, forward_pass):\n",
        "    fd.write(\"\"\"\n",
        "\n",
        "def forward(x):\n",
        "\"\"\")\n",
        "\n",
        "    for f in forward_pass:\n",
        "        fd.write(\"    %s\\n\" % f)\n",
        "\n",
        "    fd.write(\"    return x\\n\")\n",
        "\n",
        "\n",
        "def write_suffix(fd, input_dim):\n",
        "    fd.write(f\"\"\"\n",
        "\n",
        "def test():\n",
        "    x = [[0.0]] * {input_dim}\n",
        "    y = forward(x)\n",
        "    print(y)\n",
        "    \n",
        "    \n",
        "def show():\n",
        "    for idx, (w, b) in enumerate(WEIGHTS):\n",
        "        print(\"Layer %d:\" % (idx+1))\n",
        "        print(\"W: (%d, %d), B: (%d, %d)\" % (len(w), len(w[0]), len(b), len(b[0])))\n",
        "\n",
        "\"\"\")\n",
        "    pass\n",
        "\n",
        "\n",
        "\n",
        "output_path = pathlib.Path('move_weights.py')\n",
        "\n",
        "act_net = ddpg.DDPGActor(DEFAULT_INPUT_DIM, ACTIONS_DIM)\n",
        "act_net.load_state_dict(torch.load('best_+0.087_90000.dat', map_location=lambda storage, loc: storage))\n",
        "\n",
        "weights_data = []\n",
        "forward_pass = []\n",
        "\n",
        "for m in act_net.net:\n",
        "  if isinstance(m, nn.Linear):\n",
        "    w = [m.weight.detach().numpy(), m.bias.detach().numpy()]\n",
        "    forward_pass.append(f\"x = nn.linear(x, WEIGHTS[{len(weights_data)}])\")\n",
        "    weights_data.append(w)\n",
        "  elif isinstance(m, nn.ReLU):\n",
        "    forward_pass.append(\"x = nn.relu(x)\")\n",
        "  elif isinstance(m, nn.Tanh):\n",
        "    forward_pass.append(\"x = nn.tanh(x)\")\n",
        "  else:\n",
        "    print('Unsupported layer! %s' % m)\n",
        "\n",
        "with output_path.open(\"wt\", encoding='utf-8') as fd_out:\n",
        "  write_prefix(fd_out)\n",
        "  write_weights(fd_out, weights_data)\n",
        "  write_forward_pass(fd_out, forward_pass)\n",
        "  write_suffix(fd_out,DEFAULT_INPUT_DIM)\n"
      ],
      "metadata": {
        "id": "20lMNe9rNak6"
      },
      "execution_count": 15,
      "outputs": []
    }
  ]
}