{
  "nbformat": 4,
  "nbformat_minor": 0,
  "metadata": {
    "colab": {
      "provenance": [],
      "authorship_tag": "ABX9TyMo6dvw/iWbDAUJ3RvC5Got",
      "include_colab_link": true
    },
    "kernelspec": {
      "name": "python3",
      "display_name": "Python 3"
    },
    "language_info": {
      "name": "python"
    }
  },
  "cells": [
    {
      "cell_type": "markdown",
      "metadata": {
        "id": "view-in-github",
        "colab_type": "text"
      },
      "source": [
        "<a href=\"https://colab.research.google.com/github/AdamClarkStandke/ReinforcementLearning/blob/main/TextWorld_RL.ipynb\" target=\"_parent\"><img src=\"https://colab.research.google.com/assets/colab-badge.svg\" alt=\"Open In Colab\"/></a>"
      ]
    },
    {
      "cell_type": "code",
      "execution_count": 28,
      "metadata": {
        "id": "Zre5hYRI4k9_",
        "colab": {
          "base_uri": "https://localhost:8080/"
        },
        "outputId": "7eaf3d43-68e7-4727-c04b-63e1480ae7da"
      },
      "outputs": [
        {
          "output_type": "stream",
          "name": "stdout",
          "text": [
            "Looking in indexes: https://pypi.org/simple, https://us-python.pkg.dev/colab-wheels/public/simple/\n",
            "Requirement already satisfied: ptan in /usr/local/lib/python3.9/dist-packages (0.4)\n",
            "Looking in indexes: https://pypi.org/simple, https://us-python.pkg.dev/colab-wheels/public/simple/\n",
            "Requirement already satisfied: gym in /usr/local/lib/python3.9/dist-packages (0.25.2)\n",
            "Requirement already satisfied: gym-notices>=0.0.4 in /usr/local/lib/python3.9/dist-packages (from gym) (0.0.8)\n",
            "Requirement already satisfied: cloudpickle>=1.2.0 in /usr/local/lib/python3.9/dist-packages (from gym) (2.2.1)\n",
            "Requirement already satisfied: importlib-metadata>=4.8.0 in /usr/local/lib/python3.9/dist-packages (from gym) (6.0.0)\n",
            "Requirement already satisfied: numpy>=1.18.0 in /usr/local/lib/python3.9/dist-packages (from gym) (1.22.4)\n",
            "Requirement already satisfied: zipp>=0.5 in /usr/local/lib/python3.9/dist-packages (from importlib-metadata>=4.8.0->gym) (3.15.0)\n",
            "Looking in indexes: https://pypi.org/simple, https://us-python.pkg.dev/colab-wheels/public/simple/\n",
            "Requirement already satisfied: pytorch-ignite in /usr/local/lib/python3.9/dist-packages (0.4.11)\n",
            "Requirement already satisfied: torch<3,>=1.3 in /usr/local/lib/python3.9/dist-packages (from pytorch-ignite) (1.13.1+cu116)\n",
            "Requirement already satisfied: packaging in /usr/local/lib/python3.9/dist-packages (from pytorch-ignite) (23.0)\n",
            "Requirement already satisfied: typing-extensions in /usr/local/lib/python3.9/dist-packages (from torch<3,>=1.3->pytorch-ignite) (4.5.0)\n"
          ]
        }
      ],
      "source": [
        "!pip install -q ptan\n",
        "!pip install -q textworld\n",
        "!pip install -q pytorch-ignite"
      ]
    },
    {
      "cell_type": "code",
      "source": [
        "%%capture\n",
        "!wget https://raw.githubusercontent.com/AdamClarkStandke/Deep-Reinforcement-Learning-Hands-On-Second-Edition/master/Chapter15/lib/common.py\n",
        "!wget https://raw.githubusercontent.com/AdamClarkStandke/Deep-Reinforcement-Learning-Hands-On-Second-Edition/master/Chapter15/lib/model.py\n",
        "!wget https://raw.githubusercontent.com/AdamClarkStandke/Deep-Reinforcement-Learning-Hands-On-Second-Edition/master/Chapter15/lib/preproc.py\n",
        "!wget https://raw.githubusercontent.com/AdamClarkStandke/Deep-Reinforcement-Learning-Hands-On-Second-Edition/master/Chapter15/train_basic.py\n",
        "!wget https://raw.githubusercontent.com/Shmuma/ptan/master/ptan/ignite.py"
      ],
      "metadata": {
        "id": "34UNAUc6BRHS"
      },
      "execution_count": 16,
      "outputs": []
    },
    {
      "cell_type": "code",
      "source": [
        "mv ignite.py /usr/local/lib/python3.9/dist-packages/ptan/"
      ],
      "metadata": {
        "id": "1K8i-AueEJP8"
      },
      "execution_count": 33,
      "outputs": []
    },
    {
      "cell_type": "code",
      "source": [
        "!python3.9 train_basic.py -s 1 --cuda -r t1"
      ],
      "metadata": {
        "colab": {
          "base_uri": "https://localhost:8080/"
        },
        "id": "Uu_zgtwO8Vzw",
        "outputId": "043fc7b0-79ce-43db-8b3a-1b694a41560c"
      },
      "execution_count": 35,
      "outputs": [
        {
          "output_type": "stream",
          "name": "stdout",
          "text": [
            "/usr/local/lib/python3.9/dist-packages/tatsu/grammars.py:6: DeprecationWarning: Using or importing the ABCs from 'collections' instead of from 'collections.abc' is deprecated since Python 3.3, and in 3.10 it will stop working\n",
            "  from collections import defaultdict, Mapping\n",
            "Traceback (most recent call last):\n",
            "  File \"/content/train_basic.py\", line 54, in <module>\n",
            "    raise RuntimeError(f\"Some game files from {game_files} not found! Probably you need to run make_games.sh\")\n",
            "RuntimeError: Some game files from ['games/simple1.ulx'] not found! Probably you need to run make_games.sh\n"
          ]
        }
      ]
    }
  ]
}