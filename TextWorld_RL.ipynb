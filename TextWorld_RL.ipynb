{
  "nbformat": 4,
  "nbformat_minor": 0,
  "metadata": {
    "colab": {
      "provenance": [],
      "authorship_tag": "ABX9TyM9UF8keYKFscSPgeDf+zFw",
      "include_colab_link": true
    },
    "kernelspec": {
      "name": "python3",
      "display_name": "Python 3"
    },
    "language_info": {
      "name": "python"
    }
  },
  "cells": [
    {
      "cell_type": "markdown",
      "metadata": {
        "id": "view-in-github",
        "colab_type": "text"
      },
      "source": [
        "<a href=\"https://colab.research.google.com/github/AdamClarkStandke/ReinforcementLearning/blob/main/TextWorld_RL.ipynb\" target=\"_parent\"><img src=\"https://colab.research.google.com/assets/colab-badge.svg\" alt=\"Open In Colab\"/></a>"
      ]
    },
    {
      "cell_type": "code",
      "execution_count": 26,
      "metadata": {
        "id": "Zre5hYRI4k9_"
      },
      "outputs": [],
      "source": [
        "!pip install -q ptan\n",
        "!pip install -q textworld"
      ]
    },
    {
      "cell_type": "code",
      "source": [
        "%%capture\n",
        "!wget https://raw.githubusercontent.com/AdamClarkStandke/Deep-Reinforcement-Learning-Hands-On-Second-Edition/master/Chapter15/lib/common.py\n",
        "!wget https://raw.githubusercontent.com/AdamClarkStandke/Deep-Reinforcement-Learning-Hands-On-Second-Edition/master/Chapter15/lib/model.py\n",
        "!wget https://raw.githubusercontent.com/AdamClarkStandke/Deep-Reinforcement-Learning-Hands-On-Second-Edition/master/Chapter15/lib/preproc.py"
      ],
      "metadata": {
        "id": "34UNAUc6BRHS"
      },
      "execution_count": 27,
      "outputs": []
    },
    {
      "cell_type": "code",
      "source": [
        "!tw-make tw-coin_collector --output t1 --seed 10 --level 5"
      ],
      "metadata": {
        "colab": {
          "base_uri": "https://localhost:8080/",
          "height": 0
        },
        "id": "9ppITYNG5G-A",
        "outputId": "06c5a3e3-5fb9-4c3f-8773-1faeec9a69b1"
      },
      "execution_count": 3,
      "outputs": [
        {
          "output_type": "stream",
          "name": "stdout",
          "text": [
            "Global seed: 10\n",
            "Game generated: /content/t1.z8\n"
          ]
        }
      ]
    }
  ]
}