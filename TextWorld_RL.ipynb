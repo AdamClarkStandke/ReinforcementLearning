{
  "nbformat": 4,
  "nbformat_minor": 0,
  "metadata": {
    "colab": {
      "provenance": [],
      "authorship_tag": "ABX9TyMah3qhV+4iykELv05FHznn",
      "include_colab_link": true
    },
    "kernelspec": {
      "name": "python3",
      "display_name": "Python 3"
    },
    "language_info": {
      "name": "python"
    },
    "accelerator": "GPU",
    "gpuClass": "standard"
  },
  "cells": [
    {
      "cell_type": "markdown",
      "metadata": {
        "id": "view-in-github",
        "colab_type": "text"
      },
      "source": [
        "<a href=\"https://colab.research.google.com/github/AdamClarkStandke/ReinforcementLearning/blob/main/TextWorld_RL.ipynb\" target=\"_parent\"><img src=\"https://colab.research.google.com/assets/colab-badge.svg\" alt=\"Open In Colab\"/></a>"
      ]
    },
    {
      "cell_type": "code",
      "execution_count": 1,
      "metadata": {
        "id": "Zre5hYRI4k9_"
      },
      "outputs": [],
      "source": [
        "%%capture\n",
        "!pip install -q ptan\n",
        "!pip install -q textworld\n",
        "!pip install -q pytorch-ignite"
      ]
    },
    {
      "cell_type": "code",
      "source": [
        "%%capture\n",
        "!wget https://raw.githubusercontent.com/AdamClarkStandke/ReinforcementLearning/main/TextWorld/common.py\n",
        "!wget https://raw.githubusercontent.com/AdamClarkStandke/ReinforcementLearning/main/TextWorld/model.py\n",
        "!wget https://raw.githubusercontent.com/AdamClarkStandke/ReinforcementLearning/main/TextWorld/preproc.py\n",
        "!wget https://raw.githubusercontent.com/AdamClarkStandke/ReinforcementLearning/main/TextWorld/train_basic.py\n",
        "!wget https://raw.githubusercontent.com/AdamClarkStandke/ReinforcementLearning/main/TextWorld/make_games.sh\n",
        "!wget https://raw.githubusercontent.com/AdamClarkStandke/ReinforcementLearning/main/TextWorld/ignite.py"
      ],
      "metadata": {
        "id": "34UNAUc6BRHS"
      },
      "execution_count": 2,
      "outputs": []
    },
    {
      "cell_type": "code",
      "source": [
        "mv ignite.py /usr/local/lib/python3.9/dist-packages/ptan/"
      ],
      "metadata": {
        "id": "1K8i-AueEJP8"
      },
      "execution_count": 3,
      "outputs": []
    },
    {
      "cell_type": "code",
      "source": [
        "!sh make_games.sh"
      ],
      "metadata": {
        "colab": {
          "base_uri": "https://localhost:8080/"
        },
        "id": "Op3nUmWDImCN",
        "outputId": "4022d195-288c-413b-b759-a224dede2167"
      },
      "execution_count": 4,
      "outputs": [
        {
          "output_type": "stream",
          "name": "stdout",
          "text": [
            "Global seed: 0\n",
            "Game generated: /content/simple-val.ulx\n",
            "Global seed: 1\n",
            "Game generated: /content/simple1.ulx\n",
            "Global seed: 2\n",
            "Game generated: /content/simple2.ulx\n",
            "Global seed: 3\n",
            "Game generated: /content/simple3.ulx\n",
            "Global seed: 4\n",
            "Game generated: /content/simple4.ulx\n",
            "Global seed: 5\n",
            "Game generated: /content/simple5.ulx\n",
            "Global seed: 6\n",
            "Game generated: /content/simple6.ulx\n",
            "Global seed: 7\n",
            "Game generated: /content/simple7.ulx\n",
            "Global seed: 8\n",
            "Game generated: /content/simple8.ulx\n",
            "Global seed: 9\n",
            "Game generated: /content/simple9.ulx\n",
            "Global seed: 10\n",
            "Game generated: /content/simple10.ulx\n",
            "Global seed: 11\n",
            "Game generated: /content/simple11.ulx\n",
            "Global seed: 12\n",
            "Game generated: /content/simple12.ulx\n",
            "Global seed: 13\n",
            "Game generated: /content/simple13.ulx\n",
            "Global seed: 14\n",
            "Game generated: /content/simple14.ulx\n",
            "Global seed: 15\n",
            "Game generated: /content/simple15.ulx\n",
            "Global seed: 16\n",
            "Game generated: /content/simple16.ulx\n",
            "Global seed: 17\n",
            "Game generated: /content/simple17.ulx\n",
            "Global seed: 18\n",
            "Game generated: /content/simple18.ulx\n",
            "Global seed: 19\n",
            "Game generated: /content/simple19.ulx\n",
            "Global seed: 20\n",
            "Game generated: /content/simple20.ulx\n"
          ]
        }
      ]
    },
    {
      "cell_type": "code",
      "source": [
        "!python3.9 train_basic.py -s 1 --cuda -r t1"
      ],
      "metadata": {
        "colab": {
          "base_uri": "https://localhost:8080/"
        },
        "id": "Uu_zgtwO8Vzw",
        "outputId": "2a769da4-be9a-466b-d7bc-f2fc9ea5510c"
      },
      "execution_count": 5,
      "outputs": [
        {
          "output_type": "stream",
          "name": "stdout",
          "text": [
            "/usr/local/lib/python3.9/dist-packages/tatsu/grammars.py:6: DeprecationWarning: Using or importing the ABCs from 'collections' instead of from 'collections.abc' is deprecated since Python 3.3, and in 3.10 it will stop working\n",
            "  from collections import defaultdict, Mapping\n",
            "Registered env tw-simple-v0 for game files ['simple1.ulx']\n",
            "Game tw-simple-v1, with file simple-val.ulx will be used for validation\n",
            "/usr/local/lib/python3.9/dist-packages/gym/core.py:317: DeprecationWarning: \u001b[33mWARN: Initializing wrapper in old step API which returns one bool instead of two. It is recommended to set `new_step_api=True` to use new step API. This will be the default behaviour in future.\u001b[0m\n",
            "  deprecation(\n",
            "/usr/local/lib/python3.9/dist-packages/gym/wrappers/step_api_compatibility.py:39: DeprecationWarning: \u001b[33mWARN: Initializing environment in old step API which returns one bool instead of two. It is recommended to set `new_step_api=True` to use new step API. This will be the default behaviour in future.\u001b[0m\n",
            "  deprecation(\n",
            "2023-03-12 00:15:33.106833: I tensorflow/core/platform/cpu_feature_guard.cc:193] This TensorFlow binary is optimized with oneAPI Deep Neural Network Library (oneDNN) to use the following CPU instructions in performance-critical operations:  AVX2 FMA\n",
            "To enable them in other operations, rebuild TensorFlow with the appropriate compiler flags.\n",
            "2023-03-12 00:15:34.190984: W tensorflow/compiler/xla/stream_executor/platform/default/dso_loader.cc:64] Could not load dynamic library 'libnvinfer.so.7'; dlerror: libnvinfer.so.7: cannot open shared object file: No such file or directory; LD_LIBRARY_PATH: /usr/local/lib/python3.9/dist-packages/cv2/../../lib64:/usr/lib64-nvidia\n",
            "2023-03-12 00:15:34.191122: W tensorflow/compiler/xla/stream_executor/platform/default/dso_loader.cc:64] Could not load dynamic library 'libnvinfer_plugin.so.7'; dlerror: libnvinfer_plugin.so.7: cannot open shared object file: No such file or directory; LD_LIBRARY_PATH: /usr/local/lib/python3.9/dist-packages/cv2/../../lib64:/usr/lib64-nvidia\n",
            "2023-03-12 00:15:34.191145: W tensorflow/compiler/tf2tensorrt/utils/py_utils.cc:38] TF-TRT Warning: Cannot dlopen some TensorRT libraries. If you would like to use Nvidia GPU with TensorRT, please make sure the missing libraries mentioned above are installed properly.\n",
            "/usr/local/lib/python3.9/dist-packages/gym/utils/passive_env_checker.py:227: DeprecationWarning: \u001b[33mWARN: Core environment is written in old step API which returns one bool instead of two. It is recommended to rewrite the environment with new step API. \u001b[0m\n",
            "  logger.deprecation(\n",
            "Episode 1: reward=0 (avg 0.00), steps=50 (avg 50.00), speed=0.0 f/s, elapsed=0:00:13\n",
            "Episode 2: reward=-1 (avg -0.02), steps=50 (avg 50.00), speed=0.0 f/s, elapsed=0:00:13\n",
            "Episode 3: reward=0 (avg -0.02), steps=50 (avg 50.00), speed=0.0 f/s, elapsed=0:00:13\n",
            "Episode 4: reward=0 (avg -0.02), steps=50 (avg 50.00), speed=0.0 f/s, elapsed=0:00:13\n",
            "Episode 5: reward=0 (avg -0.02), steps=50 (avg 50.00), speed=0.0 f/s, elapsed=0:00:13\n",
            "Episode 6: reward=-1 (avg -0.04), steps=50 (avg 50.00), speed=0.0 f/s, elapsed=0:00:13\n",
            "Episode 7: reward=-3 (avg -0.10), steps=50 (avg 50.00), speed=0.0 f/s, elapsed=0:00:13\n",
            "Episode 8: reward=4 (avg -0.02), steps=35 (avg 49.70), speed=0.0 f/s, elapsed=0:00:13\n",
            "Episode 9: reward=4 (avg 0.06), steps=12 (avg 48.95), speed=0.0 f/s, elapsed=0:00:13\n",
            "1: best avg training reward: 0.065, saved\n",
            "Episode 10: reward=6 (avg 0.18), steps=44 (avg 48.85), speed=0.0 f/s, elapsed=0:00:13\n",
            "1: best avg training reward: 0.183, saved\n",
            "Episode 11: reward=4 (avg 0.26), steps=45 (avg 48.77), speed=0.0 f/s, elapsed=0:00:13\n",
            "1: best avg training reward: 0.260, saved\n",
            "Episode 12: reward=0 (avg 0.25), steps=50 (avg 48.79), speed=0.0 f/s, elapsed=0:00:13\n",
            "Episode 13: reward=0 (avg 0.25), steps=50 (avg 48.82), speed=0.0 f/s, elapsed=0:00:13\n",
            "Episode 14: reward=1 (avg 0.26), steps=50 (avg 48.84), speed=0.0 f/s, elapsed=0:00:13\n",
            "1: best avg training reward: 0.264, saved\n",
            "Episode 15: reward=2 (avg 0.30), steps=50 (avg 48.87), speed=0.0 f/s, elapsed=0:00:13\n",
            "1: best avg training reward: 0.299, saved\n",
            "Episode 16: reward=0 (avg 0.29), steps=50 (avg 48.89), speed=0.0 f/s, elapsed=0:00:13\n",
            "Episode 17: reward=0 (avg 0.29), steps=50 (avg 48.91), speed=0.0 f/s, elapsed=0:00:13\n",
            "Episode 18: reward=-2 (avg 0.24), steps=50 (avg 48.93), speed=0.0 f/s, elapsed=0:00:13\n",
            "Episode 19: reward=0 (avg 0.24), steps=50 (avg 48.95), speed=0.0 f/s, elapsed=0:00:13\n",
            "Episode 20: reward=-2 (avg 0.19), steps=50 (avg 48.97), speed=0.0 f/s, elapsed=0:00:13\n",
            "Episode 21: reward=2 (avg 0.23), steps=28 (avg 48.56), speed=0.0 f/s, elapsed=0:00:13\n",
            "Episode 22: reward=-2 (avg 0.18), steps=50 (avg 48.58), speed=4.4 f/s, elapsed=0:00:16\n",
            "Episode 23: reward=-1 (avg 0.16), steps=50 (avg 48.61), speed=4.4 f/s, elapsed=0:00:28\n",
            "glk_comm.c: Could not read msg size: Success\n",
            "Traceback (most recent call last):\n",
            "  File \"/usr/local/lib/python3.9/dist-packages/ignite/engine/engine.py\", line 959, in _internal_run_as_gen\n",
            "    epoch_time_taken += yield from self._run_once_on_dataset_as_gen()\n",
            "  File \"/usr/local/lib/python3.9/dist-packages/ignite/engine/engine.py\", line 1069, in _run_once_on_dataset_as_gen\n",
            "    self._fire_event(Events.ITERATION_COMPLETED)\n",
            "  File \"/usr/local/lib/python3.9/dist-packages/ignite/engine/engine.py\", line 425, in _fire_event\n",
            "    func(*first, *(event_args + others), **kwargs)\n",
            "  File \"/usr/local/lib/python3.9/dist-packages/ptan/ignite.py\", line 137, in __call__\n",
            "    engine.fire_event(event)\n",
            "  File \"/usr/local/lib/python3.9/dist-packages/ignite/engine/engine.py\", line 449, in fire_event\n",
            "    return self._fire_event(event_name)\n",
            "  File \"/usr/local/lib/python3.9/dist-packages/ignite/engine/engine.py\", line 425, in _fire_event\n",
            "    func(*first, *(event_args + others), **kwargs)\n",
            "  File \"/content/train_basic.py\", line 126, in validate\n",
            "    obs, r, is_done, _ = val_env.step(act)\n",
            "  File \"/content/preproc.py\", line 100, in step\n",
            "    obs, r, is_done, extra = self.env.step(action)\n",
            "  File \"/usr/local/lib/python3.9/dist-packages/gym/wrappers/order_enforcing.py\", line 37, in step\n",
            "    return self.env.step(action)\n",
            "  File \"/usr/local/lib/python3.9/dist-packages/gym/wrappers/step_api_compatibility.py\", line 52, in step\n",
            "    step_returns = self.env.step(action)\n",
            "  File \"/usr/local/lib/python3.9/dist-packages/gym/wrappers/env_checker.py\", line 37, in step\n",
            "    return env_step_passive_checker(self.env, action)\n",
            "  File \"/usr/local/lib/python3.9/dist-packages/gym/utils/passive_env_checker.py\", line 222, in env_step_passive_checker\n",
            "    result = env.step(action)\n",
            "  File \"/usr/local/lib/python3.9/dist-packages/textworld/gym/envs/textworld.py\", line 79, in step\n",
            "    obs, scores, dones, infos = super().step([command])\n",
            "  File \"/usr/local/lib/python3.9/dist-packages/textworld/gym/envs/textworld_batch.py\", line 159, in step\n",
            "    self.obs, scores, dones, infos = self.batch_env.step(self.last_commands)\n",
            "  File \"/usr/local/lib/python3.9/dist-packages/textworld/envs/batch/batch_env.py\", line 266, in step\n",
            "    results.append(env.step(action))\n",
            "  File \"/usr/local/lib/python3.9/dist-packages/textworld/envs/wrappers/filter.py\", line 46, in step\n",
            "    game_state, score, done = super().step(command)\n",
            "  File \"/usr/local/lib/python3.9/dist-packages/textworld/core.py\", line 339, in step\n",
            "    return self._wrapped_env.step(command)\n",
            "  File \"/usr/local/lib/python3.9/dist-packages/textworld/envs/wrappers/limit.py\", line 27, in step\n",
            "    game_state, score, done = super().step(command)\n",
            "  File \"/usr/local/lib/python3.9/dist-packages/textworld/core.py\", line 339, in step\n",
            "    return self._wrapped_env.step(command)\n",
            "  File \"/usr/local/lib/python3.9/dist-packages/textworld/core.py\", line 339, in step\n",
            "    return self._wrapped_env.step(command)\n",
            "  File \"/usr/local/lib/python3.9/dist-packages/textworld/core.py\", line 339, in step\n",
            "    return self._wrapped_env.step(command)\n",
            "  File \"/usr/local/lib/python3.9/dist-packages/textworld/envs/wrappers/tw_inform7.py\", line 290, in step\n",
            "    self.state, score, done = self._wrapped_env.step(command)\n",
            "  File \"/usr/local/lib/python3.9/dist-packages/textworld/envs/wrappers/tw_inform7.py\", line 141, in step\n",
            "    self.state, _, _, = self._wrapped_env.step(command)\n",
            "  File \"/usr/local/lib/python3.9/dist-packages/textworld/envs/wrappers/tw_inform7.py\", line 386, in step\n",
            "    self.state, score, done = self._wrapped_env.step(command)\n",
            "  File \"/usr/local/lib/python3.9/dist-packages/textworld/envs/glulx/git_glulx.py\", line 80, in step\n",
            "    self.state.raw = self._send(self.state.last_command)\n",
            "  File \"/usr/local/lib/python3.9/dist-packages/textworld/envs/glulx/git_glulx.py\", line 101, in _send\n",
            "    result = lib.communicate(self._names_struct, c_command)\n",
            "KeyboardInterrupt\n",
            "\n",
            "During handling of the above exception, another exception occurred:\n",
            "\n",
            "Traceback (most recent call last):\n",
            "  File \"/content/train_basic.py\", line 156, in <module>\n",
            "    engine.run(common.batch_generator(buffer, params.replay_initial, BATCH_SIZE))\n",
            "  File \"/usr/local/lib/python3.9/dist-packages/ignite/engine/engine.py\", line 892, in run\n",
            "    return self._internal_run()\n",
            "  File \"/usr/local/lib/python3.9/dist-packages/ignite/engine/engine.py\", line 935, in _internal_run\n",
            "    return next(self._internal_run_generator)\n",
            "  File \"/usr/local/lib/python3.9/dist-packages/ignite/engine/engine.py\", line 992, in _internal_run_as_gen\n",
            "    self.logger.error(f\"Engine run is terminating due to exception: {e}\")\n",
            "  File \"/usr/lib/python3.9/logging/__init__.py\", line 1474, in error\n",
            "    if self.isEnabledFor(ERROR):\n",
            "  File \"/usr/lib/python3.9/logging/__init__.py\", line 1689, in isEnabledFor\n",
            "    def isEnabledFor(self, level):\n",
            "KeyboardInterrupt\n",
            "^C\n"
          ]
        }
      ]
    }
  ]
}