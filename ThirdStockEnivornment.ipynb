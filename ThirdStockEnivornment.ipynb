{
  "cells": [
    {
      "cell_type": "markdown",
      "metadata": {
        "id": "view-in-github",
        "colab_type": "text"
      },
      "source": [
        "<a href=\"https://colab.research.google.com/github/aCStandke/ReinforcementLearning/blob/main/ThirdStockEnivornment.ipynb\" target=\"_parent\"><img src=\"https://colab.research.google.com/assets/colab-badge.svg\" alt=\"Open In Colab\"/></a>"
      ]
    },
    {
      "cell_type": "markdown",
      "metadata": {
        "id": "EGbbfGz0KsDS"
      },
      "source": [
        "# Installing Necessary Packages for Training the Trading Agent\n",
        "\n",
        "To train the Trading Agent the package [Stable-Baselines3](https://stable-baselines3.readthedocs.io/en/master/index.html) was used. As stated in the docs: \n",
        "> Stable Baselines3 (SB3) is a set of reliable implementations of reinforcement learning algorithms in PyTorch. It is the next major version of Stable Baselines. And steems from the paper [Stable-Baselines3: Reliable Reinforcement Learning Implementations](https://jmlr.org/papers/volume22/20-1364/20-1364.pdf)\n",
        "The algorithms in this package will make it easier for the research community and industry to replicate, refine, and identify new ideas, and will create good baselines to build projects on top of. We expect these tools will be used as a base around which new ideas can be added, and as a tool for comparing a new approach against existing ones. We also hope that the simplicity of these tools will allow beginners to experiment with a more advanced toolset, without being buried in implementation details.\n",
        "\n",
        "---\n",
        "## Proximal Policy Optimization(PPO):\n",
        "\n",
        "Because in this environment the Agent will be executing continous actions, the Proximal Policy Optimization(PPO) algorithm was chosen. As detailed by the authors [PPO](https://arxiv.org/pdf/1707.06347.pdf)\n",
        "\n",
        "\n",
        "> We propose a new family of policy gradient methods for reinforcement learning, which alternate between sampling data through interaction with the environment, and optimizing a “surrogate” objective function using stochastic gradient ascent. Whereas standard policy gradient methods perform one gradient update per data sample, we propose a novel objective function that enables multiple epochs of minibatch updates. The new methods, which we call proximal policy optimization (PPO), have some of the benefits of trust region policy optimization (TRPO), but they are much simpler to implement, more general, and have better sample complexity (empirically).\n",
        "\n",
        "\n",
        "PPO uses the following novel objective function:\n",
        "\n",
        "$L^{CLIP}(θ)=\\hat{E}_t[min(r_{t}(θ)\\hat{A}_t,clip(r_{t}(θ), 1-ϵ, 1+ϵ)\\hat{A}_t]$\n",
        "\n",
        "*  $\\theta$ is the policy parameter\n",
        "*  $\\hat{E}_t$ denotes the empirical expectation over timesteps\n",
        "*  $r_{t}$ is the ratio of the probability under the new and old policies, respectively\n",
        "*  $\\hat{A}_t$ is the estimated advantage at time t\n",
        "*  $\\epsilon$ is the clipping hyperparameter, usually 0.1 or 0.2\n",
        "\n",
        "\n",
        "As detailed by the authors [openAI](https://openai.com/blog/openai-baselines-ppo/#ppo)\n",
        "\n",
        "\n",
        "> This objective implements a way to do a Trust Region update which is compatible with Stochastic Gradient Descent, and simplifies the algorithm by removing the KL penalty and need to make adaptive updates. In tests, this algorithm has displayed the best performance on continuous control tasks and almost matches ACER’s performance on Atari, despite being far simpler to implement\n",
        "\n",
        "\n",
        "  \n",
        "\n",
        "\n",
        "\n",
        "\n",
        "\n",
        "\n",
        "\n"
      ]
    },
    {
      "cell_type": "code",
      "execution_count": null,
      "metadata": {
        "id": "OHO1Q4dS9tF0"
      },
      "outputs": [],
      "source": [
        "# ignore warning messages because they are annoying lol\n",
        "import warnings\n",
        "warnings.filterwarnings('ignore')"
      ]
    },
    {
      "cell_type": "code",
      "execution_count": null,
      "metadata": {
        "id": "ZqZJWIuzLFDb"
      },
      "outputs": [],
      "source": [
        "!pip install stable-baselines3[extra] # reinforcement learning library\n",
        "!pip install optuna # hyperparameter library\n",
        "!pip install --upgrade importlib-metadata==4.13.0 # for backwards compatibility issue"
      ]
    },
    {
      "cell_type": "code",
      "execution_count": null,
      "metadata": {
        "id": "AoLhA3_b_XeK"
      },
      "outputs": [],
      "source": [
        "import random\n",
        "import gym \n",
        "from gym import spaces\n",
        "from gym.utils import seeding\n",
        "import pandas as pd\n",
        "import numpy as np\n",
        "import json\n",
        "import datetime as dt\n",
        "import optuna\n",
        "from typing import Callable, Dict, List, Optional, Tuple, Type, Union\n",
        "from stable_baselines3 import PPO\n",
        "from stable_baselines3.common.utils import constant_fn\n",
        "from stable_baselines3.common.policies import ActorCriticPolicy\n",
        "from stable_baselines3.common.torch_layers import BaseFeaturesExtractor\n",
        "from stable_baselines3.common.env_util import DummyVecEnv\n",
        "from stable_baselines3.common.callbacks import EvalCallback\n",
        "from stable_baselines3.common.env_checker import VecCheckNan, check_env\n",
        "from stable_baselines3.common.callbacks import BaseCallback, CallbackList, StopTrainingOnRewardThreshold\n",
        "from empyrical import sortino_ratio, calmar_ratio, omega_ratio\n",
        "import sqlite3\n",
        "from sqlite3 import Error\n",
        "import torch as th\n",
        "import torch.nn as nn\n",
        "import collections\n",
        "import datetime\n",
        "from sklearn import preprocessing\n",
        "from sklearn.model_selection import train_test_split\n",
        "import math\n",
        "import os\n",
        "import csv\n",
        "from csv import DictWriter"
      ]
    },
    {
      "cell_type": "markdown",
      "metadata": {
        "id": "3TBwoqXizywK"
      },
      "source": [
        "# Third Stock Trading Environment\n",
        "\n",
        "\n",
        "  This third stock trading environment is based on Adam King's articles as found here:[Creating Bitcoin trading bots don’t lose money](https://medium.com/towards-data-science/creating-bitcoin-trading-bots-that-dont-lose-money-2e7165fb0b29) and here:[Optimizing deep learning trading bots using state-of-the-art techniques](https://towardsdatascience.com/using-reinforcement-learning-to-trade-bitcoin-for-massive-profit-b69d0e8f583b)\n",
        "Furthermore, the random offset in the reset method and the if/and control flow is based on Maxim Lapan's implementation as found in chapter eight of his book [Deep Reinforcement Learning Hands-On: Apply modern RL methods to practical problems of chatbots, robotics, discrete optimization, web automation, and more, 2nd Edition](https://www.amazon.com/Deep-Reinforcement-Learning-Hands-optimization/dp/1838826998).\n",
        "\n",
        "Similar to the first and second stock trading environment, the agent is trading in the [SPY ETF](https://www.etf.com/SPY?L=1) environment and the [Yandax](https://en.wikipedia.org/wiki/Yandex) environment; and is trading in a continous action space(i.e.[0-2] for buying, selling, or holding and [0-1] for % sold/bought where 1 is equivalent to 100%)  and  the observation space is from [-inf,inf])(*note: however, in the second stock trading environment this space ranged from [-1,1]*).Also unlike the second stock trading environment, an additional observation was added to the agent's observations space of an account history/ledger of the agent's past networth from trading (*note: this window is set by the variable LOOKBACK_WINDOW_SIZE and its default is 10 days*)and a commision parameter used in the cost and sales calculation (*note: default is 0.1%*). \n",
        "\n",
        "Additionally, three different ways of calculating the agent's reward were added, namely: \n",
        "* BalenceReward: a simple reward scheme that Adam King created that multiplies the agent's balance by a delay modifier that is based on the current offset (i.e.step) of the agent in the environment see [Creating Bitcoin trading bots don’t lose money](https://medium.com/towards-data-science/creating-bitcoin-trading-bots-that-dont-lose-money-2e7165fb0b29) for more details\n",
        "* StandkeCurrentValueReward: a simple reward scheme that I created that is the difference of the previous trading day's networth and the current trading day's networth multiplied by the agent's balance and Adam King's delay modifier that is based on the current step in the environment \n",
        "* StandkeCurrentBasketReward (aka None): a simple reward scheme based off Maxim Lapan's reward scheme that multiplies the current price value of the asset by the quantity held\n"
      ]
    },
    {
      "cell_type": "code",
      "execution_count": null,
      "metadata": {
        "id": "OB9FxIN_AQC4"
      },
      "outputs": [],
      "source": [
        "# stock environment parameters\n",
        "MAX_ACCOUNT_BALANCE = 2147483647 \n",
        "MAX_NUM_SHARES = 2147483647\n",
        "MAX_SHARE_PRICE = 4294967295\n",
        "LOOKBACK_WINDOW_SIZE = 10 # trading window, default is 10 frames \n",
        "MAX_STEPS = 1e6 # max steps agent can take in environment \n",
        "INITIAL_ACCOUNT_BALANCE = 10000 # starting balance and networth\n",
        "\n",
        "# default percentage of stock price trading agent pays broker when \n",
        "# buying/selling, default is 0.1% (i.e. very reasonable)\n",
        "DA_COMMISION = 0.1"
      ]
    },
    {
      "cell_type": "code",
      "execution_count": null,
      "metadata": {
        "id": "dJiMYPDIAj3y"
      },
      "outputs": [],
      "source": [
        "# Stock/ETF Trading Enviornment\n",
        "class StockTradingEnv(gym.Env):\n",
        "    \"\"\"A stock trading environment for OpenAI gym\"\"\"\n",
        "    metadata = {'render.modes': ['human']}\n",
        "\n",
        "    def __init__(self, data, title, reward_func='BalenceReward', random=True):\n",
        "        super(StockTradingEnv, self).__init__()\n",
        "        self.data = data\n",
        "        self.random_ofs_on_reset = random\n",
        "        self.reward_func = reward_func\n",
        "        self.bars_count = LOOKBACK_WINDOW_SIZE\n",
        "        self.commission = DA_COMMISION\n",
        "        self.title = title\n",
        "        \n",
        "        # Actions of the format Buy x%, Sell x%, Hold, etc.\n",
        "        self.action_space = spaces.Box(low=np.array([0, 0]), high=np.array([2, 1]), dtype=np.float32)\n",
        "\n",
        "        # Prices contains the OHCL values for the last five prices the state \n",
        "        # space is 12 dim i.e. 6 x 2 = 12\n",
        "        self.observation_space = spaces.Box(\n",
        "            low=-np.inf, high=np.inf, shape=self.shape, dtype=np.float32)\n",
        "        \n",
        "        # setting random seed\n",
        "        self.seed()\n",
        "\n",
        "        # creating header for text output\n",
        "        header = \"Time, Networth, Balence, SharesHeld\"\n",
        "        with open(self.title, 'a') as f:\n",
        "          f.write(header + \"\\n\")\n",
        "          f.close\n",
        "\n",
        "    def reset(self):\n",
        "      # random offset portion \n",
        "      bars = self.bars_count\n",
        "      if self.random_ofs_on_reset:\n",
        "        offset = self.np_random.choice(self.data.high.shape[0]-bars*10)+bars\n",
        "      else:\n",
        "        offset = bars\n",
        "      self._reset(offset)\n",
        "      return self._next_observation()\n",
        "\n",
        "    def _reset(self, offset):\n",
        "      self.trades = []\n",
        "      self.balance = INITIAL_ACCOUNT_BALANCE\n",
        "      self.netWorth = INITIAL_ACCOUNT_BALANCE\n",
        "      self.max_net_worth = INITIAL_ACCOUNT_BALANCE\n",
        "      self.shares_held  = 0\n",
        "      self._offset = offset\n",
        "      # setting account history portion\n",
        "      self.account_history = np.repeat([[INITIAL_ACCOUNT_BALANCE]], LOOKBACK_WINDOW_SIZE, axis=1)\n",
        "\n",
        "    # shape of observation space is 2D\n",
        "    @property\n",
        "    def shape(self):\n",
        "      return (6, self.bars_count)\n",
        "\n",
        "    def _next_observation(self):\n",
        "      res = np.zeros(shape=(6, self.bars_count), dtype=np.float32)\n",
        "      ofs = self.bars_count-1\n",
        "      res[0] = self.data.volume[self._offset-ofs:self._offset+1]\n",
        "      res[1] = self.data.high[self._offset-ofs:self._offset+1]\n",
        "      res[2] = self.data.low[self._offset-ofs:self._offset+1]\n",
        "      res[3] = self.data.open[self._offset-ofs:self._offset+1]\n",
        "      res[4] = self.account_history[0][-self.bars_count:]\n",
        "      res[5] = self.data.close[self._offset-ofs:self._offset+1]\n",
        "      res = np.float32(res)\n",
        "      return res\n",
        "       \n",
        "    def _take_action(self, action):\n",
        "      reward = 0\n",
        "      current_price = self._cur_close()\n",
        "      action_type = int(action[0])\n",
        "      amount = action[1]\n",
        "      \n",
        "      shares_bought = 0\n",
        "      shares_sold = 0\n",
        "      additional_cost = 0\n",
        "      sales = 0\n",
        "\n",
        "\n",
        "      if action_type < 1 and self.balance:\n",
        "        # Buy amount % of balance in shares\n",
        "        total_possible = self.balance / (current_price * (1+self.commission))\n",
        "        shares_bought = total_possible * amount\n",
        "        additional_cost = shares_bought * current_price * (1+self.commission)\n",
        "        self.balance -= int(additional_cost)\n",
        "        self.shares_held += int(shares_bought)\n",
        "        # trading history\n",
        "        if shares_bought > 0:\n",
        "          self.trades.append({'step': self._offset, 'shares': shares_bought, \n",
        "                              'total': additional_cost, 'type': \"buy\"})\n",
        "      elif action_type < 2 and self.shares_held:\n",
        "        # Sell amount % of shares held\n",
        "        shares_sold = self.shares_held * amount  \n",
        "        sales = shares_sold * current_price * (1 - self.commission)\n",
        "        self.balance += int(sales)\n",
        "        self.shares_held -= int(shares_sold)\n",
        "        # trading history\n",
        "        if shares_sold > 0:\n",
        "          self.trades.append({'step': self._offset, 'shares': -shares_sold, \n",
        "                              'total': shares_sold * current_price, 'type': \"sell\"}) \n",
        "      else:\n",
        "        # Hold and ride the bull or bear\n",
        "        pass    \n",
        "      \n",
        "      self.netWorth = self.balance + self.shares_held * current_price\n",
        "      \n",
        "      if self.netWorth > self.max_net_worth:\n",
        "        self.max_net_worth = self.netWorth\n",
        "\n",
        "      # updating account history\n",
        "      self.account_history = np.append(self.account_history, [[self.netWorth]], axis=1)\n",
        "      \n",
        "      # reward Calculations\n",
        "      returns = self.account_history[0][-self.bars_count:]\n",
        "      # calcualtion for ratio based rewards\n",
        "      r = np.diff(returns)\n",
        "      # BalenceReward \n",
        "      if self.reward_func == 'BalenceReward':\n",
        "        delay_modifier = (self._offset / MAX_STEPS)\n",
        "        reward = self.balance * delay_modifier\n",
        "      # StandkeCurrentValueReward\n",
        "      elif self.reward_func == 'StandkeCurrentValueReward':\n",
        "        prev_net = returns[-2]\n",
        "        current_net = returns[-1]\n",
        "        ratio = current_net-prev_net\n",
        "        delay_modifier = (self._offset / MAX_STEPS)\n",
        "        reward = ratio * self.balance * delay_modifier\n",
        "      # StandkeCurrentBasketReward (i.e. none)\n",
        "      else:\n",
        "        reward = self.shares_held * current_price \n",
        "      return reward if abs(reward) != np.inf and not np.isnan(reward) else 0\n",
        "\n",
        "      \n",
        "    def _cur_close(self):\n",
        "      \"\"\"\n",
        "      Calculate real close price for the current bar\n",
        "      \"\"\"\n",
        "      return self.data.real_close[self._offset]\n",
        "\n",
        "    def step(self, action):\n",
        "      # Execute one time step within the environment\n",
        "      reward = self._take_action(action)\n",
        "      self._offset += 1\n",
        "      if self._offset >= self.data.close.shape[0]-1 or int(self.netWorth)<1 or int(self.netWorth)>=MAX_ACCOUNT_BALANCE:\n",
        "        done=True\n",
        "      else:\n",
        "        done=False\n",
        "      obs = self._next_observation()\n",
        "      info = {\"Net Worth\":self.netWorth, \"reward\": reward, 'Balance': self.balance}\n",
        "      return obs, reward, done, info\n",
        "\n",
        "    def _render_to_file(self):\n",
        "      with open(self.title, 'a') as f:\n",
        "        f.write(f'{self.data.date[self._offset]},{self.netWorth},{self.balance},{self.shares_held}\\n')\n",
        "        f.close()\n",
        " \n",
        "    def render(self, mode='file', title=\"Agent's Trading Screen\", **kwargs):\n",
        "      # Render the environment to the screen\n",
        "      if mode == 'file':\n",
        "        self._render_to_file()\n",
        "\n",
        "\n",
        "    def seed(self, seed=None):\n",
        "      self.np_random, seed1 = seeding.np_random(seed)\n",
        "      seed2 = seeding.hash_seed(seed1+1) % 2**33\n",
        "      return [seed1, seed2]\n"
      ]
    },
    {
      "cell_type": "markdown",
      "source": [
        "# Data Preprocessing Steps\n",
        "\n",
        "1.   First the data is made [stationary](https://machinelearningmastery.com/remove-trends-seasonality-difference-transform-python/) to remove any trends or seasonality associated with the time series data\n",
        "2.   Then the price data is converted into releative prices to model the relative change rather than absolute change in prices (i.e. generally used in [technical analysis](https://www.investopedia.com/terms/t/technicalanalysis.asp))\n",
        "3. Lastly the data is normalized using sklearn's [min-max scaler](https://scikit-learn.org/stable/modules/generated/sklearn.preprocessing.MinMaxScaler.html) as to fit within the environment's observation space of [0-1]\n"
      ],
      "metadata": {
        "id": "-wu_j-g5YIA4"
      }
    },
    {
      "cell_type": "markdown",
      "source": [
        "# SPY ETF Data \n",
        "\n",
        "* 1 frame i.e. a time window of 1 is one day of trading as detailed by the candlestick graph, showing 10 days of trading ![gsdfsdf.png](data:image/png;base64,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)\n",
        "\n",
        "* data spans from beginning of 2005 to mid/late 2022\n",
        "* training data consists of 3201 samples\n",
        "* testing data consists of 1210 samples"
      ],
      "metadata": {
        "id": "fLxeQP70AlEy"
      }
    },
    {
      "cell_type": "code",
      "execution_count": null,
      "metadata": {
        "id": "szUR1sYHHEVl"
      },
      "outputs": [],
      "source": [
        "# create a differenced series as done in step 1 (see link for more info)\n",
        "def difference(dataset, interval=1):\n",
        "\tdiff = list()\n",
        "\tfor i in range(interval, len(dataset)):\n",
        "\t\tvalue = np.log(dataset[i]) - np.log(dataset[i - interval])\n",
        "\t\tdiff.append(value)\n",
        "\treturn diff\n",
        " \n",
        "# training data\n",
        "df = pd.read_csv('/content/drive/MyDrive/Datasets/StockMarketData/archive/Data/ETFs/spy.us.txt') # load csv data from directory\n",
        "df = df.sort_values('Date')\n",
        "data=df[['Date', 'Open', 'High', 'Low', 'Close', 'Volume']]\n",
        "\n",
        "# making OHLC data stationary  \n",
        "diff_o = np.array(difference(data['Open'], 1))\n",
        "diff_h = np.array(difference(data['High'], 1))\n",
        "diff_l = np.array(difference(data['Low'], 1))\n",
        "diff_c = np.array(difference(data['Close'], 1))\n",
        "# volumne data\n",
        "vol = data['Volume'].values\n",
        "# year data of year-month-day form\n",
        "dt = data['Date'].array\n",
        "o =  diff_o\n",
        "rc = diff_c\n",
        "rh = diff_h\n",
        "rl = diff_l\n",
        "\n",
        "Train_Data = collections.namedtuple('Data', field_names=['date','high', 'low', 'close', 'open', 'volume', 'real_open',  'real_close', 'real_high', 'real_low', 'real_vol'])\n",
        "train = Train_Data(date=dt,high=rh, low=rl, close=rc, open=o, volume=vol, real_open=data['Open'].values, real_close=data['Close'].values, real_high=data['High'].values, real_low=data['Low'].values, real_vol=data['Volume'].values)"
      ]
    },
    {
      "cell_type": "code",
      "execution_count": null,
      "metadata": {
        "id": "1TdubrWOfamD"
      },
      "outputs": [],
      "source": [
        "# Testing data\n",
        "test = pd.read_csv('/content/drive/MyDrive/Datasets/StockMarketData/test.csv') # load csv data from directory\n",
        "t_df = test.sort_values('Date')\n",
        "data_two=t_df[['Date', 'Open', 'High', 'Low', 'Close', 'Volume']]\n",
        "\n",
        "# making OHLC data stationary  \n",
        "diff_o = np.array(difference(data_two['Open'], 1))\n",
        "diff_h = np.array(difference(data_two['High'], 1))\n",
        "diff_l = np.array(difference(data_two['Low'], 1))\n",
        "diff_c = np.array(difference(data_two['Close'], 1))\n",
        "# volumne data\n",
        "vol = data_two['Volume'].values\n",
        "# year data of year-month-day form\n",
        "dt = data_two['Date'].array\n",
        "o =  diff_o\n",
        "rc = diff_c\n",
        "rh = diff_h\n",
        "rl = diff_l\n",
        "\n",
        "Test_Data = collections.namedtuple('Data', field_names=['date','high', 'low', 'close', 'open', 'volume', 'real_open', 'real_close', 'real_high', 'real_low', 'real_vol'])\n",
        "test = Test_Data(date=dt,high=rh, low=rl, close=rc, open=o, volume=vol, real_open=data['Open'].values, real_close=data_two['Close'].values, real_high=data_two['High'].values, real_low=data_two['Low'].values, real_vol=data['Volume'].values)"
      ]
    },
    {
      "cell_type": "markdown",
      "source": [
        "# Yandex Stock Data\n",
        "\n",
        "* 1 frame i.e. a time window of 100 makes up one minute of trading as detailed by Max Lapan's candelstick\n",
        "graph ![B14854_10_01 (1).png](data:image/png;base64,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)\n",
        "\n",
        "* data spans from beginning of 2015 to end of 2016\n",
        "* training data consists of 196,581 samples\n",
        "* testing data consists of 65,527 samples"
      ],
      "metadata": {
        "id": "WG5ZWUQVPFxE"
      }
    },
    {
      "cell_type": "code",
      "source": [
        "# !tar xvf /content/drive/MyDrive/Datasets/StockMarketData/ch08-small-quotes/ch08-small-quotes.tgz"
      ],
      "metadata": {
        "id": "kZvV5ESnOsn4"
      },
      "execution_count": null,
      "outputs": []
    },
    {
      "cell_type": "code",
      "source": [
        "# # loading data\n",
        "# df_train = pd.read_csv('/content/YNDX_150101_151231.csv') \n",
        "# df_test = pd.read_csv('/content/YNDX_160101_161231.csv')\n",
        "# combine = pd.concat([df_train, df_test], axis=0)\n",
        "# X_train, X_test = train_test_split(combine, test_size=0.25, shuffle=False)"
      ],
      "metadata": {
        "id": "WCjujGGrUvrx"
      },
      "execution_count": null,
      "outputs": []
    },
    {
      "cell_type": "code",
      "source": [
        "# X_train=X_train[['<TIME>', '<OPEN>', '<HIGH>', '<LOW>', '<CLOSE>', '<VOL>']]\n",
        "# X_test=X_test[['<TIME>', '<OPEN>', '<HIGH>', '<LOW>', '<CLOSE>', '<VOL>']]"
      ],
      "metadata": {
        "id": "1z_EWuvRmHJj"
      },
      "execution_count": null,
      "outputs": []
    },
    {
      "cell_type": "code",
      "source": [
        "# # making OHLC data stationary\n",
        "# diff_o = np.array(X_train['<OPEN>'].diff().dropna())\n",
        "# diff_h = np.array(X_train['<HIGH>'].diff().dropna())\n",
        "# diff_l = np.array(X_train['<LOW>'].diff().dropna())\n",
        "# diff_c = np.array(X_train['<CLOSE>'].diff().dropna())\n",
        "# # volumne data\n",
        "# vol = X_train['<VOL>'].values\n",
        "# # Time in seconds\n",
        "# dt = X_train['<TIME>'].array\n",
        "\n",
        "# Train_Data = collections.namedtuple('Data', field_names=['date','high', 'low', 'close', 'open', 'volume', 'real_open',  'real_close', 'real_high', 'real_low', 'real_vol'])\n",
        "# train = Train_Data(date=dt,high=diff_h, low=diff_l, close=diff_c, open=diff_o, volume=vol, real_open=X_train['<OPEN>'].values, real_close=X_train['<CLOSE>'].values, real_high=X_train['<HIGH>'].values, real_low=X_train['<LOW>'].values, real_vol=X_train['<VOL>'].values)"
      ],
      "metadata": {
        "id": "44cg5Iq9QN2V"
      },
      "execution_count": null,
      "outputs": []
    },
    {
      "cell_type": "code",
      "source": [
        "# # making OHLC data stationary\n",
        "# diff_o = np.array(X_test['<OPEN>'].diff().dropna())\n",
        "# diff_h = np.array(X_test['<HIGH>'].diff().dropna())\n",
        "# diff_l = np.array(X_test['<LOW>'].diff().dropna())\n",
        "# diff_c = np.array(X_test['<CLOSE>'].diff().dropna())\n",
        "# # volumne data\n",
        "# vol = X_test['<VOL>'].values\n",
        "# # Time in seconds\n",
        "# dt = X_test['<TIME>'].array\n",
        "\n",
        "# test_Data = collections.namedtuple('Data', field_names=['date','high', 'low', 'close', 'open', 'volume', 'real_open',  'real_close', 'real_high', 'real_low', 'real_vol'])\n",
        "# test = test_Data(date=dt,high=diff_h, low=diff_l, close=diff_c, open=diff_o, volume=vol, real_open=X_test['<OPEN>'].values, real_close=X_test['<CLOSE>'].values, real_high=X_test['<HIGH>'].values, real_low=X_test['<LOW>'].values, real_vol=X_test['<VOL>'].values)"
      ],
      "metadata": {
        "id": "QAFXgZJ_F9kk"
      },
      "execution_count": null,
      "outputs": []
    },
    {
      "cell_type": "markdown",
      "source": [
        "# Creating Seperate Policy/Value Network Class using a 1D CNN Feature extractor\n",
        "\n",
        "Stable-baselines3's lists the following blog on PPO [37 implementation details of PPO](https://iclr-blog-track.github.io/2022/03/25/ppo-implementation-details/) which breaks down the different implementations of PPO. Furthermore, as the authors of [WHAT MATTERS FOR ON-POLICY DEEP ACTOR CRITIC METHODS? A LARGE-SCALE STUDY](https://openreview.net/pdf?id=nIAxjsniDzg) detail: \n",
        "\n",
        "\n",
        "> Separate value and policy networks (C47) appear to lead to better performance on our out of five environments (Fig. 15). To avoid analyzing the other choices based on bad models, we thus focus for the rest of this experiment only on agents with separate value and policy networks. Regarding network sizes, the optimal width of the policy MLP depends on the complexity of the environment (Fig. 18) and too low or too high values can cause significant drop in performance while for the value function there seems to be no downside in using wider networks (Fig. 21). Moreover, on some environments it is beneficial to make the value network wider than the policy one, e.g. on HalfCheetah the best results are achieved with 16 − 32 units per layer in the policy network and 256\n",
        "in the value network. Two hidden layers appear to work well for policy (Fig. 22) and value networks (Fig. 20) in all tested environments. As for activation functions, we observe that tanh activations perform best and relu worst\n",
        "\n",
        "> Interestingly, the initial policy appears to have a surprisingly high impact on the training performance.The key recipe is to initialize the policy at the beginning of training so that the action distribution is centered around 0<sup>10</sup> regardless of the observation and has a rather small standard deviation. This can be achieved by initializing the policy MLP with smaller weights in the last layer (C57, Fig. 24, this alone boosts the performance on Humanoid by 66%) so that the initial action distribution is almost\n",
        "independent of the observation...Other choices appear to be less important: The scale of the last layer initialization matters much less for the value MLP (C58) than for the policy MLP (Fig. 19). Apart from the last layer scaling, the\n",
        "network initialization scheme (C56) does not matter too much (Fig. 27)\n",
        "\n",
        "> Recommendation. Initialize the last policy layer with 100× smaller weights. Use softplus to transform network output into action standard deviation and add a (negative) offset to its input to decrease the initial standard deviation of actions. Tune this offset if possible. Use tanh both as the activation function (if the networks are not too deep) and to transform the samples from the normal\n",
        "distribution to the bounded action space. Use a wide value MLP (no layers shared with the policy) but tune the policy width (it might need to be narrower than the value MLP)\n",
        "\n",
        "With these statements in mind, I decided to implement a seperate-network architecture for PPO for both the policy and value network as detailed below. \n",
        "\n",
        "## 1D CNN Feature Extractor\n",
        "\n",
        "This is the architecture used for the Policy's feature extractor: \n",
        "```\n",
        "self.cnn = nn.Sequential(\n",
        "            nn.Conv1d(input, 32, kernel_size=2),\n",
        "            nn.ReLU(),\n",
        "            nn.Conv1d(32, 64, kernel_size=4),\n",
        "            nn.ReLU(),\n",
        "            nn.MaxPool1d(kernel_size=4),\n",
        "            nn.Flatten(),\n",
        "```\n",
        "This is the architecture used for the Value's feature extractor: \n",
        "```\n",
        "self.cnn = nn.Sequential(\n",
        "            nn.Conv1d(input,128,kernel_size=2),\n",
        "            nn.ReLU(),\n",
        "            nn.Conv1d(128, 256, kernel_size=4),\n",
        "            nn.ReLU(),\n",
        "            nn.MaxPool1d(kernel_size=4),\n",
        "            nn.Flatten(),\n",
        "        )\n",
        "\n",
        "```\n",
        "## Policy Network\n",
        "This is the architecture used for the Policy Network: \n",
        "```\n",
        "  self.policy_net = nn.Sequential(\n",
        "            layer_init(nn.Linear(feature_dim, 32)),\n",
        "            nn.Tanh(),\n",
        "            layer_init(nn.Linear(32, last_layer_dim_pi), std=0.01),\n",
        "            nn.Tanh(),  \n",
        "        )\n",
        "```\n",
        "## Value Network \n",
        "This is the architecture used for the Value Network:\n",
        "```\n",
        "self.value_net = nn.Sequential(\n",
        "           layer_init(nn.Linear(256, 256)),\n",
        "           nn.Tanh(),\n",
        "           layer_init(nn.Linear(256, 128)),\n",
        "           nn.Tanh(),\n",
        "           layer_init(nn.Linear(128,32)),\n",
        "           nn.Tanh(),\n",
        "           layer_init(nn.Linear(32,last_layer_dim_vf)),\n",
        "           nn.Tanh(),\n",
        "           )\n",
        "```\n",
        "\n"
      ],
      "metadata": {
        "id": "_-5jadJfRbDy"
      }
    },
    {
      "cell_type": "code",
      "source": [
        "def layer_init(layer, std=np.sqrt(2), bias_const=0.0):\n",
        "    th.nn.init.orthogonal_(layer.weight, std)\n",
        "    th.nn.init.constant_(layer.bias, bias_const)\n",
        "    return layer\n",
        "\n",
        "class StandkePolicyExtractor(BaseFeaturesExtractor):\n",
        "  def __init__(self, observation_space=gym.spaces.Box, features_dim=128):\n",
        "        super(StandkePolicyExtractor, self).__init__(observation_space, features_dim)\n",
        "        input = observation_space.shape[0]\n",
        "        # Feature Extractor\n",
        "        self.cnn = nn.Sequential(\n",
        "            nn.Conv1d(input,16,kernel_size=2),\n",
        "            nn.ReLU(),\n",
        "            nn.Conv1d(16, 32, kernel_size=4),\n",
        "            nn.ReLU(),\n",
        "            nn.MaxPool1d(kernel_size=4),\n",
        "            nn.Flatten(),\n",
        "        )\n",
        "\n",
        "        # Compute shape by doing one forward pass\n",
        "        with th.no_grad():\n",
        "            n_flatten = self.cnn(\n",
        "                th.as_tensor(observation_space.sample()[None]).float()\n",
        "            ).shape[1]\n",
        "  \n",
        "  def forward(self, observations):\n",
        "    return self.cnn(observations)\n",
        "\n",
        "\n",
        "class StandkeValueExtractor(BaseFeaturesExtractor):\n",
        "  def __init__(self, observation_space=gym.spaces.Box, features_dim=128):\n",
        "        super(StandkeValueExtractor, self).__init__(observation_space, features_dim)\n",
        "        input = observation_space.shape[0]\n",
        "        # Feature Extractor\n",
        "        self.cnn = nn.Sequential(\n",
        "            nn.Conv1d(input,128,kernel_size=2),\n",
        "            nn.ReLU(),\n",
        "            nn.Conv1d(128, 256, kernel_size=4),\n",
        "            nn.ReLU(),\n",
        "            nn.MaxPool1d(kernel_size=4),\n",
        "            nn.Flatten(),\n",
        "        )\n",
        "\n",
        "        # Compute shape by doing one forward pass\n",
        "        with th.no_grad():\n",
        "            n_flatten = self.cnn(\n",
        "                th.as_tensor(observation_space.sample()[None]).float()\n",
        "            ).shape[1]\n",
        "\n",
        "        \n",
        "  def forward(self, observations):\n",
        "    return self.cnn(observations)\n",
        "\n",
        "\n",
        "\n",
        "class StandkeNetwork(nn.Module):\n",
        "  def __init__(self,feature_dim=32, last_layer_dim_pi=2, last_layer_dim_vf=1):\n",
        "        super(StandkeNetwork, self).__init__()\n",
        "\n",
        "        # IMPORTANT:\n",
        "        # Save output dimensions, used to create the distributions\n",
        "        self.latent_dim_pi = last_layer_dim_pi\n",
        "        self.latent_dim_vf = last_layer_dim_vf\n",
        "\n",
        "         # Policy Network\n",
        "        self.policy_net = nn.Sequential(\n",
        "            layer_init(nn.Linear(feature_dim, 32)),\n",
        "            nn.Tanh(),\n",
        "            layer_init(nn.Linear(32, last_layer_dim_pi), std=0.01),\n",
        "            nn.Tanh(),  \n",
        "        )\n",
        "\n",
        "\n",
        "         # Value Network\n",
        "        self.value_net = nn.Sequential(\n",
        "           layer_init(nn.Linear(256, 256)),\n",
        "           nn.Tanh(),\n",
        "           layer_init(nn.Linear(256, 128)),\n",
        "           nn.Tanh(),\n",
        "           layer_init(nn.Linear(128,32)),\n",
        "           nn.Tanh(),\n",
        "           layer_init(nn.Linear(32,last_layer_dim_vf)),\n",
        "           nn.Tanh(),\n",
        "           )\n",
        "\n",
        "  def forward_actor(self, features: th.Tensor):\n",
        "    return self.policy_net(features)\n",
        "\n",
        "  def forward_critic(self, features: th.Tensor):\n",
        "    return self.value_net(features)\n",
        "  \n",
        "\n",
        "class StandkePolicy(ActorCriticPolicy):\n",
        "  def __init__(self, observation_space=gym.spaces.Box,action_space=gym.spaces.Box, lr_schedule=constant_fn(0.0003), activation_fn=nn.Tanh,*args,**kwargs):\n",
        "    \n",
        "        super(StandkePolicy, self).__init__(observation_space,action_space, lr_schedule, activation_fn,*args,**kwargs)\n",
        "        # non-shared features extractors \n",
        "        self.policy_features_extractor = StandkePolicyExtractor(observation_space)\n",
        "        self.value_features_extractor = StandkeValueExtractor(observation_space)\n",
        "        delattr(self, \"features_extractor\")  # remove the shared features extractor\n",
        "        # orthogonal initialization\n",
        "        self.ortho_init = False\n",
        "\n",
        "  def _build_mlp_extractor(self):\n",
        "    self.mlp_extractor = StandkeNetwork()\n",
        "\n",
        "  def extract_features(self, obs: th.Tensor):\n",
        "    policy_features = self.policy_features_extractor(obs)\n",
        "    value_features = self.value_features_extractor(obs)\n",
        "    return policy_features, value_features\n",
        "  \n",
        "  def forward(self, obs: th.Tensor, deterministic=False): \n",
        "    policy_features, value_features = self.extract_features(obs)\n",
        "    mu_pi = self.mlp_extractor.forward_actor(policy_features)\n",
        "    latent_vf = self.mlp_extractor.forward_critic(value_features)\n",
        "    # Evaluate the values for the given observations\n",
        "    distribution = self._get_action_dist_from_latent(mu_pi)\n",
        "    actions = distribution.get_actions(deterministic=deterministic)\n",
        "    log_prob = distribution.log_prob(actions)\n",
        "    vf = latent_vf\n",
        "    return actions, vf, log_prob\n",
        "\n",
        "  def evaluate_actions(self, obs: th.Tensor, actions: th.Tensor): \n",
        "    policy_features, value_features = self.extract_features(obs)\n",
        "    mu_pi = self.mlp_extractor.forward_actor(policy_features)\n",
        "    latent_vf = self.mlp_extractor.forward_critic(value_features)\n",
        "    distribution = self._get_action_dist_from_latent(mu_pi)\n",
        "    actions = distribution.get_actions(deterministic=False)\n",
        "    log_prob = distribution.log_prob(actions)\n",
        "    vf = latent_vf\n",
        "    return vf, log_prob, distribution.entropy()\n",
        "\n",
        "  def get_distribution(self, obs: th.Tensor):\n",
        "    policy_features, _ = self.extract_features(obs)\n",
        "    latent_pi = self.mlp_extractor.forward_actor(policy_features)\n",
        "    return self._get_action_dist_from_latent(latent_pi)\n",
        "\n",
        "  def predict_values(self, obs: th.Tensor):\n",
        "    _, value_features = self.extract_features(obs)\n",
        "    latent_vf = self.mlp_extractor.forward_critic(value_features)\n",
        "    return latent_vf"
      ],
      "metadata": {
        "id": "572gmNd6Q-kr"
      },
      "execution_count": null,
      "outputs": []
    },
    {
      "cell_type": "markdown",
      "source": [
        "# Tensorboard Callback to graph Mean Networth, Mean Episodic Reward, & Mean Episodic Balance on Test Data"
      ],
      "metadata": {
        "id": "PhSzVq3lcvN0"
      }
    },
    {
      "cell_type": "code",
      "source": [
        "def evaluate_policy(model,env,n_eval_episodes=2,deterministic=False):\n",
        "    episode_rewards, networths, episode_balances = [], [], []\n",
        "    for i in range(n_eval_episodes):\n",
        "        done, state = False, None\n",
        "        episode_reward = 0.0\n",
        "        episode_length = 0\n",
        "        episode_balance = 0\n",
        "        networth = 0\n",
        "        obs = env.reset()\n",
        "        while not done:\n",
        "            action, state = model.predict(obs, state=state, deterministic=deterministic)\n",
        "            new_obs, reward, done, _info = env.step(action)\n",
        "            obs = new_obs\n",
        "            episode_reward += reward\n",
        "            episode_balance += _info[0]['Balance']\n",
        "            # networth += _info[0]['Net Worth']\n",
        "        episode_rewards.append(episode_reward)\n",
        "        episode_balances.append(episode_balance)\n",
        "        networths.append(_info[0]['Net Worth'])\n",
        "    mean_reward = np.mean(episode_rewards)\n",
        "    mean_networth = np.mean(networths)\n",
        "    mean_balance = np.mean(episode_balances)\n",
        "    return mean_reward, mean_networth, mean_balance\n",
        "\n",
        "\n",
        "class TensorboardCallback(BaseCallback):\n",
        "    def __init__(self, env, eval,  verbose=1):\n",
        "        super(TensorboardCallback, self).__init__(verbose)\n",
        "        self.eval= eval\n",
        "        self.env = env\n",
        "\n",
        "    def _on_step(self):\n",
        "      if (self.num_timesteps % self.eval == 0):\n",
        "        m, net, bal = evaluate_policy(self.model, self.env)\n",
        "        self.logger.record('Validation Mean Networth', net)\n",
        "        self.logger.record('Mean Episode Balance', bal)\n",
        "      return True"
      ],
      "metadata": {
        "id": "1hEB-iRM4GLz"
      },
      "execution_count": null,
      "outputs": []
    },
    {
      "cell_type": "markdown",
      "source": [
        "# HyperParmater Tuning to Maxamize Balance\n",
        "\n",
        "Following the optimization sceme as outlined by Adam King in his article [Optimizing deep learning trading bots using state-of-the-art techniques](https://towardsdatascience.com/using-reinforcement-learning-to-trade-bitcoin-for-massive-profit-b69d0e8f583b) Bayesian Optimization was done using [Optuna](https://optuna.org/)\n",
        "\n",
        "\n",
        " \n",
        "\n"
      ],
      "metadata": {
        "id": "LKGZpOQ39eNU"
      }
    },
    {
      "cell_type": "code",
      "source": [
        "# # objective is maxamize reward\n",
        "\n",
        "# def objective_fn(trial):\n",
        "#     env_params = optimize_envs(trial)\n",
        "#     agent_params = optimize_ppo(trial)\n",
        "    \n",
        "#     train_env = DummyVecEnv([lambda: StockTradingEnv(train, random=False)])\n",
        "#     validation_env = DummyVecEnv([lambda: StockTradingEnv(test, random=False)])\n",
        "#     model = PPO(StandkePolicy, train_env, **agent_params)\n",
        "#     model.learn(len(train_env.get_attr('data')[0].date))\n",
        "#     done, track  = False, []\n",
        "#     obs = validation_env.reset()\n",
        "#     for i in range(len(validation_env.get_attr('data')[0].date)):\n",
        "#         action, _ = model.predict(obs)\n",
        "#         obs, reward, done, _info = validation_env.step(action)\n",
        "#         track.append(_info[0]['Balance'])\n",
        "#         if done:\n",
        "#           return np.mean(track)\n",
        "\n",
        "# # def optimize_ppo(trial):\n",
        "# #     return {\n",
        "# #         'gamma': trial.suggest_float('gamma1', 0.1, 0.9, log=True),\n",
        "# #         'clip_range': trial.suggest_float('clip_range1', 0.1, 0.5, log=True),\n",
        "# #         'clip_range_vf': trial.suggest_float('clip_range_vf2', 0.1, 0.5, log=True),\n",
        "# #         'ent_coef':trial.suggest_float('ent_coef3', 0.1, 0.9, log=True), \n",
        "# #         'vf_coef':trial.suggest_float('vf_coef4', 0.1, 0.9, log=True),\n",
        "# #         'target_kl': trial.suggest_float('target_kl5', 0.01, 0.05, log=True),\n",
        "# #     }\n",
        "\n",
        "# def optimize_ppo(trial):\n",
        "#   return {'learning_rate': trial.suggest_float('lr',2e-8,2e-4, log=True)}\n",
        "\n",
        "# def optimize_envs(trial):\n",
        "#     # return {'reward_func': trial.suggest_categorical('reward_func1', ['BalenceReward',  'StandkeCurrentValueReward'])}\n",
        "#     return {'reward_func': 'StandkeCurrentValueReward'}\n",
        "\n",
        "\n",
        "# study = optuna.create_study(study_name='StockEnvPPO_Parms', direction=\"maximize\", storage=\"sqlite:///PPOhyper.db\", load_if_exists=True)\n",
        "# study.optimize(objective_fn, n_trials=2000, show_progress_bar=True)"
      ],
      "metadata": {
        "id": "eskm_ga99dme"
      },
      "execution_count": null,
      "outputs": []
    },
    {
      "cell_type": "code",
      "source": [
        "# # loading the hyperparmeters for training\n",
        "# study = optuna.load_study(study_name='StockEnvPPO_Parms', storage='sqlite:///PPOhyper.db')\n",
        "# params = study.best_trial.params\n",
        "\n",
        "# # other hyperparameters after 3000 trials given gamma and sortinoRewardRatio \n",
        "# model_params = {\n",
        "#     'clip_range': params['clip_range1'],\n",
        "#     'ent_coef': params['ent_coef3'],\n",
        "#     'clip_range_vf': params['clip_range_vf2'],\n",
        "#     'vf_coef': params['vf_coef4']\n",
        "# }\n",
        "\n",
        "# # gamma parameter after 2853 trials under the sortinoRewardRatio \n",
        "# model_params['gamma'] = 0.20423582857078215"
      ],
      "metadata": {
        "id": "jMluKzP-E1u5"
      },
      "execution_count": null,
      "outputs": []
    },
    {
      "cell_type": "code",
      "source": [
        "model_params = {}"
      ],
      "metadata": {
        "id": "lvyb0Q83yoim"
      },
      "execution_count": null,
      "outputs": []
    },
    {
      "cell_type": "markdown",
      "metadata": {
        "id": "yg2HNywdyLaO"
      },
      "source": [
        "# Training and Validation Portion"
      ]
    },
    {
      "cell_type": "code",
      "source": [
        "FEQ = MAX_STEPS/100\n",
        "\n",
        "# the number of concurrent environments for training  \n",
        "ENV = 1\n",
        "\n",
        "# different model reward schemes\n",
        "MODEL = \"BalenceReward\"\n",
        "# MODEL = \"StandkeCurrentValueReward\"\n",
        "# MODEL = None \n",
        "\n",
        "\n",
        "env_params = {'reward_func': MODEL}"
      ],
      "metadata": {
        "id": "wLYFzy2-HWYI"
      },
      "execution_count": null,
      "outputs": []
    },
    {
      "cell_type": "code",
      "execution_count": null,
      "metadata": {
        "id": "cAJYlkEqIwcK"
      },
      "outputs": [],
      "source": [
        "# create evaluation env that takes in test data that saves best model \n",
        "eval_env = DummyVecEnv([lambda: StockTradingEnv(test, f'{MODEL}.txt', **env_params, random=False)])\n",
        "eval_callback = EvalCallback(eval_env, best_model_save_path=f'/content/drive/MyDrive/RLmodels/bestPPO/{MODEL}',\n",
        "                             log_path='/content/drive/MyDrive/RLmodels/logs/', eval_freq=FEQ,\n",
        "                             deterministic=False, render=False, n_eval_episodes=2)\n",
        "\n",
        "# create training envs that takes in training data for training\n",
        "envs =  DummyVecEnv([lambda: StockTradingEnv(train, f'{MODEL}.txt', **env_params, random=True) for _ in range(0,ENV)])\n",
        "\n",
        "'''training model using the Seperate Standke Policy/Value network'''\n",
        "# optional additional keyword parameters to pass to model \n",
        "policy_kwargs = dict()\n",
        "\n",
        "# creating callback list for tracking purposes \n",
        "callback = CallbackList([TensorboardCallback(eval_env, FEQ), eval_callback])\n",
        "\n",
        "model = PPO(StandkePolicy, envs, **model_params, verbose=1, tensorboard_log=f\"/content/PPO_SPY_tensorboard/{MODEL}\", policy_kwargs=policy_kwargs)\n",
        "\n",
        "# check to make sure no erros in the env, such as observation space errors or nans\n",
        "check_env(StockTradingEnv(train, f'{MODEL}.txt'))\n",
        "VecCheckNan(envs, raise_exception=True, check_inf=True)\n"
      ]
    },
    {
      "cell_type": "markdown",
      "source": [
        "# General explanation of log output \n",
        "\n",
        "As detailed by araffin in his commit [Add explanation of logger output](https://github.com/DLR-RM/stable-baselines3/pull/803/files), for a given log block such as\n",
        "\n",
        "```\n",
        "-----------------------------------------\n",
        "  | eval/                   |             |\n",
        "  |    mean_ep_length       | 200         |\n",
        "  |    mean_reward          | -157        |\n",
        "  | rollout/                |             |\n",
        "  |    ep_len_mean          | 200         |\n",
        "  |    ep_rew_mean          | -227        |\n",
        "  | time/                   |             |\n",
        "  |    fps                  | 972         |\n",
        "  |    iterations           | 19          |\n",
        "  |    time_elapsed         | 80          |\n",
        "  |    total_timesteps      | 77824       |\n",
        "  | train/                  |             |\n",
        "  |    approx_kl            | 0.037781604 |\n",
        "  |    clip_fraction        | 0.243       |\n",
        "  |    clip_range           | 0.2         |\n",
        "  |    entropy_loss         | -1.06       |\n",
        "  |    explained_variance   | 0.999       |\n",
        "  |    learning_rate        | 0.001       |\n",
        "  |    loss                 | 0.245       |\n",
        "  |    n_updates            | 180         |\n",
        "  |    policy_gradient_loss | -0.00398    |\n",
        "  |    std                  | 0.205       |\n",
        "  |    value_loss           | 0.226       |\n",
        "  -----------------------------------------\n",
        "```\n",
        "``eval/`` \n",
        "- ``mean_ep_length``: Mean episode length\n",
        "- ``mean_reward``: Mean episodic reward (during evaluation)\n",
        "``rollout/``\n",
        "- ``ep_len_mean``: Mean episode length (averaged over 100 episodes)\n",
        "- ``ep_rew_mean``: Mean episodic training reward (averaged over 100 episodes)\n",
        "``time/``\n",
        "- ``episodes``: Total number of episodes\n",
        "- ``fps``: Number of frames per seconds (includes time taken by gradient update)\n",
        "- ``iterations``: Number of iterations (data collection + policy update for A2C/PPO)\n",
        "- ``time_elapsed``: Time in seconds since the beginning of training\n",
        "- ``total_timesteps``: Total number of timesteps (steps in the environments)\n",
        "``train/``\n",
        "- ``clip_fraction``: mean fraction of surrogate loss that was clipped (above clip_range threshold) for PPO.\n",
        "- ``clip_range``: Current value of the clipping factor for the surrogate loss of PPO\n",
        "- ``learning_rate``: Current learning rate value\n",
        "- ``n_updates``: Number of gradient updates applied so far\n",
        "- ``policy_gradient_loss``: Current value of the policy gradient loss (its value does not have much meaning)\n",
        "- ``std``: Current standard deviation of the noise when using generalized State-Dependent Exploration (gSDE) (which by default is not used)\n",
        "\n",
        "# Important Training Metrics\n",
        "- ``approx_kl``: approximate mean KL divergence between old and new policy (for PPO), it is an estimation of how much change happened in the update (i.e. information gain or loss)\n",
        "  * **Want this value to SMOOTHLY decrease during training and be as close as possible to 0**\n",
        "- ``explained_variance``: Fraction of the return variance explained by the value function.\n",
        "  * **Should be SMOOTHLY increasing, and technically want values closer to 1 (but statistic interpertation is debatable because even with 0 the model does have predictive power, so the correct interpertaion of this statistic should be: *explained variation measures the proportion to which a mathematical model ACCOUNTS FOR THE VARIATION,not predictive power* [Explained Variation](https://en.wikipedia.org/wiki/Explained_variation)\"**\n",
        "- ``entropy_loss``: Mean value of the entropy loss (negative of the average policy entropy). \n",
        "  * **Should be MOVING**\n",
        "- ``loss``: called total loss is the the overall loss function\n",
        "  * **Should be SMOOTHLY decreasing, and technically, want to minimize this during training(though as discussed this isn't always possible due to randomness)**\n",
        "- ``value_loss``: error that value function is incurring \n",
        "  * **Should be SMOOTHLY decreasing, and technically,want to minimize this during training(though as discussed this isn't always possible due to randomness) **\n",
        "\n",
        "\n",
        "\n",
        "\n"
      ],
      "metadata": {
        "id": "9ATRRLz4RsLC"
      }
    },
    {
      "cell_type": "code",
      "execution_count": null,
      "metadata": {
        "id": "O6sMSFIuhLzx"
      },
      "outputs": [],
      "source": [
        "model.learn(total_timesteps=MAX_STEPS, callback=callback)"
      ]
    },
    {
      "cell_type": "markdown",
      "source": [
        "# Prediction and CSV Printout of Agent's Trading Behaviour on Test Data\n",
        "\n",
        "\n",
        "## Best Model Statistics-SpyData-StandkeCurrentValueReward\n",
        "\n",
        "## Best Model Statistics-YandexData-StandkeCurrentValueReward\n",
        "\n",
        "## Best Model Statistics-SpyData-BalenceReward\n",
        "\n",
        "## Best Model Statistics-YandexData-BalenceReward\n",
        "\n",
        "\n",
        "\n"
      ],
      "metadata": {
        "id": "p7JobsGk8f25"
      }
    },
    {
      "cell_type": "code",
      "source": [
        "# Model-Random Offset\n",
        "# model = PPO.load(f\"/content/drive/MyDrive/RLmodels/bestPPO/{MODEL}/best_model_random_offset.zip\")\n",
        "# # Model-No Random Offset\n",
        "model = PPO.load(f\"/content/drive/MyDrive/RLmodels/bestPPO/{MODEL}/best_model.zip\")\n",
        "env = StockTradingEnv(test, f'{MODEL}.txt', **env_params, random=False)\n",
        "obs = env.reset()\n",
        "for i in range(len(test.date)):\n",
        "  action, _states = model.predict(obs, deterministic=False)\n",
        "  obs, rewards, done, info = env.step(action)\n",
        "  env.render()\n",
        "  if done:\n",
        "    break"
      ],
      "metadata": {
        "id": "BgbcsONJQqI8"
      },
      "execution_count": null,
      "outputs": []
    },
    {
      "cell_type": "code",
      "source": [
        "df = pd.read_csv('/content/BalenceReward.txt')"
      ],
      "metadata": {
        "id": "SwOTgPolSBXP"
      },
      "execution_count": null,
      "outputs": []
    },
    {
      "cell_type": "code",
      "source": [
        "df.head()"
      ],
      "metadata": {
        "id": "8mhvJEKKSM_u"
      },
      "execution_count": null,
      "outputs": []
    },
    {
      "cell_type": "code",
      "source": [
        "args = {'xlabel':'Steps', 'ylabel':'Account'}\n",
        "plot = df.plot(**args)\n",
        "fig = plot.get_figure()\n",
        "fig.show()"
      ],
      "metadata": {
        "id": "O4GT3AwaDeY4"
      },
      "execution_count": null,
      "outputs": []
    },
    {
      "cell_type": "markdown",
      "source": [
        "# TensorBoard Analysis"
      ],
      "metadata": {
        "id": "hqTY07IM0Dyx"
      }
    },
    {
      "cell_type": "code",
      "execution_count": null,
      "metadata": {
        "id": "n02iHgNDTvYJ"
      },
      "outputs": [],
      "source": [
        "%load_ext tensorboard\n",
        "%tensorboard --logdir /content/PPO_SPY_tensorboard/ "
      ]
    },
    {
      "cell_type": "markdown",
      "source": [
        "# SPY Trading Results"
      ],
      "metadata": {
        "id": "tQ1ceqqc72lz"
      }
    },
    {
      "cell_type": "markdown",
      "source": [
        "# Yandex Trading Results"
      ],
      "metadata": {
        "id": "MaJ6hEMp7to4"
      }
    }
  ],
  "metadata": {
    "colab": {
      "collapsed_sections": [],
      "machine_shape": "hm",
      "provenance": [],
      "private_outputs": true,
      "mount_file_id": "1BnRqmo4sw9dhUsiP_WO4HGPM9M7Cryi7",
      "authorship_tag": "ABX9TyO4K5WZYoAy8NlCLwYg6P92",
      "include_colab_link": true
    },
    "gpuClass": "standard",
    "kernelspec": {
      "display_name": "Python 3",
      "name": "python3"
    },
    "language_info": {
      "name": "python"
    },
    "accelerator": "GPU"
  },
  "nbformat": 4,
  "nbformat_minor": 0
}